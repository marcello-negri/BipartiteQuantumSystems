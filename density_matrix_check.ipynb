{
 "cells": [
  {
   "cell_type": "markdown",
   "metadata": {},
   "source": [
    "# Bipartite two level systems: density matrix check\n",
    "\n",
    "The *Permutational Invariant Quantum Solver (PIQS)* is an open-source Python solver to study the exact Lindbladian dynamics of open quantum systems consisting of identical qubits. It is integrated in QuTiP and can be imported as a model.\n",
    "\n",
    "This tutorial is meant to check whether the results obtained with the PIQS method are equivalent to the ones obtained with QuTiP standard approach. The PIQS method represents the density matrix of the states in the Dicke basis whereas the QuTiP standard approach is to exploit the uncupled basis. The Dicke basis is degenerate with respect to the uncoupled one (hence it contains fewer states) and it is precisely this degeneracy that is at the core of the PIQS method. As a matter of fact, this degeneracy captures the permutational ivariance of the system. The master equation which describes the physics involved is in fact invariant under permutations of TLSs. The Dicke basis, which consists of the eigenstates of the collecitve spin operator, captures this invariance and it represents the system without loss of information. Every possible states is represented in the Dicke basis as a block diagonal matrix.\n",
    "\n",
    "The equivalence between the two methods is proven for the simple case of one species TLSs both with and without a common bosonic coupling. The original step is thus to prove that this equivalence is valid for two species in a bosonic cavity as well.\n",
    "\n",
    "This is achieved in the following way:\n",
    "\n",
    "1. The initial density matrix is prepared in the Dicke basis and converted to the uncoupled basis.\n",
    "2. Each initial state is passed to the corresponding method and the master equation is solved in both cases\n",
    "3. The resulting density matrices are compared: To do so the density matrix in the unoupled basis is reconverted to the Dicke basis.\n",
    "4. It is useful to look at the difference between the density matrices elements obtained with the two methods. \n",
    "\n",
    "We expect to obeserve small differences in the elements of the two matrices if the methods are equivalent"
   ]
  },
  {
   "cell_type": "code",
   "execution_count": 1,
   "metadata": {},
   "outputs": [
    {
     "name": "stdout",
     "output_type": "stream",
     "text": [
      "time: 18.3 ms\n"
     ]
    }
   ],
   "source": [
    "%load_ext autotime\n",
    "%load_ext autoreload\n",
    "%autoreload 2"
   ]
  },
  {
   "cell_type": "code",
   "execution_count": 2,
   "metadata": {},
   "outputs": [
    {
     "name": "stdout",
     "output_type": "stream",
     "text": [
      "time: 2.04 s\n"
     ]
    }
   ],
   "source": [
    "import initial_states as library\n",
    "\n",
    "import matplotlib.pyplot as plt\n",
    "import matplotlib as mpl\n",
    "import numpy as np\n",
    "\n",
    "from mpl_toolkits.axes_grid1 import make_axes_locatable\n",
    "from scipy import linalg\n",
    "\n",
    "from qutip import *\n",
    "from qutip import piqs"
   ]
  },
  {
   "cell_type": "code",
   "execution_count": 3,
   "metadata": {},
   "outputs": [
    {
     "name": "stdout",
     "output_type": "stream",
     "text": [
      "time: 79.9 ms\n"
     ]
    }
   ],
   "source": [
    "plt.rcParams[\"figure.figsize\"] = (12,8)"
   ]
  },
  {
   "cell_type": "code",
   "execution_count": 4,
   "metadata": {},
   "outputs": [
    {
     "name": "stdout",
     "output_type": "stream",
     "text": [
      "time: 87.2 ms\n"
     ]
    }
   ],
   "source": [
    "def plot_state (density):\n",
    "    density_real = np.absolute(density)\n",
    "    fig = plt.figure(figsize=(4, 3))\n",
    "    label_size = 16\n",
    "\n",
    "    plt.rc('xtick', labelsize=label_size) \n",
    "    plt.rc('ytick', labelsize=label_size)\n",
    "\n",
    "    ax1 = fig.add_subplot(111)\n",
    "    ax1.set_title('density matrix', fontsize=label_size)\n",
    "    ax1.set_xticks([])\n",
    "    ax1.set_yticks([])\n",
    "    im1 = ax1.imshow(density_real, interpolation='None', cmap='Blues', norm=mpl.colors.LogNorm())\n",
    "    divider = make_axes_locatable(ax1)\n",
    "    cax = divider.append_axes('right', size='5%', pad=0.10)\n",
    "    fig.colorbar(im1, cax=cax, orientation='vertical')\n",
    "\n",
    "    plt.show()\n",
    "    plt.close()"
   ]
  },
  {
   "cell_type": "markdown",
   "metadata": {},
   "source": [
    "<h1><center> One species: 2 TLSs </center></h1>\n",
    "\\begin{eqnarray}\n",
    "H_\\text{TLS}&=&\\hbar\\omega_0 J_z+\\hbar\\omega_x J_x \n",
    "\\end{eqnarray}\n",
    "\n",
    "\\begin{eqnarray}\n",
    "\\dot{\\rho} = \\mathcal{D}_\\text{TLS}(\\rho)\n",
    "&=&-\\frac{i}{\\hbar}\\lbrack H_\\text{TLS},\\rho \\rbrack\\\\\n",
    "&&+\\frac{\\gamma_\\Downarrow}{2}\\mathcal{L}_{J_{-}}[\\rho]\n",
    "+\\frac{\\gamma_\\Phi}{2}\\mathcal{L}_{J_{z}}[\\rho]\n",
    "+\\frac{\\gamma_\\Uparrow}{2}\\mathcal{L}_{J_{+}}[\\rho]\\\\\n",
    "&&+\\sum_{n=1}^{N}\\left(\n",
    "\\frac{\\gamma_\\text{E}}{2}\\mathcal{L}_{J_{-,n}}[\\rho]\n",
    "+\\frac{\\gamma_\\text{D}}{2}\\mathcal{L}_{J_{z,n}}[\\rho]\n",
    "+\\frac{\\gamma_\\text{P}}{2}\\mathcal{L}_{J_{+,n}}[\\rho]\\right)\n",
    "\\end{eqnarray}"
   ]
  },
  {
   "cell_type": "code",
   "execution_count": 5,
   "metadata": {},
   "outputs": [
    {
     "name": "stdout",
     "output_type": "stream",
     "text": [
      "time: 57 ms\n"
     ]
    }
   ],
   "source": [
    "N = 2"
   ]
  },
  {
   "cell_type": "code",
   "execution_count": 6,
   "metadata": {},
   "outputs": [
    {
     "name": "stdout",
     "output_type": "stream",
     "text": [
      "time: 50.6 ms\n"
     ]
    }
   ],
   "source": [
    "unc_to_dicke = [[1.,0,0,0],\n",
    "                [0,1/np.sqrt(2), 1/np.sqrt(2),0],\n",
    "                [0,0,0,1.],\n",
    "                [0,1/np.sqrt(2), -1/np.sqrt(2),0]]\n",
    "dicke_to_unc = linalg.inv(unc_to_dicke)"
   ]
  },
  {
   "cell_type": "code",
   "execution_count": 7,
   "metadata": {},
   "outputs": [
    {
     "data": {
      "text/plain": [
       "array([[ 1.        , -0.        , -0.        ,  0.        ],\n",
       "       [ 0.        ,  0.70710678, -0.        ,  0.70710678],\n",
       "       [ 0.        ,  0.70710678,  0.        , -0.70710678],\n",
       "       [ 0.        ,  0.        ,  1.        ,  0.        ]])"
      ]
     },
     "execution_count": 7,
     "metadata": {},
     "output_type": "execute_result"
    },
    {
     "name": "stdout",
     "output_type": "stream",
     "text": [
      "time: 35.9 ms\n"
     ]
    }
   ],
   "source": [
    "dicke_to_unc"
   ]
  },
  {
   "cell_type": "code",
   "execution_count": 8,
   "metadata": {},
   "outputs": [
    {
     "data": {
      "image/png": "[encoded data removed]",
      "text/plain": [
       "<Figure size 288x216 with 2 Axes>"
      ]
     },
     "metadata": {
      "needs_background": "light"
     },
     "output_type": "display_data"
    },
    {
     "data": {
      "text/plain": [
       "array([[0., 0., 0., 0.],\n",
       "       [0., 0., 0., 0.],\n",
       "       [0., 0., 1., 0.],\n",
       "       [0., 0., 0., 0.]])"
      ]
     },
     "execution_count": 8,
     "metadata": {},
     "output_type": "execute_result"
    },
    {
     "name": "stdout",
     "output_type": "stream",
     "text": [
      "time: 907 ms\n"
     ]
    }
   ],
   "source": [
    "initial_state_piqs = piqs.ground(N)\n",
    "plot_state(initial_state_piqs)\n",
    "np.real(initial_state_piqs)"
   ]
  },
  {
   "cell_type": "code",
   "execution_count": 9,
   "metadata": {},
   "outputs": [
    {
     "data": {
      "image/png": "[encoded data removed]",
      "text/plain": [
       "<Figure size 288x216 with 2 Axes>"
      ]
     },
     "metadata": {
      "needs_background": "light"
     },
     "output_type": "display_data"
    },
    {
     "data": {
      "text/plain": [
       "array([[0., 0., 0., 0.],\n",
       "       [0., 0., 0., 0.],\n",
       "       [0., 0., 0., 0.],\n",
       "       [0., 0., 0., 1.]])"
      ]
     },
     "execution_count": 9,
     "metadata": {},
     "output_type": "execute_result"
    },
    {
     "name": "stdout",
     "output_type": "stream",
     "text": [
      "time: 628 ms\n"
     ]
    }
   ],
   "source": [
    "initial_state_qutip = Qobj(np.dot(np.dot(dicke_to_unc, initial_state_piqs), unc_to_dicke))\n",
    "plot_state(initial_state_qutip)\n",
    "np.real(initial_state_qutip)"
   ]
  },
  {
   "cell_type": "markdown",
   "metadata": {},
   "source": [
    "#### Time evolution and transformation"
   ]
  },
  {
   "cell_type": "code",
   "execution_count": 10,
   "metadata": {},
   "outputs": [
    {
     "data": {
      "text/plain": [
       "array([[ 2.49919922e-01,  5.66624173e-06, -1.03767650e-07,\n",
       "         0.00000000e+00],\n",
       "       [ 5.66624173e-06,  2.50122244e-01,  9.00356627e-06,\n",
       "         0.00000000e+00],\n",
       "       [-1.03767650e-07,  9.00356627e-06,  2.50262138e-01,\n",
       "         0.00000000e+00],\n",
       "       [ 0.00000000e+00,  0.00000000e+00,  0.00000000e+00,\n",
       "         2.49695696e-01]])"
      ]
     },
     "execution_count": 10,
     "metadata": {},
     "output_type": "execute_result"
    },
    {
     "name": "stdout",
     "output_type": "stream",
     "text": [
      "time: 245 ms\n"
     ]
    }
   ],
   "source": [
    "piqs_state = library.one_species_piqs_mesolve(2, initial_state_piqs)[-1]\n",
    "piqs_state = np.array(piqs_state)\n",
    "np.real(piqs_state)"
   ]
  },
  {
   "cell_type": "code",
   "execution_count": 11,
   "metadata": {},
   "outputs": [
    {
     "data": {
      "text/plain": [
       "array([[ 2.49919928e-01,  4.00270366e-06,  4.00270366e-06,\n",
       "        -1.03776871e-07],\n",
       "       [ 4.00270366e-06,  2.49908972e-01,  2.13275018e-04,\n",
       "         6.36283449e-06],\n",
       "       [ 4.00270366e-06,  2.13275018e-04,  2.49908972e-01,\n",
       "         6.36283449e-06],\n",
       "       [-1.03776871e-07,  6.36283449e-06,  6.36283449e-06,\n",
       "         2.50262127e-01]])"
      ]
     },
     "execution_count": 11,
     "metadata": {},
     "output_type": "execute_result"
    },
    {
     "name": "stdout",
     "output_type": "stream",
     "text": [
      "time: 363 ms\n"
     ]
    }
   ],
   "source": [
    "qutip_state = np.array(library.one_species_qutip_mesolve(2, initial_state_qutip)[-1])\n",
    "np.real(qutip_state)"
   ]
  },
  {
   "cell_type": "code",
   "execution_count": 12,
   "metadata": {},
   "outputs": [
    {
     "name": "stdout",
     "output_type": "stream",
     "text": [
      "time: 27.3 ms\n"
     ]
    }
   ],
   "source": [
    "qutip_state_transformed = np.dot(np.dot(unc_to_dicke, qutip_state), dicke_to_unc)"
   ]
  },
  {
   "cell_type": "code",
   "execution_count": 13,
   "metadata": {},
   "outputs": [
    {
     "data": {
      "image/png": "[encoded data removed]",
      "text/plain": [
       "<Figure size 288x216 with 2 Axes>"
      ]
     },
     "metadata": {
      "needs_background": "light"
     },
     "output_type": "display_data"
    },
    {
     "data": {
      "text/plain": [
       "array([[ 2.49919922e-01+1.35927346e-20j,  5.66624173e-06-8.30664755e-05j,\n",
       "        -1.03767650e-07-8.71029391e-08j,  0.00000000e+00+0.00000000e+00j],\n",
       "       [ 5.66624173e-06+8.30664755e-05j,  2.50122244e-01+2.24561972e-21j,\n",
       "         9.00356627e-06-8.11527460e-05j,  0.00000000e+00+0.00000000e+00j],\n",
       "       [-1.03767650e-07+8.71029391e-08j,  9.00356627e-06+8.11527460e-05j,\n",
       "         2.50262138e-01-1.74280002e-20j,  0.00000000e+00+0.00000000e+00j],\n",
       "       [ 0.00000000e+00+0.00000000e+00j,  0.00000000e+00+0.00000000e+00j,\n",
       "         0.00000000e+00+0.00000000e+00j,  2.49695696e-01+1.58964585e-21j]])"
      ]
     },
     "execution_count": 13,
     "metadata": {},
     "output_type": "execute_result"
    },
    {
     "name": "stdout",
     "output_type": "stream",
     "text": [
      "time: 306 ms\n"
     ]
    }
   ],
   "source": [
    "plot_state(piqs_state)\n",
    "piqs_state"
   ]
  },
  {
   "cell_type": "code",
   "execution_count": 14,
   "metadata": {},
   "outputs": [
    {
     "data": {
      "image/png": "[encoded data removed]",
      "text/plain": [
       "<Figure size 288x216 with 2 Axes>"
      ]
     },
     "metadata": {
      "needs_background": "light"
     },
     "output_type": "display_data"
    },
    {
     "data": {
      "text/plain": [
       "array([[ 2.49919928e-01-2.23944273e-20j,  5.66067780e-06-8.30821984e-05j,\n",
       "        -1.03776871e-07-8.71198220e-08j,  1.20335598e-19-1.69405926e-19j],\n",
       "       [ 5.66067780e-06+8.30821984e-05j,  2.50122247e-01+1.86384210e-21j,\n",
       "         8.99840682e-06-8.11680713e-05j, -1.25985501e-17-2.66246958e-20j],\n",
       "       [-1.03776871e-07+8.71198220e-08j,  8.99840682e-06+8.11680713e-05j,\n",
       "         2.50262127e-01+2.21054595e-20j, -6.23855961e-20+9.95172487e-20j],\n",
       "       [ 1.23539078e-19+2.41020681e-20j,  2.24355176e-17-1.23903418e-20j,\n",
       "         4.26894883e-20+3.47098769e-19j,  2.49695697e-01-1.57487427e-21j]])"
      ]
     },
     "execution_count": 14,
     "metadata": {},
     "output_type": "execute_result"
    },
    {
     "name": "stdout",
     "output_type": "stream",
     "text": [
      "time: 325 ms\n"
     ]
    }
   ],
   "source": [
    "plot_state(qutip_state_transformed)\n",
    "qutip_state_transformed"
   ]
  },
  {
   "cell_type": "code",
   "execution_count": 15,
   "metadata": {},
   "outputs": [
    {
     "data": {
      "image/png": "[encoded data removed]",
      "text/plain": [
       "<Figure size 288x216 with 2 Axes>"
      ]
     },
     "metadata": {
      "needs_background": "light"
     },
     "output_type": "display_data"
    },
    {
     "name": "stdout",
     "output_type": "stream",
     "text": [
      "max value =  0.00020028041614178244\n"
     ]
    },
    {
     "data": {
      "text/plain": [
       "array([[2.37357406e-08, 2.00280416e-04, 1.41972556e-04, 2.07795630e-19],\n",
       "       [2.00280416e-04, 1.31122999e-08, 1.98009121e-04, 1.25985782e-17],\n",
       "       [1.41972556e-04, 1.98009121e-04, 4.08759673e-08, 1.17454865e-19],\n",
       "       [1.25868239e-19, 2.24355211e-17, 3.49714094e-19, 4.07693836e-09]])"
      ]
     },
     "execution_count": 15,
     "metadata": {},
     "output_type": "execute_result"
    },
    {
     "name": "stdout",
     "output_type": "stream",
     "text": [
      "time: 286 ms\n"
     ]
    }
   ],
   "source": [
    "rel_diff = np.absolute(np.divide(qutip_state_transformed-piqs_state, qutip_state_transformed))\n",
    "qutip_state_transformed = np.absolute(qutip_state_transformed)\n",
    "mask = (piqs_state == 0)\n",
    "rel_diff[mask] = qutip_state_transformed[mask]\n",
    "plot_state(rel_diff)\n",
    "print('max value = ', rel_diff.max())\n",
    "rel_diff"
   ]
  },
  {
   "cell_type": "markdown",
   "metadata": {},
   "source": [
    "<h1><center> One species: 2 TLSs in drive cavity</center></h1>\n",
    "\\begin{eqnarray}\n",
    "H_\\text{TLS}&=&\\hbar\\omega_0 J_z+\\hbar\\omega_x J_x \n",
    "\\quad \\quad \\quad \n",
    "H_\\text{phot} = \\hbar \\omega_c a^\\dagger a\n",
    "\\quad \\quad \\quad\n",
    "H_\\text{int} = \\hbar g (a^\\dagger + a) J_x\n",
    "\\end{eqnarray}\n",
    "\n",
    "\\begin{eqnarray}\n",
    "\\dot{\\rho} = \\mathcal{D}_\\text{TLS}(\\rho)+\\mathcal{D}_\\text{phot}(\\rho) -\\frac{i}{\\hbar}\\lbrack H_\\text{int}, \\rho\\rbrack\n",
    "&=&-\\frac{i}{\\hbar}\\lbrack H_\\text{TLS}+H_\\text{phot}+H_\\text{int},\\rho \\rbrack\\\\\n",
    "&&+\\frac{\\gamma_\\Downarrow}{2}\\mathcal{L}_{J_{-}}[\\rho]\n",
    "+\\frac{\\gamma_\\Phi}{2}\\mathcal{L}_{J_{z}}[\\rho]\n",
    "+\\frac{\\gamma_\\Uparrow}{2}\\mathcal{L}_{J_{+}}[\\rho]\\\\\n",
    "&&+\\frac{w_p}{2}\\mathcal{L}_{a^\\dagger}[\\rho]\n",
    "+\\frac{\\kappa}{2}\\mathcal{L}_{a}[\\rho]\\\\\n",
    "&&+\\sum_{n=1}^{N}\\left(\n",
    "\\frac{\\gamma_\\text{E}}{2}\\mathcal{L}_{J_{-,n}}[\\rho]\n",
    "+\\frac{\\gamma_\\text{D}}{2}\\mathcal{L}_{J_{z,n}}[\\rho]\n",
    "+\\frac{\\gamma_\\text{P}}{2}\\mathcal{L}_{J_{+,n}}[\\rho]\\right)\n",
    "\\end{eqnarray}"
   ]
  },
  {
   "cell_type": "code",
   "execution_count": 16,
   "metadata": {},
   "outputs": [
    {
     "name": "stdout",
     "output_type": "stream",
     "text": [
      "time: 35 ms\n"
     ]
    }
   ],
   "source": [
    "N = 2"
   ]
  },
  {
   "cell_type": "code",
   "execution_count": 17,
   "metadata": {},
   "outputs": [
    {
     "name": "stdout",
     "output_type": "stream",
     "text": [
      "time: 36.9 ms\n"
     ]
    }
   ],
   "source": [
    "unc_to_dicke = [[1.,0,0,0],\n",
    "                [0,1/np.sqrt(2), 1/np.sqrt(2),0],\n",
    "                [0,0,0,1.],\n",
    "                [0,1/np.sqrt(2), -1/np.sqrt(2),0]]\n",
    "dicke_to_unc = linalg.inv(unc_to_dicke)\n",
    "\n",
    "id_phot = [[1.,0.],[0.,1.]]\n",
    "unc_dicke_phot = np.kron(unc_to_dicke, id_phot) \n",
    "\n",
    "dicke_unc_phot = linalg.inv(unc_dicke_phot)"
   ]
  },
  {
   "cell_type": "code",
   "execution_count": 18,
   "metadata": {},
   "outputs": [
    {
     "data": {
      "image/png": "[encoded data removed]",
      "text/plain": [
       "<Figure size 288x216 with 2 Axes>"
      ]
     },
     "metadata": {
      "needs_background": "light"
     },
     "output_type": "display_data"
    },
    {
     "data": {
      "text/plain": [
       "array([[0., 0., 0., 0.],\n",
       "       [0., 0., 0., 0.],\n",
       "       [0., 0., 1., 0.],\n",
       "       [0., 0., 0., 0.]])"
      ]
     },
     "execution_count": 18,
     "metadata": {},
     "output_type": "execute_result"
    },
    {
     "name": "stdout",
     "output_type": "stream",
     "text": [
      "time: 835 ms\n"
     ]
    }
   ],
   "source": [
    "initial_state_piqs = piqs.ground(N)\n",
    "plot_state(initial_state_piqs)\n",
    "np.real(initial_state_piqs)"
   ]
  },
  {
   "cell_type": "code",
   "execution_count": 19,
   "metadata": {},
   "outputs": [
    {
     "data": {
      "image/png": "[encoded data removed]",
      "text/plain": [
       "<Figure size 288x216 with 2 Axes>"
      ]
     },
     "metadata": {
      "needs_background": "light"
     },
     "output_type": "display_data"
    },
    {
     "data": {
      "text/plain": [
       "array([[0., 0., 0., 0.],\n",
       "       [0., 0., 0., 0.],\n",
       "       [0., 0., 0., 0.],\n",
       "       [0., 0., 0., 1.]])"
      ]
     },
     "execution_count": 19,
     "metadata": {},
     "output_type": "execute_result"
    },
    {
     "name": "stdout",
     "output_type": "stream",
     "text": [
      "time: 605 ms\n"
     ]
    }
   ],
   "source": [
    "initial_state_qutip = Qobj(np.dot(np.dot(dicke_to_unc, initial_state_piqs), unc_to_dicke))\n",
    "plot_state(initial_state_qutip)\n",
    "np.real(initial_state_qutip)"
   ]
  },
  {
   "cell_type": "markdown",
   "metadata": {},
   "source": [
    "#### Time evolution and transformation"
   ]
  },
  {
   "cell_type": "code",
   "execution_count": 20,
   "metadata": {},
   "outputs": [
    {
     "data": {
      "text/plain": [
       "array([[ 1.26041455e-01, -8.71768503e-05, -8.88187122e-04,\n",
       "        -8.44214785e-03, -1.03418905e-03, -3.05710213e-07,\n",
       "         0.00000000e+00,  0.00000000e+00],\n",
       "       [-8.71768503e-05,  1.00234005e-01, -9.24001882e-03,\n",
       "        -9.50925485e-04,  7.82388936e-05,  1.41470583e-03,\n",
       "         0.00000000e+00,  0.00000000e+00],\n",
       "       [-8.88187122e-04, -9.24001882e-03,  1.29009737e-01,\n",
       "         2.19759122e-04, -1.24786359e-03, -8.46273311e-03,\n",
       "         0.00000000e+00,  0.00000000e+00],\n",
       "       [-8.44214785e-03, -9.50925485e-04,  2.19759122e-04,\n",
       "         1.20501349e-01, -1.02770644e-02, -7.46803971e-04,\n",
       "         0.00000000e+00,  0.00000000e+00],\n",
       "       [-1.03418905e-03,  7.82388936e-05, -1.24786359e-03,\n",
       "        -1.02770644e-02,  1.52475749e-01,  4.62982239e-04,\n",
       "         0.00000000e+00,  0.00000000e+00],\n",
       "       [-3.05710213e-07,  1.41470583e-03, -8.46273311e-03,\n",
       "        -7.46803971e-04,  4.62982239e-04,  1.21931520e-01,\n",
       "         0.00000000e+00,  0.00000000e+00],\n",
       "       [ 0.00000000e+00,  0.00000000e+00,  0.00000000e+00,\n",
       "         0.00000000e+00,  0.00000000e+00,  0.00000000e+00,\n",
       "         1.64676406e-01, -4.54089302e-06],\n",
       "       [ 0.00000000e+00,  0.00000000e+00,  0.00000000e+00,\n",
       "         0.00000000e+00,  0.00000000e+00,  0.00000000e+00,\n",
       "        -4.54089302e-06,  8.51297783e-02]])"
      ]
     },
     "execution_count": 20,
     "metadata": {},
     "output_type": "execute_result"
    },
    {
     "name": "stdout",
     "output_type": "stream",
     "text": [
      "time: 347 ms\n"
     ]
    }
   ],
   "source": [
    "piqs_state = np.array(library.one_species_piqs_mesolve(2,initial_state_piqs,2)[-1])\n",
    "np.real(piqs_state)"
   ]
  },
  {
   "cell_type": "code",
   "execution_count": 21,
   "metadata": {},
   "outputs": [
    {
     "data": {
      "text/plain": [
       "array([[ 1.26088795e-01, -8.99352860e-05, -6.09607068e-04,\n",
       "        -5.78448300e-03, -6.08040584e-04, -5.74730111e-03,\n",
       "        -1.02936873e-03,  1.06065550e-05],\n",
       "       [-8.99352860e-05,  1.00718842e-01, -6.33745209e-03,\n",
       "        -6.53610120e-04, -6.35374501e-03, -6.61052403e-04,\n",
       "         7.12899341e-05,  1.38355676e-03],\n",
       "       [-6.09607068e-04, -6.33745209e-03,  1.46610125e-01,\n",
       "         1.16701460e-04, -1.78550120e-02,  9.00419166e-05,\n",
       "        -8.54302266e-04, -5.75444789e-03],\n",
       "       [-5.78448300e-03, -6.53610120e-04,  1.16701460e-04,\n",
       "         1.03272915e-01,  8.99577513e-05,  1.73406280e-02,\n",
       "        -7.04430686e-03, -5.18714692e-04],\n",
       "       [-6.08040584e-04, -6.35374501e-03, -1.78550120e-02,\n",
       "         8.99577513e-05,  1.46586608e-01,  1.11519988e-04,\n",
       "        -8.48732769e-04, -5.79621038e-03],\n",
       "       [-5.74730111e-03, -6.61052403e-04,  9.00419166e-05,\n",
       "         1.73406280e-02,  1.11519988e-04,  1.03266074e-01,\n",
       "        -7.02374696e-03, -5.19681086e-04],\n",
       "       [-1.02936873e-03,  7.12899341e-05, -8.54302266e-04,\n",
       "        -7.04430686e-03, -8.48732769e-04, -7.02374696e-03,\n",
       "         1.51667956e-01,  4.36130521e-04],\n",
       "       [ 1.06065550e-05,  1.38355676e-03, -5.75444789e-03,\n",
       "        -5.18714692e-04, -5.79621038e-03, -5.19681086e-04,\n",
       "         4.36130521e-04,  1.21788685e-01]])"
      ]
     },
     "execution_count": 21,
     "metadata": {},
     "output_type": "execute_result"
    },
    {
     "name": "stdout",
     "output_type": "stream",
     "text": [
      "time: 401 ms\n"
     ]
    }
   ],
   "source": [
    "qutip_state = library.one_species_qutip_mesolve(2,initial_state_qutip,2)[-1]\n",
    "np.real(qutip_state)"
   ]
  },
  {
   "cell_type": "code",
   "execution_count": 22,
   "metadata": {},
   "outputs": [
    {
     "name": "stdout",
     "output_type": "stream",
     "text": [
      "time: 27.2 ms\n"
     ]
    }
   ],
   "source": [
    "qutip_state_transformed = np.dot(np.dot(unc_dicke_phot, qutip_state), dicke_unc_phot)"
   ]
  },
  {
   "cell_type": "code",
   "execution_count": 23,
   "metadata": {
    "scrolled": true
   },
   "outputs": [
    {
     "data": {
      "image/png": "[encoded data removed]",
      "text/plain": [
       "<Figure size 288x216 with 2 Axes>"
      ]
     },
     "metadata": {
      "needs_background": "light"
     },
     "output_type": "display_data"
    },
    {
     "data": {
      "text/plain": [
       "array([[ 1.26041455e-01+4.19954374e-18j, -8.71768503e-05+2.84007359e-05j,\n",
       "        -8.88187122e-04+1.34314041e-04j, -8.44214785e-03+9.51235845e-03j,\n",
       "        -1.03418905e-03+4.17035726e-03j, -3.05710213e-07-1.34272593e-04j,\n",
       "         0.00000000e+00+0.00000000e+00j,  0.00000000e+00+0.00000000e+00j],\n",
       "       [-8.71768503e-05-2.84007359e-05j,  1.00234005e-01-4.07426647e-19j,\n",
       "        -9.24001882e-03-2.94310289e-03j, -9.50925485e-04-6.69914635e-04j,\n",
       "         7.82388936e-05+6.42078029e-05j,  1.41470583e-03-4.17445321e-03j,\n",
       "         0.00000000e+00+0.00000000e+00j,  0.00000000e+00+0.00000000e+00j],\n",
       "       [-8.88187122e-04-1.34314041e-04j, -9.24001882e-03+2.94310289e-03j,\n",
       "         1.29009737e-01+1.14170332e-19j,  2.19759122e-04-3.74502366e-05j,\n",
       "        -1.24786359e-03-8.14107711e-04j, -8.46273311e-03+1.03869346e-02j,\n",
       "         0.00000000e+00+0.00000000e+00j,  0.00000000e+00+0.00000000e+00j],\n",
       "       [-8.44214785e-03-9.51235845e-03j, -9.50925485e-04+6.69914635e-04j,\n",
       "         2.19759122e-04+3.74502366e-05j,  1.20501349e-01+4.01370436e-19j,\n",
       "        -1.02770644e-02-3.43349478e-03j, -7.46803971e-04+2.40810221e-04j,\n",
       "         0.00000000e+00+0.00000000e+00j,  0.00000000e+00+0.00000000e+00j],\n",
       "       [-1.03418905e-03-4.17035726e-03j,  7.82388936e-05-6.42078029e-05j,\n",
       "        -1.24786359e-03+8.14107711e-04j, -1.02770644e-02+3.43349478e-03j,\n",
       "         1.52475749e-01-3.57817337e-18j,  4.62982239e-04-6.02756509e-05j,\n",
       "         0.00000000e+00+0.00000000e+00j,  0.00000000e+00+0.00000000e+00j],\n",
       "       [-3.05710213e-07+1.34272593e-04j,  1.41470583e-03+4.17445321e-03j,\n",
       "        -8.46273311e-03-1.03869346e-02j, -7.46803971e-04-2.40810221e-04j,\n",
       "         4.62982239e-04+6.02756509e-05j,  1.21931520e-01-7.98741357e-19j,\n",
       "         0.00000000e+00+0.00000000e+00j,  0.00000000e+00+0.00000000e+00j],\n",
       "       [ 0.00000000e+00+0.00000000e+00j,  0.00000000e+00+0.00000000e+00j,\n",
       "         0.00000000e+00+0.00000000e+00j,  0.00000000e+00+0.00000000e+00j,\n",
       "         0.00000000e+00+0.00000000e+00j,  0.00000000e+00+0.00000000e+00j,\n",
       "         1.64676406e-01+5.10562510e-19j, -4.54089302e-06+4.56467598e-05j],\n",
       "       [ 0.00000000e+00+0.00000000e+00j,  0.00000000e+00+0.00000000e+00j,\n",
       "         0.00000000e+00+0.00000000e+00j,  0.00000000e+00+0.00000000e+00j,\n",
       "         0.00000000e+00+0.00000000e+00j,  0.00000000e+00+0.00000000e+00j,\n",
       "        -4.54089302e-06-4.56467598e-05j,  8.51297783e-02-4.41305646e-19j]])"
      ]
     },
     "execution_count": 23,
     "metadata": {},
     "output_type": "execute_result"
    },
    {
     "name": "stdout",
     "output_type": "stream",
     "text": [
      "time: 426 ms\n"
     ]
    }
   ],
   "source": [
    "plot_state(piqs_state)\n",
    "np.array(piqs_state)"
   ]
  },
  {
   "cell_type": "code",
   "execution_count": 24,
   "metadata": {
    "scrolled": true
   },
   "outputs": [
    {
     "data": {
      "image/png": "[encoded data removed]",
      "text/plain": [
       "<Figure size 288x216 with 2 Axes>"
      ]
     },
     "metadata": {
      "needs_background": "light"
     },
     "output_type": "display_data"
    },
    {
     "data": {
      "text/plain": [
       "array([[ 1.26088795e-01+9.08711697e-19j, -8.99352860e-05+3.35834057e-05j,\n",
       "        -8.61006912e-04+1.35907330e-04j, -8.15420274e-03+9.42125105e-03j,\n",
       "        -1.02936873e-03+4.13666327e-03j,  1.06065550e-05-1.29655276e-04j,\n",
       "        -1.10767149e-06-7.67241347e-06j, -2.62915704e-05+1.59045467e-05j],\n",
       "       [-8.99352860e-05-3.35834057e-05j,  1.00718842e-01-3.39943899e-19j,\n",
       "        -8.97403153e-03-2.94491403e-03j, -9.29606785e-04-6.59898414e-04j,\n",
       "         7.12899341e-05+6.64253537e-05j,  1.38355676e-03-4.13333970e-03j,\n",
       "         1.15208399e-05-4.94939132e-05j,  5.26248895e-06+6.20607751e-07j],\n",
       "       [-8.61006912e-04-1.35907330e-04j, -8.97403153e-03+2.94491403e-03j,\n",
       "         1.28743355e-01+2.94993332e-19j,  2.04110558e-04-3.22792512e-05j,\n",
       "        -1.20422762e-03-8.15378528e-04j, -8.16754879e-03+1.02488868e-02j,\n",
       "         1.17585692e-05+1.94221287e-05j,  2.54865320e-06+7.37081173e-06j],\n",
       "       [-8.15420274e-03-9.42125105e-03j, -9.29606785e-04+6.59898414e-04j,\n",
       "         2.04110558e-04+3.22792512e-05j,  1.20610122e-01+2.48241090e-19j,\n",
       "        -9.94761626e-03-3.41999618e-03j, -7.34256696e-04+2.44024461e-04j,\n",
       "         2.63281848e-06-7.56691632e-06j,  3.42017656e-06-1.38142546e-05j],\n",
       "       [-1.02936873e-03-4.13666327e-03j,  7.12899341e-05-6.64253537e-05j,\n",
       "        -1.20422762e-03+8.15378528e-04j, -9.94761626e-03+3.41999618e-03j,\n",
       "         1.51667956e-01-2.64691160e-19j,  4.36130521e-04-7.54321489e-05j,\n",
       "        -3.93822918e-06+3.60503724e-06j, -1.45380475e-05-4.86154993e-05j],\n",
       "       [ 1.06065550e-05+1.29655276e-04j,  1.38355676e-03+4.13333970e-03j,\n",
       "        -8.16754879e-03-1.02488868e-02j, -7.34256696e-04-2.44024461e-04j,\n",
       "         4.36130521e-04+7.54321489e-05j,  1.21788685e-01-8.67351441e-19j,\n",
       "         2.95305440e-05+7.13446847e-06j,  6.83343978e-07-7.04928078e-06j],\n",
       "       [-1.10767149e-06+7.67241347e-06j,  1.15208399e-05+4.94939132e-05j,\n",
       "         1.17585692e-05-1.94221287e-05j,  2.63281848e-06+7.56691632e-06j,\n",
       "        -3.93822918e-06-3.60503724e-06j,  2.95305440e-05-7.13446847e-06j,\n",
       "         1.64453379e-01+8.03831342e-19j,  2.41108898e-05+4.73463717e-05j],\n",
       "       [-2.62915704e-05-1.59045467e-05j,  5.26248895e-06-6.20607751e-07j,\n",
       "         2.54865320e-06-7.37081173e-06j,  3.42017656e-06+1.38142546e-05j,\n",
       "        -1.45380475e-05+4.86154993e-05j,  6.83343978e-07+7.04928078e-06j,\n",
       "         2.41108898e-05-4.73463717e-05j,  8.59288663e-02-7.81361795e-19j]])"
      ]
     },
     "execution_count": 24,
     "metadata": {},
     "output_type": "execute_result"
    },
    {
     "name": "stdout",
     "output_type": "stream",
     "text": [
      "time: 252 ms\n"
     ]
    }
   ],
   "source": [
    "plot_state(qutip_state_transformed)\n",
    "qutip_state_transformed"
   ]
  },
  {
   "cell_type": "code",
   "execution_count": 25,
   "metadata": {
    "scrolled": false
   },
   "outputs": [
    {
     "data": {
      "image/png": "[encoded data removed]",
      "text/plain": [
       "<Figure size 288x216 with 2 Axes>"
      ]
     },
     "metadata": {
      "needs_background": "light"
     },
     "output_type": "display_data"
    },
    {
     "name": "stdout",
     "output_type": "stream",
     "text": [
      "max value =  0.5402041291906462\n"
     ]
    },
    {
     "data": {
      "text/plain": [
       "array([[3.75456745e-04, 6.11559321e-02, 3.12353941e-02, 2.42387959e-02,\n",
       "        7.98464116e-03, 9.10836874e-02, 7.75195876e-06, 3.07278584e-05],\n",
       "       [6.11559321e-02, 4.81376312e-03, 2.81627134e-02, 2.06615142e-02,\n",
       "        7.48584130e-02, 1.18338576e-02, 5.08170955e-05, 5.29895687e-06],\n",
       "       [3.12353941e-02, 2.81627134e-02, 2.06909965e-03, 7.97532999e-02,\n",
       "        3.00173892e-02, 2.48655045e-02, 2.27042515e-05, 7.79900626e-06],\n",
       "       [2.42387959e-02, 2.06615142e-02, 7.97532999e-02, 9.01858764e-04,\n",
       "        3.13453250e-02, 1.67399277e-02, 8.01186344e-06, 1.42313470e-05],\n",
       "       [7.98464116e-03, 7.48584130e-02, 3.00173892e-02, 3.13453250e-02,\n",
       "        5.32606214e-03, 6.96646600e-02, 5.33909566e-06, 5.07426999e-05],\n",
       "       [9.10836874e-02, 1.18338576e-02, 2.48655045e-02, 1.67399277e-02,\n",
       "        6.96646600e-02, 1.17281477e-03, 3.03801526e-05, 7.08232438e-06],\n",
       "       [7.75195876e-06, 5.08170955e-05, 2.27042515e-05, 8.01186344e-06,\n",
       "        5.33909566e-06, 3.03801526e-05, 1.35617483e-03, 5.40204129e-01],\n",
       "       [3.07278584e-05, 5.29895687e-06, 7.79900626e-06, 1.42313470e-05,\n",
       "        5.07426999e-05, 7.08232438e-06, 5.40204129e-01, 9.29941347e-03]])"
      ]
     },
     "execution_count": 25,
     "metadata": {},
     "output_type": "execute_result"
    },
    {
     "name": "stdout",
     "output_type": "stream",
     "text": [
      "time: 295 ms\n"
     ]
    }
   ],
   "source": [
    "rel_diff = np.absolute(np.divide(qutip_state_transformed-piqs_state, qutip_state_transformed))\n",
    "qutip_state_transformed = np.absolute(qutip_state_transformed)\n",
    "mask = (piqs_state == 0)\n",
    "rel_diff[mask] = qutip_state_transformed[mask]\n",
    "plot_state(rel_diff)\n",
    "print('max value = ', rel_diff.max())\n",
    "rel_diff"
   ]
  },
  {
   "cell_type": "markdown",
   "metadata": {},
   "source": [
    "<h1><center> Two species: 2 TLSs each </center></h1>\n",
    "\\begin{eqnarray}\n",
    "H_\\text{TLS}^{(1)}&=&\\hbar\\omega_{0}^{(1)} J_{z}^{(1)}+\\hbar\\omega_{x}^{(1)} J_{x}^{(1)} \\quad \\quad\n",
    "H_\\text{TLS}^{(2)}&=&\\hbar\\omega_{0}^{(2)} J_{z}^{(2)}+\\hbar\\omega_{x}^{(2)} J_{x}^{(2)}\n",
    "\\end{eqnarray}\n",
    "\n",
    "\\begin{eqnarray}\n",
    "\\dot{\\rho} = \\mathcal{D}_\\text{TLS}(\\rho)&=& \n",
    "-\\frac{i}{\\hbar}\\lbrack H_\\text{TLS}^{(1)} \n",
    "+H_\\text{TLS}^{(2)},\\rho \\rbrack\\\\\n",
    "&&\n",
    "+\\frac{\\gamma_\\Downarrow}{2}\\mathcal{L}_{J_-}[\\rho]\n",
    "+\\frac{\\gamma_\\Phi}{2}\\mathcal{L}_{J_z}[\\rho]\n",
    "+\\frac{\\gamma_\\Uparrow}{2}\\mathcal{L}_{J_+}[\\rho]\\\\\n",
    "&&\n",
    "+\\sum_{n=1}^{N_1}\\frac{\\gamma_\\downarrow^{(1)}}{2}\\mathcal{L}_{J_{-,n}^{(1)}}[\\rho] \n",
    "+\\frac{\\gamma_\\phi^{(1)}}{2}\\mathcal{L}_{J_{z,n}^{(1)}}[\\rho] \n",
    "+\\frac{\\gamma_\\uparrow^{(1)}}{2}\\mathcal{L}_{J_{+,n}^{(1)}}[\\rho] \\\\\n",
    "&&\n",
    "+\\sum_{n=1}^{N_2}\\frac{\\gamma_\\downarrow^{(2)}}{2}\\mathcal{L}_{J_{-,n}^{(2)}}[\\rho]\n",
    "+\\frac{\\gamma_\\phi^{(2)}}{2}\\mathcal{L}_{J_{z,n}^{(2)}}[\\rho]\n",
    "+\\frac{\\gamma_\\uparrow^{(2)}}{2}\\mathcal{L}_{J_{+,n}^{(2)}}[\\rho]\n",
    "\\end{eqnarray}"
   ]
  },
  {
   "cell_type": "code",
   "execution_count": 26,
   "metadata": {},
   "outputs": [
    {
     "name": "stdout",
     "output_type": "stream",
     "text": [
      "time: 28.7 ms\n"
     ]
    }
   ],
   "source": [
    "N1 = 2\n",
    "N2 = 2"
   ]
  },
  {
   "cell_type": "code",
   "execution_count": 27,
   "metadata": {},
   "outputs": [
    {
     "name": "stdout",
     "output_type": "stream",
     "text": [
      "time: 33.1 ms\n"
     ]
    }
   ],
   "source": [
    "unc_to_dicke = [[1.,0,0,0],\n",
    "                [0,1/np.sqrt(2),1/np.sqrt(2),0],\n",
    "                [0,0,0,1.],\n",
    "                [0,1/np.sqrt(2),-1/np.sqrt(2),0]]\n",
    "dicke_to_unc = linalg.inv(unc_to_dicke)\n",
    "\n",
    "unc_dicke_two = np.kron(unc_to_dicke, unc_to_dicke)\n",
    "\n",
    "dicke_unc_two = linalg.inv(unc_dicke_two)"
   ]
  },
  {
   "cell_type": "code",
   "execution_count": 28,
   "metadata": {
    "scrolled": true
   },
   "outputs": [
    {
     "data": {
      "image/png": "[encoded data removed]",
      "text/plain": [
       "<Figure size 288x216 with 2 Axes>"
      ]
     },
     "metadata": {
      "needs_background": "light"
     },
     "output_type": "display_data"
    },
    {
     "data": {
      "text/plain": [
       "array([[0., 0., 0., 0., 0., 0., 0., 0., 0., 0., 0., 0., 0., 0., 0., 0.],\n",
       "       [0., 0., 0., 0., 0., 0., 0., 0., 0., 0., 0., 0., 0., 0., 0., 0.],\n",
       "       [0., 0., 0., 0., 0., 0., 0., 0., 0., 0., 0., 0., 0., 0., 0., 0.],\n",
       "       [0., 0., 0., 0., 0., 0., 0., 0., 0., 0., 0., 0., 0., 0., 0., 0.],\n",
       "       [0., 0., 0., 0., 0., 0., 0., 0., 0., 0., 0., 0., 0., 0., 0., 0.],\n",
       "       [0., 0., 0., 0., 0., 0., 0., 0., 0., 0., 0., 0., 0., 0., 0., 0.],\n",
       "       [0., 0., 0., 0., 0., 0., 0., 0., 0., 0., 0., 0., 0., 0., 0., 0.],\n",
       "       [0., 0., 0., 0., 0., 0., 0., 0., 0., 0., 0., 0., 0., 0., 0., 0.],\n",
       "       [0., 0., 0., 0., 0., 0., 0., 0., 1., 0., 0., 0., 0., 0., 0., 0.],\n",
       "       [0., 0., 0., 0., 0., 0., 0., 0., 0., 0., 0., 0., 0., 0., 0., 0.],\n",
       "       [0., 0., 0., 0., 0., 0., 0., 0., 0., 0., 0., 0., 0., 0., 0., 0.],\n",
       "       [0., 0., 0., 0., 0., 0., 0., 0., 0., 0., 0., 0., 0., 0., 0., 0.],\n",
       "       [0., 0., 0., 0., 0., 0., 0., 0., 0., 0., 0., 0., 0., 0., 0., 0.],\n",
       "       [0., 0., 0., 0., 0., 0., 0., 0., 0., 0., 0., 0., 0., 0., 0., 0.],\n",
       "       [0., 0., 0., 0., 0., 0., 0., 0., 0., 0., 0., 0., 0., 0., 0., 0.],\n",
       "       [0., 0., 0., 0., 0., 0., 0., 0., 0., 0., 0., 0., 0., 0., 0., 0.]])"
      ]
     },
     "execution_count": 28,
     "metadata": {},
     "output_type": "execute_result"
    },
    {
     "name": "stdout",
     "output_type": "stream",
     "text": [
      "time: 497 ms\n"
     ]
    }
   ],
   "source": [
    "initial_state_piqs_1 = piqs.ground(N1)\n",
    "initial_state_piqs_2 = piqs.excited(N2)\n",
    "plot_state(tensor(initial_state_piqs_1, initial_state_piqs_2))\n",
    "np.real(tensor(initial_state_piqs_1, initial_state_piqs_2))"
   ]
  },
  {
   "cell_type": "code",
   "execution_count": 29,
   "metadata": {
    "scrolled": true
   },
   "outputs": [
    {
     "data": {
      "image/png": "[encoded data removed]",
      "text/plain": [
       "<Figure size 288x216 with 2 Axes>"
      ]
     },
     "metadata": {
      "needs_background": "light"
     },
     "output_type": "display_data"
    },
    {
     "data": {
      "text/plain": [
       "array([[0., 0., 0., 0., 0., 0., 0., 0., 0., 0., 0., 0., 0., 0., 0., 0.],\n",
       "       [0., 0., 0., 0., 0., 0., 0., 0., 0., 0., 0., 0., 0., 0., 0., 0.],\n",
       "       [0., 0., 0., 0., 0., 0., 0., 0., 0., 0., 0., 0., 0., 0., 0., 0.],\n",
       "       [0., 0., 0., 0., 0., 0., 0., 0., 0., 0., 0., 0., 0., 0., 0., 0.],\n",
       "       [0., 0., 0., 0., 0., 0., 0., 0., 0., 0., 0., 0., 0., 0., 0., 0.],\n",
       "       [0., 0., 0., 0., 0., 0., 0., 0., 0., 0., 0., 0., 0., 0., 0., 0.],\n",
       "       [0., 0., 0., 0., 0., 0., 0., 0., 0., 0., 0., 0., 0., 0., 0., 0.],\n",
       "       [0., 0., 0., 0., 0., 0., 0., 0., 0., 0., 0., 0., 0., 0., 0., 0.],\n",
       "       [0., 0., 0., 0., 0., 0., 0., 0., 0., 0., 0., 0., 0., 0., 0., 0.],\n",
       "       [0., 0., 0., 0., 0., 0., 0., 0., 0., 0., 0., 0., 0., 0., 0., 0.],\n",
       "       [0., 0., 0., 0., 0., 0., 0., 0., 0., 0., 0., 0., 0., 0., 0., 0.],\n",
       "       [0., 0., 0., 0., 0., 0., 0., 0., 0., 0., 0., 0., 0., 0., 0., 0.],\n",
       "       [0., 0., 0., 0., 0., 0., 0., 0., 0., 0., 0., 0., 1., 0., 0., 0.],\n",
       "       [0., 0., 0., 0., 0., 0., 0., 0., 0., 0., 0., 0., 0., 0., 0., 0.],\n",
       "       [0., 0., 0., 0., 0., 0., 0., 0., 0., 0., 0., 0., 0., 0., 0., 0.],\n",
       "       [0., 0., 0., 0., 0., 0., 0., 0., 0., 0., 0., 0., 0., 0., 0., 0.]])"
      ]
     },
     "execution_count": 29,
     "metadata": {},
     "output_type": "execute_result"
    },
    {
     "name": "stdout",
     "output_type": "stream",
     "text": [
      "time: 516 ms\n"
     ]
    }
   ],
   "source": [
    "initial_state_qutip_1 = Qobj(np.dot(np.dot(dicke_to_unc, initial_state_piqs_1), unc_to_dicke))\n",
    "initial_state_qutip_2 = Qobj(np.dot(np.dot(dicke_to_unc, initial_state_piqs_2), unc_to_dicke))\n",
    "plot_state(tensor(initial_state_qutip_1, initial_state_qutip_2))\n",
    "np.real(tensor(initial_state_qutip_1, initial_state_qutip_2))"
   ]
  },
  {
   "cell_type": "markdown",
   "metadata": {},
   "source": [
    "#### Time evolution and transformation"
   ]
  },
  {
   "cell_type": "code",
   "execution_count": 30,
   "metadata": {
    "scrolled": true
   },
   "outputs": [
    {
     "data": {
      "text/plain": [
       "array([[ 6.24910490e-02,  3.60223546e-06, -7.08505127e-10,\n",
       "         0.00000000e+00, -3.52995527e-06,  1.42356087e-09,\n",
       "         1.71924596e-13,  0.00000000e+00, -7.15226466e-10,\n",
       "        -1.76223632e-13, -1.32957523e-16,  0.00000000e+00,\n",
       "         0.00000000e+00,  0.00000000e+00,  0.00000000e+00,\n",
       "         0.00000000e+00],\n",
       "       [ 3.60223546e-06,  6.25048374e-02,  3.67536966e-06,\n",
       "         0.00000000e+00, -2.10117172e-05, -3.60316230e-06,\n",
       "         1.41701025e-09,  0.00000000e+00,  9.11955798e-10,\n",
       "        -7.11997812e-10, -1.71924596e-13,  0.00000000e+00,\n",
       "         0.00000000e+00,  0.00000000e+00,  0.00000000e+00,\n",
       "         0.00000000e+00],\n",
       "       [-7.08505127e-10,  3.67536966e-06,  6.25155169e-02,\n",
       "         0.00000000e+00, -9.26836219e-10, -2.10130954e-05,\n",
       "        -3.67536966e-06,  0.00000000e+00,  2.34858722e-09,\n",
       "         9.26836219e-10, -7.08505127e-10,  0.00000000e+00,\n",
       "         0.00000000e+00,  0.00000000e+00,  0.00000000e+00,\n",
       "         0.00000000e+00],\n",
       "       [ 0.00000000e+00,  0.00000000e+00,  0.00000000e+00,\n",
       "         6.24838243e-02,  0.00000000e+00,  0.00000000e+00,\n",
       "         0.00000000e+00, -3.60130863e-06,  0.00000000e+00,\n",
       "         0.00000000e+00,  0.00000000e+00, -7.11563060e-10,\n",
       "         0.00000000e+00,  0.00000000e+00,  0.00000000e+00,\n",
       "         0.00000000e+00],\n",
       "       [-3.52995527e-06, -2.10117172e-05, -9.26836219e-10,\n",
       "         0.00000000e+00,  6.25161751e-02,  3.53086723e-06,\n",
       "        -7.11997812e-10,  0.00000000e+00, -3.45848763e-06,\n",
       "         1.43045293e-09,  1.76223632e-13,  0.00000000e+00,\n",
       "         0.00000000e+00,  0.00000000e+00,  0.00000000e+00,\n",
       "         0.00000000e+00],\n",
       "       [ 1.42356087e-09, -3.60316230e-06, -2.10130954e-05,\n",
       "         0.00000000e+00,  3.53086723e-06,  6.25120630e-02,\n",
       "         3.60316230e-06,  0.00000000e+00, -2.10143692e-05,\n",
       "        -3.53086723e-06,  1.42356087e-09,  0.00000000e+00,\n",
       "         0.00000000e+00,  0.00000000e+00,  0.00000000e+00,\n",
       "         0.00000000e+00],\n",
       "       [ 1.71924596e-13,  1.41701025e-09, -3.67536966e-06,\n",
       "         0.00000000e+00, -7.11997812e-10,  3.60316230e-06,\n",
       "         6.25048374e-02,  0.00000000e+00, -9.11955798e-10,\n",
       "        -2.10117172e-05, -3.60223546e-06,  0.00000000e+00,\n",
       "         0.00000000e+00,  0.00000000e+00,  0.00000000e+00,\n",
       "         0.00000000e+00],\n",
       "       [ 0.00000000e+00,  0.00000000e+00,  0.00000000e+00,\n",
       "        -3.60130863e-06,  0.00000000e+00,  0.00000000e+00,\n",
       "         0.00000000e+00,  6.24910466e-02,  0.00000000e+00,\n",
       "         0.00000000e+00,  0.00000000e+00, -3.52904332e-06,\n",
       "         0.00000000e+00,  0.00000000e+00,  0.00000000e+00,\n",
       "         0.00000000e+00],\n",
       "       [-7.15226466e-10,  9.11955798e-10,  2.34858722e-09,\n",
       "         0.00000000e+00, -3.45848763e-06, -2.10143692e-05,\n",
       "        -9.11955798e-10,  0.00000000e+00,  6.25381944e-02,\n",
       "         3.45848763e-06, -7.15226466e-10,  0.00000000e+00,\n",
       "         0.00000000e+00,  0.00000000e+00,  0.00000000e+00,\n",
       "         0.00000000e+00],\n",
       "       [-1.76223632e-13, -7.11997812e-10,  9.26836219e-10,\n",
       "         0.00000000e+00,  1.43045293e-09, -3.53086723e-06,\n",
       "        -2.10117172e-05,  0.00000000e+00,  3.45848763e-06,\n",
       "         6.25161751e-02,  3.52995527e-06,  0.00000000e+00,\n",
       "         0.00000000e+00,  0.00000000e+00,  0.00000000e+00,\n",
       "         0.00000000e+00],\n",
       "       [-1.32957523e-16, -1.71924596e-13, -7.08505127e-10,\n",
       "         0.00000000e+00,  1.76223632e-13,  1.42356087e-09,\n",
       "        -3.60223546e-06,  0.00000000e+00, -7.15226466e-10,\n",
       "         3.52995527e-06,  6.24910490e-02,  0.00000000e+00,\n",
       "         0.00000000e+00,  0.00000000e+00,  0.00000000e+00,\n",
       "         0.00000000e+00],\n",
       "       [ 0.00000000e+00,  0.00000000e+00,  0.00000000e+00,\n",
       "        -7.11563060e-10,  0.00000000e+00,  0.00000000e+00,\n",
       "         0.00000000e+00, -3.52904332e-06,  0.00000000e+00,\n",
       "         0.00000000e+00,  0.00000000e+00,  6.24951607e-02,\n",
       "         0.00000000e+00,  0.00000000e+00,  0.00000000e+00,\n",
       "         0.00000000e+00],\n",
       "       [ 0.00000000e+00,  0.00000000e+00,  0.00000000e+00,\n",
       "         0.00000000e+00,  0.00000000e+00,  0.00000000e+00,\n",
       "         0.00000000e+00,  0.00000000e+00,  0.00000000e+00,\n",
       "         0.00000000e+00,  0.00000000e+00,  0.00000000e+00,\n",
       "         6.24951607e-02,  3.52904332e-06, -7.11563060e-10,\n",
       "         0.00000000e+00],\n",
       "       [ 0.00000000e+00,  0.00000000e+00,  0.00000000e+00,\n",
       "         0.00000000e+00,  0.00000000e+00,  0.00000000e+00,\n",
       "         0.00000000e+00,  0.00000000e+00,  0.00000000e+00,\n",
       "         0.00000000e+00,  0.00000000e+00,  0.00000000e+00,\n",
       "         3.52904332e-06,  6.24910466e-02,  3.60130863e-06,\n",
       "         0.00000000e+00],\n",
       "       [ 0.00000000e+00,  0.00000000e+00,  0.00000000e+00,\n",
       "         0.00000000e+00,  0.00000000e+00,  0.00000000e+00,\n",
       "         0.00000000e+00,  0.00000000e+00,  0.00000000e+00,\n",
       "         0.00000000e+00,  0.00000000e+00,  0.00000000e+00,\n",
       "        -7.11563060e-10,  3.60130863e-06,  6.24838243e-02,\n",
       "         0.00000000e+00],\n",
       "       [ 0.00000000e+00,  0.00000000e+00,  0.00000000e+00,\n",
       "         0.00000000e+00,  0.00000000e+00,  0.00000000e+00,\n",
       "         0.00000000e+00,  0.00000000e+00,  0.00000000e+00,\n",
       "         0.00000000e+00,  0.00000000e+00,  0.00000000e+00,\n",
       "         0.00000000e+00,  0.00000000e+00,  0.00000000e+00,\n",
       "         6.24700396e-02]])"
      ]
     },
     "execution_count": 30,
     "metadata": {},
     "output_type": "execute_result"
    },
    {
     "name": "stdout",
     "output_type": "stream",
     "text": [
      "time: 385 ms\n"
     ]
    }
   ],
   "source": [
    "piqs_state = np.array(library.two_species_piqs_mesolve(N1,N2,initial_state_piqs_1,initial_state_piqs_2)[-1])\n",
    "np.real(piqs_state)"
   ]
  },
  {
   "cell_type": "code",
   "execution_count": 31,
   "metadata": {
    "scrolled": true
   },
   "outputs": [
    {
     "data": {
      "text/plain": [
       "array([[ 6.24910634e-02,  2.54059108e-06,  2.54059108e-06,\n",
       "        -7.07583192e-10, -2.48956335e-06,  7.10855977e-10,\n",
       "         7.10855977e-10,  1.22450355e-13, -2.48956335e-06,\n",
       "         7.10855977e-10,  7.10855977e-10,  1.22450355e-13,\n",
       "        -7.14298455e-10, -1.25470599e-13, -1.25470599e-13,\n",
       "        -1.32108643e-16],\n",
       "       [ 2.54059108e-06,  6.24943433e-02,  1.04896616e-05,\n",
       "         2.59221604e-06, -1.04889767e-05, -2.54059108e-06,\n",
       "        -6.48119530e-10,  7.07583192e-10, -1.04889767e-05,\n",
       "        -2.54059108e-06, -6.48119530e-10,  7.07583192e-10,\n",
       "         6.37665057e-10, -7.10855977e-10, -2.16090230e-13,\n",
       "        -1.22450355e-13],\n",
       "       [ 2.54059108e-06,  1.04896616e-05,  6.24943433e-02,\n",
       "         2.59221604e-06, -1.04889767e-05, -6.48119530e-10,\n",
       "        -2.54059108e-06,  7.07583192e-10, -1.04889767e-05,\n",
       "        -6.48119530e-10, -2.54059108e-06,  7.07583192e-10,\n",
       "         6.37665057e-10, -2.16090230e-13, -7.10855977e-10,\n",
       "        -1.22450355e-13],\n",
       "       [-7.07583192e-10,  2.59221604e-06,  2.59221604e-06,\n",
       "         6.25154987e-02, -6.48119530e-10, -1.04896616e-05,\n",
       "        -1.04896616e-05, -2.59221604e-06, -6.48119530e-10,\n",
       "        -1.04896616e-05, -1.04896616e-05, -2.59221604e-06,\n",
       "         2.33350397e-09,  6.48119530e-10,  6.48119530e-10,\n",
       "        -7.07583192e-10],\n",
       "       [-2.48956335e-06, -1.04889767e-05, -1.04889767e-05,\n",
       "        -6.48119530e-10,  6.25056554e-02,  2.48956335e-06,\n",
       "         2.48956335e-06, -7.10855977e-10,  1.04902940e-05,\n",
       "         6.37665057e-10,  6.37665057e-10, -2.16090231e-13,\n",
       "        -2.43910373e-06,  7.14298455e-10,  7.14298455e-10,\n",
       "         1.25470600e-13],\n",
       "       [ 7.10855977e-10, -2.54059108e-06, -6.48119530e-10,\n",
       "        -1.04896616e-05,  2.48956335e-06,  6.24910634e-02,\n",
       "         1.04889767e-05,  2.54059108e-06,  6.37665057e-10,\n",
       "         1.04889767e-05,  2.33350397e-09,  6.48119530e-10,\n",
       "        -1.04902940e-05, -2.48956335e-06, -6.37665057e-10,\n",
       "         7.10855977e-10],\n",
       "       [ 7.10855977e-10, -6.48119530e-10, -2.54059108e-06,\n",
       "        -1.04896616e-05,  2.48956335e-06,  1.04889767e-05,\n",
       "         6.24910634e-02,  2.54059108e-06,  6.37665057e-10,\n",
       "         2.33350397e-09,  1.04889767e-05,  6.48119530e-10,\n",
       "        -1.04902940e-05, -6.37665057e-10, -2.48956335e-06,\n",
       "         7.10855977e-10],\n",
       "       [ 1.22450355e-13,  7.07583192e-10,  7.07583192e-10,\n",
       "        -2.59221604e-06, -7.10855977e-10,  2.54059108e-06,\n",
       "         2.54059108e-06,  6.24943433e-02, -2.16090230e-13,\n",
       "         6.48119530e-10,  6.48119530e-10,  1.04896616e-05,\n",
       "        -6.37665057e-10, -1.04889767e-05, -1.04889767e-05,\n",
       "        -2.54059108e-06],\n",
       "       [-2.48956335e-06, -1.04889767e-05, -1.04889767e-05,\n",
       "        -6.48119530e-10,  1.04902940e-05,  6.37665057e-10,\n",
       "         6.37665057e-10, -2.16090230e-13,  6.25056554e-02,\n",
       "         2.48956335e-06,  2.48956335e-06, -7.10855977e-10,\n",
       "        -2.43910373e-06,  7.14298455e-10,  7.14298455e-10,\n",
       "         1.25470599e-13],\n",
       "       [ 7.10855977e-10, -2.54059108e-06, -6.48119530e-10,\n",
       "        -1.04896616e-05,  6.37665057e-10,  1.04889767e-05,\n",
       "         2.33350397e-09,  6.48119530e-10,  2.48956335e-06,\n",
       "         6.24910634e-02,  1.04889767e-05,  2.54059108e-06,\n",
       "        -1.04902940e-05, -2.48956335e-06, -6.37665057e-10,\n",
       "         7.10855977e-10],\n",
       "       [ 7.10855977e-10, -6.48119530e-10, -2.54059108e-06,\n",
       "        -1.04896616e-05,  6.37665057e-10,  2.33350397e-09,\n",
       "         1.04889767e-05,  6.48119530e-10,  2.48956335e-06,\n",
       "         1.04889767e-05,  6.24910634e-02,  2.54059108e-06,\n",
       "        -1.04902940e-05, -6.37665057e-10, -2.48956335e-06,\n",
       "         7.10855977e-10],\n",
       "       [ 1.22450355e-13,  7.07583192e-10,  7.07583192e-10,\n",
       "        -2.59221604e-06, -2.16090230e-13,  6.48119530e-10,\n",
       "         6.48119530e-10,  1.04896616e-05, -7.10855977e-10,\n",
       "         2.54059108e-06,  2.54059108e-06,  6.24943433e-02,\n",
       "        -6.37665057e-10, -1.04889767e-05, -1.04889767e-05,\n",
       "        -2.54059108e-06],\n",
       "       [-7.14298455e-10,  6.37665057e-10,  6.37665057e-10,\n",
       "         2.33350397e-09, -2.43910373e-06, -1.04902940e-05,\n",
       "        -1.04902940e-05, -6.37665057e-10, -2.43910373e-06,\n",
       "        -1.04902940e-05, -1.04902940e-05, -6.37665057e-10,\n",
       "         6.25381262e-02,  2.43910373e-06,  2.43910373e-06,\n",
       "        -7.14298455e-10],\n",
       "       [-1.25470599e-13, -7.10855977e-10, -2.16090230e-13,\n",
       "         6.48119530e-10,  7.14298455e-10, -2.48956335e-06,\n",
       "        -6.37665057e-10, -1.04889767e-05,  7.14298455e-10,\n",
       "        -2.48956335e-06, -6.37665057e-10, -1.04889767e-05,\n",
       "         2.43910373e-06,  6.25056554e-02,  1.04902940e-05,\n",
       "         2.48956335e-06],\n",
       "       [-1.25470599e-13, -2.16090230e-13, -7.10855977e-10,\n",
       "         6.48119530e-10,  7.14298455e-10, -6.37665057e-10,\n",
       "        -2.48956335e-06, -1.04889767e-05,  7.14298455e-10,\n",
       "        -6.37665057e-10, -2.48956335e-06, -1.04889767e-05,\n",
       "         2.43910373e-06,  1.04902940e-05,  6.25056554e-02,\n",
       "         2.48956335e-06],\n",
       "       [-1.32108643e-16, -1.22450355e-13, -1.22450355e-13,\n",
       "        -7.07583192e-10,  1.25470599e-13,  7.10855977e-10,\n",
       "         7.10855977e-10, -2.54059108e-06,  1.25470599e-13,\n",
       "         7.10855977e-10,  7.10855977e-10, -2.54059108e-06,\n",
       "        -7.14298455e-10,  2.48956335e-06,  2.48956335e-06,\n",
       "         6.24910634e-02]])"
      ]
     },
     "execution_count": 31,
     "metadata": {},
     "output_type": "execute_result"
    },
    {
     "name": "stdout",
     "output_type": "stream",
     "text": [
      "time: 638 ms\n"
     ]
    }
   ],
   "source": [
    "qutip_state = library.two_species_qutip_mesolve(N1,N2,initial_state_qutip_1,initial_state_qutip_2)[-1]\n",
    "np.real(qutip_state)"
   ]
  },
  {
   "cell_type": "code",
   "execution_count": 32,
   "metadata": {},
   "outputs": [
    {
     "name": "stdout",
     "output_type": "stream",
     "text": [
      "time: 26.3 ms\n"
     ]
    }
   ],
   "source": [
    "qutip_state_transformed = np.dot(np.dot(unc_dicke_two, qutip_state), dicke_unc_two)"
   ]
  },
  {
   "cell_type": "code",
   "execution_count": 33,
   "metadata": {},
   "outputs": [
    {
     "data": {
      "image/png": "[encoded data removed]",
      "text/plain": [
       "<Figure size 288x216 with 2 Axes>"
      ]
     },
     "metadata": {
      "needs_background": "light"
     },
     "output_type": "display_data"
    },
    {
     "data": {
      "text/plain": [
       "array([[ 6.24910490e-02+1.32893298e-21j,  3.60223546e-06-3.36425733e-06j,\n",
       "        -7.08505127e-10-4.00268163e-09j,  0.00000000e+00+0.00000000e+00j,\n",
       "        -3.52995527e-06+3.46785077e-06j,  1.42356087e-09+8.00710379e-09j,\n",
       "         1.71924596e-13+2.53680127e-13j,  0.00000000e+00+0.00000000e+00j,\n",
       "        -7.15226466e-10-4.00514986e-09j, -1.76223632e-13-2.51764919e-13j,\n",
       "        -1.32957523e-16-2.71833198e-17j,  0.00000000e+00+0.00000000e+00j,\n",
       "         0.00000000e+00+0.00000000e+00j,  0.00000000e+00+0.00000000e+00j,\n",
       "         0.00000000e+00+0.00000000e+00j,  0.00000000e+00+0.00000000e+00j],\n",
       "       [ 3.60223546e-06+3.36425733e-06j,  6.25048374e-02+1.37707959e-21j,\n",
       "         3.67536966e-06-3.26151036e-06j,  0.00000000e+00+0.00000000e+00j,\n",
       "        -2.10117172e-05-2.44375855e-21j, -3.60316230e-06+3.36520855e-06j,\n",
       "         1.41701025e-09+8.00536325e-09j,  0.00000000e+00+0.00000000e+00j,\n",
       "         9.11955798e-10-9.73121648e-10j, -7.11997812e-10-4.00480116e-09j,\n",
       "        -1.71924596e-13-2.53680127e-13j,  0.00000000e+00+0.00000000e+00j,\n",
       "         0.00000000e+00+0.00000000e+00j,  0.00000000e+00+0.00000000e+00j,\n",
       "         0.00000000e+00+0.00000000e+00j,  0.00000000e+00+0.00000000e+00j],\n",
       "       [-7.08505127e-10+4.00268163e-09j,  3.67536966e-06+3.26151036e-06j,\n",
       "         6.25155169e-02+1.29685127e-21j,  0.00000000e+00+0.00000000e+00j,\n",
       "        -9.26836219e-10-9.51216524e-10j, -2.10130954e-05-1.09330640e-21j,\n",
       "        -3.67536966e-06+3.26151036e-06j,  0.00000000e+00+0.00000000e+00j,\n",
       "         2.34858722e-09+2.46453354e-22j,  9.26836219e-10-9.51216524e-10j,\n",
       "        -7.08505127e-10-4.00268163e-09j,  0.00000000e+00+0.00000000e+00j,\n",
       "         0.00000000e+00+0.00000000e+00j,  0.00000000e+00+0.00000000e+00j,\n",
       "         0.00000000e+00+0.00000000e+00j,  0.00000000e+00+0.00000000e+00j],\n",
       "       [ 0.00000000e+00+0.00000000e+00j,  0.00000000e+00+0.00000000e+00j,\n",
       "         0.00000000e+00+0.00000000e+00j,  6.24838243e-02+1.00799930e-21j,\n",
       "         0.00000000e+00+0.00000000e+00j,  0.00000000e+00+0.00000000e+00j,\n",
       "         0.00000000e+00+0.00000000e+00j, -3.60130863e-06+3.36330611e-06j,\n",
       "         0.00000000e+00+0.00000000e+00j,  0.00000000e+00+0.00000000e+00j,\n",
       "         0.00000000e+00+0.00000000e+00j, -7.11563060e-10-4.00230263e-09j,\n",
       "         0.00000000e+00+0.00000000e+00j,  0.00000000e+00+0.00000000e+00j,\n",
       "         0.00000000e+00+0.00000000e+00j,  0.00000000e+00+0.00000000e+00j],\n",
       "       [-3.52995527e-06-3.46785077e-06j, -2.10117172e-05+2.17484608e-21j,\n",
       "        -9.26836219e-10+9.51216524e-10j,  0.00000000e+00+0.00000000e+00j,\n",
       "         6.25161751e-02-3.39673500e-22j,  3.53086723e-06-3.46882389e-06j,\n",
       "        -7.11997812e-10-4.00480116e-09j,  0.00000000e+00+0.00000000e+00j,\n",
       "        -3.45848763e-06+3.57235123e-06j,  1.43045293e-09+8.01029972e-09j,\n",
       "         1.76223632e-13+2.51764919e-13j,  0.00000000e+00+0.00000000e+00j,\n",
       "         0.00000000e+00+0.00000000e+00j,  0.00000000e+00+0.00000000e+00j,\n",
       "         0.00000000e+00+0.00000000e+00j,  0.00000000e+00+0.00000000e+00j],\n",
       "       [ 1.42356087e-09-8.00710379e-09j, -3.60316230e-06-3.36520855e-06j,\n",
       "        -2.10130954e-05+1.24088903e-21j,  0.00000000e+00+0.00000000e+00j,\n",
       "         3.53086723e-06+3.46882389e-06j,  6.25120630e-02-2.56078573e-22j,\n",
       "         3.60316230e-06-3.36520855e-06j,  0.00000000e+00+0.00000000e+00j,\n",
       "        -2.10143692e-05+1.04785666e-22j, -3.53086723e-06+3.46882389e-06j,\n",
       "         1.42356087e-09+8.00710379e-09j,  0.00000000e+00+0.00000000e+00j,\n",
       "         0.00000000e+00+0.00000000e+00j,  0.00000000e+00+0.00000000e+00j,\n",
       "         0.00000000e+00+0.00000000e+00j,  0.00000000e+00+0.00000000e+00j],\n",
       "       [ 1.71924596e-13-2.53680127e-13j,  1.41701025e-09-8.00536325e-09j,\n",
       "        -3.67536966e-06-3.26151036e-06j,  0.00000000e+00+0.00000000e+00j,\n",
       "        -7.11997812e-10+4.00480116e-09j,  3.60316230e-06+3.36520855e-06j,\n",
       "         6.25048374e-02-4.71241875e-22j,  0.00000000e+00+0.00000000e+00j,\n",
       "        -9.11955798e-10-9.73121647e-10j, -2.10117172e-05+1.71482013e-21j,\n",
       "        -3.60223546e-06+3.36425733e-06j,  0.00000000e+00+0.00000000e+00j,\n",
       "         0.00000000e+00+0.00000000e+00j,  0.00000000e+00+0.00000000e+00j,\n",
       "         0.00000000e+00+0.00000000e+00j,  0.00000000e+00+0.00000000e+00j],\n",
       "       [ 0.00000000e+00+0.00000000e+00j,  0.00000000e+00+0.00000000e+00j,\n",
       "         0.00000000e+00+0.00000000e+00j, -3.60130863e-06-3.36330611e-06j,\n",
       "         0.00000000e+00+0.00000000e+00j,  0.00000000e+00+0.00000000e+00j,\n",
       "         0.00000000e+00+0.00000000e+00j,  6.24910466e-02-2.36957129e-22j,\n",
       "         0.00000000e+00+0.00000000e+00j,  0.00000000e+00+0.00000000e+00j,\n",
       "         0.00000000e+00+0.00000000e+00j, -3.52904332e-06+3.46687765e-06j,\n",
       "         0.00000000e+00+0.00000000e+00j,  0.00000000e+00+0.00000000e+00j,\n",
       "         0.00000000e+00+0.00000000e+00j,  0.00000000e+00+0.00000000e+00j],\n",
       "       [-7.15226466e-10+4.00514986e-09j,  9.11955798e-10+9.73121648e-10j,\n",
       "         2.34858722e-09-3.18889035e-22j,  0.00000000e+00+0.00000000e+00j,\n",
       "        -3.45848763e-06-3.57235123e-06j, -2.10143692e-05-3.60261218e-22j,\n",
       "        -9.11955798e-10+9.73121647e-10j,  0.00000000e+00+0.00000000e+00j,\n",
       "         6.25381944e-02-1.06681352e-21j,  3.45848763e-06-3.57235123e-06j,\n",
       "        -7.15226466e-10-4.00514986e-09j,  0.00000000e+00+0.00000000e+00j,\n",
       "         0.00000000e+00+0.00000000e+00j,  0.00000000e+00+0.00000000e+00j,\n",
       "         0.00000000e+00+0.00000000e+00j,  0.00000000e+00+0.00000000e+00j],\n",
       "       [-1.76223632e-13+2.51764919e-13j, -7.11997812e-10+4.00480116e-09j,\n",
       "         9.26836219e-10+9.51216524e-10j,  0.00000000e+00+0.00000000e+00j,\n",
       "         1.43045293e-09-8.01029972e-09j, -3.53086723e-06-3.46882389e-06j,\n",
       "        -2.10117172e-05-1.48572500e-21j,  0.00000000e+00+0.00000000e+00j,\n",
       "         3.45848763e-06+3.57235123e-06j,  6.25161751e-02-8.49613717e-22j,\n",
       "         3.52995527e-06-3.46785077e-06j,  0.00000000e+00+0.00000000e+00j,\n",
       "         0.00000000e+00+0.00000000e+00j,  0.00000000e+00+0.00000000e+00j,\n",
       "         0.00000000e+00+0.00000000e+00j,  0.00000000e+00+0.00000000e+00j],\n",
       "       [-1.32957523e-16+2.71833198e-17j, -1.71924596e-13+2.53680127e-13j,\n",
       "        -7.08505127e-10+4.00268163e-09j,  0.00000000e+00+0.00000000e+00j,\n",
       "         1.76223632e-13-2.51764919e-13j,  1.42356087e-09-8.00710379e-09j,\n",
       "        -3.60223546e-06-3.36425733e-06j,  0.00000000e+00+0.00000000e+00j,\n",
       "        -7.15226466e-10+4.00514986e-09j,  3.52995527e-06+3.46785077e-06j,\n",
       "         6.24910490e-02-1.09069384e-21j,  0.00000000e+00+0.00000000e+00j,\n",
       "         0.00000000e+00+0.00000000e+00j,  0.00000000e+00+0.00000000e+00j,\n",
       "         0.00000000e+00+0.00000000e+00j,  0.00000000e+00+0.00000000e+00j],\n",
       "       [ 0.00000000e+00+0.00000000e+00j,  0.00000000e+00+0.00000000e+00j,\n",
       "         0.00000000e+00+0.00000000e+00j, -7.11563060e-10+4.00230263e-09j,\n",
       "         0.00000000e+00+0.00000000e+00j,  0.00000000e+00+0.00000000e+00j,\n",
       "         0.00000000e+00+0.00000000e+00j, -3.52904332e-06-3.46687765e-06j,\n",
       "         0.00000000e+00+0.00000000e+00j,  0.00000000e+00+0.00000000e+00j,\n",
       "         0.00000000e+00+0.00000000e+00j,  6.24951607e-02-8.54919680e-22j,\n",
       "         0.00000000e+00+0.00000000e+00j,  0.00000000e+00+0.00000000e+00j,\n",
       "         0.00000000e+00+0.00000000e+00j,  0.00000000e+00+0.00000000e+00j],\n",
       "       [ 0.00000000e+00+0.00000000e+00j,  0.00000000e+00+0.00000000e+00j,\n",
       "         0.00000000e+00+0.00000000e+00j,  0.00000000e+00+0.00000000e+00j,\n",
       "         0.00000000e+00+0.00000000e+00j,  0.00000000e+00+0.00000000e+00j,\n",
       "         0.00000000e+00+0.00000000e+00j,  0.00000000e+00+0.00000000e+00j,\n",
       "         0.00000000e+00+0.00000000e+00j,  0.00000000e+00+0.00000000e+00j,\n",
       "         0.00000000e+00+0.00000000e+00j,  0.00000000e+00+0.00000000e+00j,\n",
       "         6.24951607e-02-2.33642422e-22j,  3.52904332e-06-3.46687765e-06j,\n",
       "        -7.11563060e-10-4.00230263e-09j,  0.00000000e+00+0.00000000e+00j],\n",
       "       [ 0.00000000e+00+0.00000000e+00j,  0.00000000e+00+0.00000000e+00j,\n",
       "         0.00000000e+00+0.00000000e+00j,  0.00000000e+00+0.00000000e+00j,\n",
       "         0.00000000e+00+0.00000000e+00j,  0.00000000e+00+0.00000000e+00j,\n",
       "         0.00000000e+00+0.00000000e+00j,  0.00000000e+00+0.00000000e+00j,\n",
       "         0.00000000e+00+0.00000000e+00j,  0.00000000e+00+0.00000000e+00j,\n",
       "         0.00000000e+00+0.00000000e+00j,  0.00000000e+00+0.00000000e+00j,\n",
       "         3.52904332e-06+3.46687765e-06j,  6.24910466e-02-2.26400741e-24j,\n",
       "         3.60130863e-06-3.36330611e-06j,  0.00000000e+00+0.00000000e+00j],\n",
       "       [ 0.00000000e+00+0.00000000e+00j,  0.00000000e+00+0.00000000e+00j,\n",
       "         0.00000000e+00+0.00000000e+00j,  0.00000000e+00+0.00000000e+00j,\n",
       "         0.00000000e+00+0.00000000e+00j,  0.00000000e+00+0.00000000e+00j,\n",
       "         0.00000000e+00+0.00000000e+00j,  0.00000000e+00+0.00000000e+00j,\n",
       "         0.00000000e+00+0.00000000e+00j,  0.00000000e+00+0.00000000e+00j,\n",
       "         0.00000000e+00+0.00000000e+00j,  0.00000000e+00+0.00000000e+00j,\n",
       "        -7.11563060e-10+4.00230263e-09j,  3.60130863e-06+3.36330611e-06j,\n",
       "         6.24838243e-02+3.70256640e-22j,  0.00000000e+00+0.00000000e+00j],\n",
       "       [ 0.00000000e+00+0.00000000e+00j,  0.00000000e+00+0.00000000e+00j,\n",
       "         0.00000000e+00+0.00000000e+00j,  0.00000000e+00+0.00000000e+00j,\n",
       "         0.00000000e+00+0.00000000e+00j,  0.00000000e+00+0.00000000e+00j,\n",
       "         0.00000000e+00+0.00000000e+00j,  0.00000000e+00+0.00000000e+00j,\n",
       "         0.00000000e+00+0.00000000e+00j,  0.00000000e+00+0.00000000e+00j,\n",
       "         0.00000000e+00+0.00000000e+00j,  0.00000000e+00+0.00000000e+00j,\n",
       "         0.00000000e+00+0.00000000e+00j,  0.00000000e+00+0.00000000e+00j,\n",
       "         0.00000000e+00+0.00000000e+00j,  6.24700396e-02+2.07784796e-23j]])"
      ]
     },
     "execution_count": 33,
     "metadata": {},
     "output_type": "execute_result"
    },
    {
     "name": "stdout",
     "output_type": "stream",
     "text": [
      "time: 363 ms\n"
     ]
    }
   ],
   "source": [
    "plot_state(piqs_state)\n",
    "np.array(piqs_state)"
   ]
  },
  {
   "cell_type": "code",
   "execution_count": 34,
   "metadata": {},
   "outputs": [
    {
     "data": {
      "image/png": "[encoded data removed]",
      "text/plain": [
       "<Figure size 288x216 with 2 Axes>"
      ]
     },
     "metadata": {
      "needs_background": "light"
     },
     "output_type": "display_data"
    },
    {
     "data": {
      "text/plain": [
       "array([[ 6.24910634e-02-4.87176490e-23j,  3.59293836e-06-3.37902142e-06j,\n",
       "        -7.07583192e-10-3.99628205e-09j, -5.12848632e-20-1.48834848e-19j,\n",
       "        -3.52077426e-06+3.48244847e-06j,  1.42171195e-09+7.99425122e-09j,\n",
       "         1.73170953e-13+2.51522340e-13j, -2.95456127e-21+3.31489613e-21j,\n",
       "        -7.14298455e-10-3.99869218e-09j, -1.77442223e-13-2.49619131e-13j,\n",
       "        -1.32108643e-16-2.69924123e-17j, -7.36624795e-23-1.53474223e-23j,\n",
       "         4.59089903e-20-4.09713129e-20j,  1.04404330e-22+9.93827326e-22j,\n",
       "        -6.75964603e-23+2.68119986e-23j,  2.45902839e-21-3.11306406e-21j],\n",
       "       [ 3.59293836e-06+3.37902142e-06j,  6.25048330e-02+7.33394038e-22j,\n",
       "         3.66594708e-06-3.27644403e-06j,  3.25837658e-18+2.05329922e-22j,\n",
       "        -2.09779534e-05+2.53749229e-22j, -3.59385494e-06+3.37997603e-06j,\n",
       "         1.41516638e-09+7.99256411e-09j, -3.39994562e-20-1.17395810e-19j,\n",
       "         9.01794571e-10-9.76371300e-10j, -7.11072067e-10-3.99836684e-09j,\n",
       "        -1.73170953e-13-2.51522339e-13j,  8.69412654e-22-9.30191238e-22j,\n",
       "        -4.74986732e-19+1.44441616e-22j,  5.80094977e-20+1.26237470e-20j,\n",
       "        -8.98011923e-22+1.81316145e-22j,  2.74349509e-20+1.35607019e-19j],\n",
       "       [-7.07583192e-10+3.99628205e-09j,  3.66594708e-06+3.27644403e-06j,\n",
       "         6.25154987e-02+1.22268274e-21j,  4.04223805e-20-1.31386062e-19j,\n",
       "        -9.16579430e-10-9.54606848e-10j, -2.09793232e-05-4.17394245e-23j,\n",
       "        -3.66594708e-06+3.27644403e-06j, -1.31597165e-18+6.85209681e-24j,\n",
       "         2.33350397e-09+1.30908855e-22j,  9.16579430e-10-9.54606849e-10j,\n",
       "        -7.07583192e-10-3.99628205e-09j, -1.80921852e-20-4.27586669e-20j,\n",
       "         1.96362124e-20-2.79820004e-20j, -2.46169034e-19-1.67604719e-23j,\n",
       "         4.57562857e-20-6.32760415e-20j,  1.62005647e-18+1.42829394e-22j],\n",
       "       [-4.06780284e-20+1.35702803e-19j, -5.04362681e-19+6.82046886e-23j,\n",
       "         4.58676180e-20+1.36025732e-19j,  6.24838537e-02+4.64796637e-22j,\n",
       "         1.13947210e-18+1.22012037e-24j, -3.39995580e-20-1.14431089e-19j,\n",
       "         2.91139974e-21-3.21282488e-21j, -3.59202178e-06+3.37806682e-06j,\n",
       "         1.74429470e-20+3.99623521e-20j,  8.03445241e-22-9.00551167e-22j,\n",
       "         7.38450037e-23+1.55847068e-23j, -7.10639887e-10-3.99588438e-09j,\n",
       "        -1.58788005e-18-1.99610289e-22j,  2.84938438e-20+1.37512737e-19j,\n",
       "        -2.54902201e-21+3.20185598e-21j,  2.12693418e-20-4.27509260e-20j],\n",
       "       [-3.52077426e-06-3.48244847e-06j, -2.09779534e-05+6.16557471e-23j,\n",
       "        -9.16579430e-10+9.54606848e-10j,  1.19115910e-18+2.70806706e-22j,\n",
       "         6.25161457e-02-8.04088424e-22j,  3.52167605e-06-3.48342484e-06j,\n",
       "        -7.11072067e-10-3.99836684e-09j, -6.85934028e-20-2.15482395e-19j,\n",
       "        -3.44941358e-06+3.58678533e-06j,  1.42859691e-09+7.99738436e-09j,\n",
       "         1.77442223e-13+2.49619131e-13j, -1.41352186e-21+1.84691640e-21j,\n",
       "        -3.77057340e-18-6.19379740e-22j, -8.66582176e-21+2.28515003e-20j,\n",
       "        -3.61990664e-22-6.07225630e-22j,  2.66652719e-20+1.10662068e-19j],\n",
       "       [ 1.42171195e-09-7.99425122e-09j, -3.59385494e-06-3.37997603e-06j,\n",
       "        -2.09793232e-05+1.26775143e-22j, -3.74021706e-20+1.21931929e-19j,\n",
       "         3.52167605e-06+3.48342484e-06j,  6.25120436e-02+1.33558536e-22j,\n",
       "         3.59385494e-06-3.37997603e-06j,  3.46877840e-18+1.51944571e-22j,\n",
       "        -2.09805879e-05-8.99114501e-23j, -3.52167605e-06+3.48342484e-06j,\n",
       "         1.42171195e-09+7.99425122e-09j, -2.65356491e-22-5.98698136e-21j,\n",
       "        -8.01733906e-21-3.22834737e-20j, -6.68556646e-22-5.84863563e-22j,\n",
       "         1.01573195e-20-1.66646313e-20j, -1.04076723e-17+8.85842448e-23j],\n",
       "       [ 1.73170953e-13-2.51522340e-13j,  1.41516638e-09-7.99256411e-09j,\n",
       "        -3.66594708e-06-3.27644403e-06j,  3.09446265e-21+3.60675842e-21j,\n",
       "        -7.11072067e-10+3.99836684e-09j,  3.59385494e-06+3.37997603e-06j,\n",
       "         6.25048330e-02+7.08088994e-22j,  6.27985764e-20-2.17451577e-19j,\n",
       "        -9.01794571e-10-9.76371299e-10j, -2.09779534e-05-2.54302544e-22j,\n",
       "        -3.59293836e-06+3.37902142e-06j, -3.86011846e-19+6.27995626e-26j,\n",
       "        -4.74746452e-22+6.14051168e-22j,  9.85901722e-21+2.32116588e-20j,\n",
       "        -3.68051732e-18-4.84511796e-22j, -2.93407750e-20+1.31689491e-19j],\n",
       "       [-3.08540816e-21-3.60033380e-21j, -3.41760748e-20+1.13394009e-19j,\n",
       "        -1.39283972e-18-2.55344725e-22j, -3.59202178e-06-3.37806682e-06j,\n",
       "        -6.25574685e-20+2.17820990e-19j,  6.93939012e-18+4.32749432e-23j,\n",
       "         6.17620685e-20+2.06969939e-19j,  6.24910610e-02+1.16314821e-23j,\n",
       "         4.55386102e-19-1.24725684e-23j, -1.45877086e-21-7.28987341e-21j,\n",
       "         1.43766713e-21-1.75772862e-21j, -3.51987246e-06+3.48147210e-06j,\n",
       "         3.16846001e-20-1.18572517e-19j, -1.04088371e-17+1.15023711e-22j,\n",
       "        -2.78792962e-20-1.15485051e-19j, -8.67312117e-18-5.21474263e-22j],\n",
       "       [-7.14298455e-10+3.99869218e-09j,  9.01794571e-10+9.76371300e-10j,\n",
       "         2.33350397e-09-1.59209300e-22j,  1.60905873e-20-3.85348856e-20j,\n",
       "        -3.44941358e-06-3.58678533e-06j, -2.09805879e-05-8.29725864e-23j,\n",
       "        -9.01794571e-10+9.76371299e-10j,  5.16160689e-19+3.57340498e-23j,\n",
       "         6.25381262e-02-1.37670420e-21j,  3.44941358e-06-3.58678533e-06j,\n",
       "        -7.14298455e-10-3.99869218e-09j, -8.96448016e-20-2.70213690e-19j,\n",
       "        -3.14093914e-20-9.19463023e-20j,  5.68676731e-19+1.76438947e-22j,\n",
       "        -2.04770087e-20-2.78811296e-20j,  1.46674344e-18-8.01990587e-23j],\n",
       "       [-1.77442223e-13+2.49619131e-13j, -7.11072067e-10+3.99836684e-09j,\n",
       "         9.16579430e-10+9.54606849e-10j,  8.69483607e-22+8.52031279e-22j,\n",
       "         1.42859691e-09-7.99738436e-09j, -3.52167605e-06-3.48342484e-06j,\n",
       "        -2.09779534e-05-1.34881963e-22j, -4.99258451e-21+8.45194016e-21j,\n",
       "         3.44941358e-06+3.58678533e-06j,  6.25161457e-02-5.32097654e-22j,\n",
       "         3.52077426e-06-3.48244847e-06j,  6.04250447e-18-3.82322131e-23j,\n",
       "        -5.22128411e-22+9.17326701e-22j, -4.92500560e-20+1.60752367e-20j,\n",
       "         2.04668596e-19+1.71222058e-22j, -2.84652169e-20+1.22414650e-19j],\n",
       "       [-1.32108643e-16+2.69924123e-17j, -1.73170953e-13+2.51522339e-13j,\n",
       "        -7.07583192e-10+3.99628205e-09j,  7.52044736e-23-1.66014722e-23j,\n",
       "         1.77442223e-13-2.49619131e-13j,  1.42171195e-09-7.99425122e-09j,\n",
       "        -3.59293836e-06-3.37902142e-06j,  1.39465099e-21+1.97409671e-21j,\n",
       "        -7.14298455e-10+3.99869218e-09j,  3.52077426e-06+3.48244847e-06j,\n",
       "         6.24910634e-02+2.93695416e-23j,  8.60253903e-20-2.60185426e-19j,\n",
       "         7.36290634e-23+2.35499672e-23j,  5.38570754e-22-8.84781458e-23j,\n",
       "        -4.22725535e-20-4.18782379e-20j,  2.48312002e-21+3.29090789e-21j],\n",
       "       [-7.79855266e-23+1.51174327e-23j,  7.01608886e-22+7.16393040e-22j,\n",
       "        -1.55201000e-20+4.01482047e-20j, -7.10639887e-10+3.99588438e-09j,\n",
       "        -1.39316119e-21-1.84416622e-21j, -4.35740992e-21+9.93413942e-21j,\n",
       "        -4.91177333e-19-2.28234406e-23j, -3.51987246e-06-3.48147210e-06j,\n",
       "        -8.27005055e-20+2.66426715e-19j,  3.19881311e-18-1.53109671e-22j,\n",
       "         8.22871965e-20+2.68699469e-19j,  6.24951651e-02-4.96862193e-22j,\n",
       "        -2.42669101e-21-3.43673233e-21j, -2.69828091e-20+1.22203000e-19j,\n",
       "        -1.54520196e-18+6.86117667e-23j, -1.21924647e-20-3.91937715e-20j],\n",
       "       [ 3.68477432e-20+5.78077762e-20j, -5.12111206e-19+3.75754013e-23j,\n",
       "         2.01145658e-20+2.64400200e-20j, -1.57955526e-18+6.79775405e-23j,\n",
       "        -1.70772583e-18-3.17430522e-23j, -6.75989751e-21+2.70865566e-20j,\n",
       "        -5.19843836e-22-4.86224027e-22j,  2.64534135e-20+1.11085693e-19j,\n",
       "        -2.71605994e-20+7.81890591e-20j, -4.65790739e-22-8.89445376e-22j,\n",
       "         7.23945314e-23-2.36317384e-23j, -2.40496419e-21+3.05600597e-21j,\n",
       "         6.24951651e-02-4.11487257e-22j,  3.51987246e-06-3.48147210e-06j,\n",
       "        -7.10639887e-10-3.99588438e-09j, -9.97217635e-20-2.94680084e-19j],\n",
       "       [ 1.64015779e-22-1.14112583e-21j,  4.48657878e-20-4.89693247e-22j,\n",
       "        -1.39230957e-19-1.73199738e-22j,  2.72964018e-20-1.29785650e-19j,\n",
       "        -5.37001940e-21-3.76421932e-20j, -5.20367422e-18-7.41824405e-23j,\n",
       "         9.22334634e-21-1.77248425e-20j, -1.21435605e-17+4.87579929e-23j,\n",
       "         5.69735550e-19-1.34418668e-22j, -4.51365233e-20+3.61294301e-21j,\n",
       "         3.93868591e-22+1.75806060e-22j, -2.85741848e-20-1.32434217e-19j,\n",
       "         3.51987246e-06+3.48147210e-06j,  6.24910610e-02+1.57856083e-22j,\n",
       "         3.59202178e-06-3.37806682e-06j,  5.20466664e-18-4.49626477e-23j],\n",
       "       [-7.56928089e-23-2.75858348e-23j, -7.49103225e-22+1.06840806e-22j,\n",
       "         3.56824655e-20+5.78966443e-20j, -2.56513677e-21-3.26572959e-21j,\n",
       "        -4.79902151e-22+4.22939309e-22j,  9.11796516e-21+2.25764901e-20j,\n",
       "        -6.00616460e-18-1.75068185e-22j, -3.00820306e-20+1.34654001e-19j,\n",
       "        -1.81702866e-20+2.56714503e-20j,  2.75639118e-19-7.85141118e-23j,\n",
       "        -4.17013493e-20+5.81582352e-20j, -1.51200221e-18-1.23631398e-22j,\n",
       "        -7.10639887e-10+3.99588438e-09j,  3.59202178e-06+3.37806682e-06j,\n",
       "         6.24838537e-02+2.33990897e-22j,  9.69976334e-20-3.02578283e-19j],\n",
       "       [ 2.46507440e-21+3.37864939e-21j,  2.63089646e-20-1.29556554e-19j,\n",
       "         1.64949070e-18-7.79218921e-23j,  3.74918686e-21+5.72379062e-20j,\n",
       "         3.13541383e-20-1.18908251e-19j, -1.04100013e-17+8.12284418e-23j,\n",
       "        -2.82716134e-20-1.15856579e-19j, -5.20250996e-18-2.55409167e-22j,\n",
       "         1.58172814e-18+1.66451115e-22j, -2.87745609e-20-1.31699539e-19j,\n",
       "         2.45209801e-21-3.11519237e-21j, -7.90297808e-21+5.94503537e-20j,\n",
       "        -9.73271379e-20+3.01337240e-19j,  6.94055437e-18-2.16121944e-22j,\n",
       "         9.22153025e-20+2.87755153e-19j,  6.24700877e-02-2.54115691e-23j]])"
      ]
     },
     "execution_count": 34,
     "metadata": {},
     "output_type": "execute_result"
    },
    {
     "name": "stdout",
     "output_type": "stream",
     "text": [
      "time: 308 ms\n"
     ]
    }
   ],
   "source": [
    "plot_state(qutip_state_transformed)\n",
    "qutip_state_transformed"
   ]
  },
  {
   "cell_type": "code",
   "execution_count": 35,
   "metadata": {
    "scrolled": true
   },
   "outputs": [
    {
     "data": {
      "image/png": "[encoded data removed]",
      "text/plain": [
       "<Figure size 288x216 with 2 Axes>"
      ]
     },
     "metadata": {
      "needs_background": "light"
     },
     "output_type": "display_data"
    },
    {
     "name": "stdout",
     "output_type": "stream",
     "text": [
      "max value =  0.00816274705457181\n"
     ]
    },
    {
     "data": {
      "text/plain": [
       "array([[2.30151889e-07, 3.53743515e-03, 1.59313314e-03, 1.57422836e-19,\n",
       "        3.48232496e-03, 1.59918361e-03, 8.16015287e-03, 4.44049194e-21,\n",
       "        1.60611343e-03, 8.05740802e-03, 6.45279810e-03, 7.52442972e-23,\n",
       "        6.15327869e-20, 9.99296262e-22, 7.27197684e-23, 3.96711336e-21],\n",
       "       [3.53743515e-03, 7.02920110e-08, 3.59137845e-03, 3.25837659e-18,\n",
       "        1.60948762e-03, 3.53817708e-03, 1.59313313e-03, 1.22220045e-19,\n",
       "        8.02658190e-03, 1.60069225e-03, 8.16015318e-03, 1.27323765e-21,\n",
       "        4.74986754e-19, 5.93671694e-20, 9.16133702e-22, 1.38354400e-19],\n",
       "       [1.59313314e-03, 3.59137845e-03, 2.90722313e-07, 1.37463690e-19,\n",
       "        8.16274705e-03, 1.60978206e-03, 3.59137845e-03, 1.31597165e-18,\n",
       "        6.46377811e-03, 8.16274697e-03, 1.59313314e-03, 4.64287708e-20,\n",
       "        3.41843997e-20, 2.46169035e-19, 7.80864592e-20, 1.62005648e-18],\n",
       "       [1.41668461e-19, 5.04362685e-19, 1.43550821e-19, 4.70178228e-07,\n",
       "        1.13947210e-18, 1.19375224e-19, 4.33572280e-21, 3.53669338e-03,\n",
       "        4.36032795e-20, 1.20686232e-21, 7.54716348e-23, 1.59767403e-03,\n",
       "        1.58788006e-18, 1.40433799e-19, 4.09260246e-21, 4.77496238e-20],\n",
       "       [3.48232496e-03, 1.60948762e-03, 8.16274705e-03, 1.19115913e-18,\n",
       "        4.69876355e-07, 3.48303927e-03, 1.60069225e-03, 2.26136502e-19,\n",
       "        3.42612426e-03, 1.60611343e-03, 8.05740763e-03, 2.32575670e-21,\n",
       "        3.77057345e-18, 2.44394667e-20, 7.06937201e-22, 1.13829390e-19],\n",
       "       [1.59918361e-03, 3.53817708e-03, 1.60978206e-03, 1.27539475e-19,\n",
       "        3.48303927e-03, 3.10282661e-07, 3.53817708e-03, 3.46877840e-18,\n",
       "        1.61011969e-03, 3.48303927e-03, 1.59918361e-03, 5.99285907e-21,\n",
       "        3.32641008e-20, 8.88275507e-22, 1.95161747e-20, 1.04076723e-17],\n",
       "       [8.16015290e-03, 1.59313313e-03, 3.59137845e-03, 4.75230527e-21,\n",
       "        1.60069225e-03, 3.53817708e-03, 7.02920108e-08, 2.26337910e-19,\n",
       "        8.02658197e-03, 1.60948762e-03, 3.53743515e-03, 3.86011846e-19,\n",
       "        7.76172036e-22, 2.52186702e-20, 3.68051735e-18, 1.34918506e-19],\n",
       "       [4.74153424e-21, 1.18432281e-19, 1.39283974e-18, 3.53669338e-03,\n",
       "        2.26626170e-19, 6.93939012e-18, 2.15988678e-19, 2.30393264e-07,\n",
       "        4.55386102e-19, 7.43439754e-21, 2.27079208e-21, 3.48161082e-03,\n",
       "        1.22732863e-19, 1.04088371e-17, 1.18802577e-19, 8.67312118e-18],\n",
       "       [1.60611343e-03, 8.02658190e-03, 6.46377809e-03, 4.17593631e-20,\n",
       "        3.42612426e-03, 1.61011969e-03, 8.02658198e-03, 5.16160690e-19,\n",
       "        1.08978261e-06, 3.42612426e-03, 1.60611343e-03, 2.84695678e-19,\n",
       "        9.71631225e-20, 5.68676759e-19, 3.45928500e-20, 1.46674344e-18],\n",
       "       [8.05740803e-03, 1.60069225e-03, 8.16274697e-03, 1.21735740e-21,\n",
       "        1.60611343e-03, 3.48303927e-03, 1.60948762e-03, 9.81637370e-21,\n",
       "        3.42612426e-03, 4.69876354e-07, 3.48232496e-03, 6.04250447e-18,\n",
       "        1.05551237e-21, 5.18071544e-20, 2.04668668e-19, 1.25680608e-19],\n",
       "       [6.45279727e-03, 8.16015319e-03, 1.59313314e-03, 7.70150746e-23,\n",
       "        8.05740769e-03, 1.59918361e-03, 3.53743515e-03, 2.41704555e-21,\n",
       "        1.60611343e-03, 3.48232496e-03, 2.30151890e-07, 2.74037996e-19,\n",
       "        7.73035571e-23, 5.45790106e-22, 5.95042485e-20, 4.12261565e-21],\n",
       "       [7.94372654e-23, 1.00273327e-21, 4.30436040e-20, 1.59767403e-03,\n",
       "        2.31124364e-21, 1.08477715e-20, 4.91177334e-19, 3.48161082e-03,\n",
       "        2.78966966e-19, 3.19881311e-18, 2.81017059e-19, 7.05078406e-08,\n",
       "        4.20713185e-21, 1.25146495e-19, 1.54520196e-18, 4.10464118e-20],\n",
       "       [6.85528640e-20, 5.12111207e-19, 3.32215354e-20, 1.57955526e-18,\n",
       "        1.70772583e-18, 2.79173380e-20, 7.11794506e-22, 1.14192006e-19,\n",
       "        8.27721397e-20, 1.00402893e-21, 7.61539706e-23, 3.88883341e-21,\n",
       "        7.05078403e-08, 3.48161082e-03, 1.59767403e-03, 3.11096098e-19],\n",
       "       [1.15285270e-21, 4.48684601e-20, 1.39231065e-19, 1.32625067e-19,\n",
       "        3.80233062e-20, 5.20367422e-18, 1.99809949e-20, 1.21435605e-17,\n",
       "        5.69735566e-19, 4.52808910e-20, 4.31323820e-22, 1.35481755e-19,\n",
       "        3.48161082e-03, 2.30393264e-07, 3.53669338e-03, 5.20466664e-18],\n",
       "       [8.05628922e-23, 7.56683949e-22, 6.80092623e-20, 4.15269989e-21,\n",
       "        6.39674709e-22, 2.43482072e-20, 6.00616461e-18, 1.37973289e-19,\n",
       "        3.14512746e-20, 2.75639130e-19, 7.15638376e-20, 1.51200222e-18,\n",
       "        1.59767403e-03, 3.53669338e-03, 4.70178228e-07, 3.17745429e-19],\n",
       "       [4.18232752e-21, 1.32200840e-19, 1.64949070e-18, 5.73605640e-20,\n",
       "        1.22972575e-19, 1.04100013e-17, 1.19256157e-19, 5.20250997e-18,\n",
       "        1.58172814e-18, 1.34806320e-19, 3.96449342e-21, 5.99733409e-20,\n",
       "        3.16664971e-19, 6.94055437e-18, 3.02169969e-19, 7.70466492e-07]])"
      ]
     },
     "execution_count": 35,
     "metadata": {},
     "output_type": "execute_result"
    },
    {
     "name": "stdout",
     "output_type": "stream",
     "text": [
      "time: 317 ms\n"
     ]
    }
   ],
   "source": [
    "rel_diff = np.absolute(np.divide(qutip_state_transformed-piqs_state, qutip_state_transformed))\n",
    "qutip_state_transformed = np.absolute(qutip_state_transformed)\n",
    "mask = (piqs_state == 0)\n",
    "rel_diff[mask] = qutip_state_transformed[mask]\n",
    "plot_state(rel_diff)\n",
    "print('max value = ', rel_diff.max())\n",
    "rel_diff"
   ]
  },
  {
   "cell_type": "markdown",
   "metadata": {},
   "source": [
    "<h1><center> Two species: 2 TLSs each in driven leaky cavity </center></h1>\n",
    "\n",
    "\\begin{eqnarray}\n",
    "H_\\text{TLS}^{(1)}&=&\\hbar\\omega_{0}^{(1)} J_{z}^{(1)}+\\hbar\\omega_{x}^{(1)} J_{x}^{(1)} \\quad \\quad\n",
    "H_\\text{TLS}^{(2)}&=&\\hbar\\omega_{0}^{(2)} J_{z}^{(2)}+\\hbar\\omega_{x}^{(2)} J_{x}^{(2)} \\quad \\quad\n",
    "H_\\text{phot} = \\hbar \\omega_c a^\\dagger a \\quad \\quad\n",
    "H_\\text{int} = \\hbar g (a^\\dagger + a) (J_x^{(1)}+J_x^{(2)})\n",
    "\\end{eqnarray}\n",
    "\n",
    "\\begin{eqnarray}\n",
    "\\dot{\\rho} = \\mathcal{D}_\\text{TLS}^{(1)}(\\rho)+\\mathcal{D}_\\text{TLS}^{(2)}(\\rho)+\\mathcal{D}_\\text{phot}(\\rho) -\\frac{i}{\\hbar}\\lbrack H_\\text{int}, \\rho\\rbrack\n",
    "&=&-\\frac{i}{\\hbar}\\lbrack H_\\text{TLS}^{(1)}+H_\\text{TLS}^{(2)}+H_\\text{phot}+H_\\text{int},\\rho \\rbrack\\\\\n",
    "&&\n",
    "+\\frac{\\gamma_\\Downarrow}{2}\\mathcal{L}_{J_-}[\\rho]\n",
    "+\\frac{\\gamma_\\Phi}{2}\\mathcal{L}_{J_z}[\\rho]\n",
    "+\\frac{\\gamma_\\Uparrow}{2}\\mathcal{L}_{J_+}[\\rho]\\\\\n",
    "&&+\\frac{w_p}{2}\\mathcal{L}_{a^\\dagger}[\\rho]\n",
    "+\\frac{\\kappa}{2}\\mathcal{L}_{a}[\\rho]\\\\\n",
    "&&\n",
    "+\\sum_{n=1}^{N_1}\\frac{\\gamma_\\downarrow^{(1)}}{2}\\mathcal{L}_{J_{-,n}^{(1)}}[\\rho] \n",
    "+\\frac{\\gamma_\\phi^{(1)}}{2}\\mathcal{L}_{J_{z,n}^{(1)}}[\\rho] \n",
    "+\\frac{\\gamma_\\uparrow^{(1)}}{2}\\mathcal{L}_{J_{+,n}^{(1)}}[\\rho] \\\\\n",
    "&&\n",
    "+\\sum_{n=1}^{N_2}\\frac{\\gamma_\\downarrow^{(2)}}{2}\\mathcal{L}_{J_{-,n}^{(2)}}[\\rho]\n",
    "+\\frac{\\gamma_\\phi^{(2)}}{2}\\mathcal{L}_{J_{z,n}^{(2)}}[\\rho]\n",
    "+\\frac{\\gamma_\\uparrow^{(2)}}{2}\\mathcal{L}_{J_{+,n}^{(2)}}[\\rho]\n",
    "\\end{eqnarray}"
   ]
  },
  {
   "cell_type": "code",
   "execution_count": 36,
   "metadata": {},
   "outputs": [
    {
     "name": "stdout",
     "output_type": "stream",
     "text": [
      "time: 29.4 ms\n"
     ]
    }
   ],
   "source": [
    "N1 = 2\n",
    "N2 = 2"
   ]
  },
  {
   "cell_type": "code",
   "execution_count": 37,
   "metadata": {},
   "outputs": [
    {
     "name": "stdout",
     "output_type": "stream",
     "text": [
      "time: 28.2 ms\n"
     ]
    }
   ],
   "source": [
    "unc_to_dicke = [[1.,0,0,0],\n",
    "                [0,1/np.sqrt(2), 1/np.sqrt(2),0],\n",
    "                [0,0,0,1.],\n",
    "                [0,1/np.sqrt(2), -1/np.sqrt(2),0]]\n",
    "dicke_to_unc = linalg.inv(unc_to_dicke)\n",
    "\n",
    "unc_dicke_two = np.kron(unc_to_dicke, unc_to_dicke)\n",
    "\n",
    "id_phot = [[1.,0.],[0.,1.]]\n",
    "unc_dicke_two_phot = np.kron(unc_dicke_two, id_phot)\n",
    "\n",
    "dicke_unc_two_phot = linalg.inv(unc_dicke_two_phot)"
   ]
  },
  {
   "cell_type": "code",
   "execution_count": 38,
   "metadata": {
    "scrolled": true
   },
   "outputs": [
    {
     "data": {
      "image/png": "[encoded data removed]",
      "text/plain": [
       "<Figure size 288x216 with 2 Axes>"
      ]
     },
     "metadata": {
      "needs_background": "light"
     },
     "output_type": "display_data"
    },
    {
     "data": {
      "text/plain": [
       "array([[0., 0., 0., 0., 0., 0., 0., 0., 0., 0., 0., 0., 0., 0., 0., 0.],\n",
       "       [0., 0., 0., 0., 0., 0., 0., 0., 0., 0., 0., 0., 0., 0., 0., 0.],\n",
       "       [0., 0., 0., 0., 0., 0., 0., 0., 0., 0., 0., 0., 0., 0., 0., 0.],\n",
       "       [0., 0., 0., 0., 0., 0., 0., 0., 0., 0., 0., 0., 0., 0., 0., 0.],\n",
       "       [0., 0., 0., 0., 0., 0., 0., 0., 0., 0., 0., 0., 0., 0., 0., 0.],\n",
       "       [0., 0., 0., 0., 0., 0., 0., 0., 0., 0., 0., 0., 0., 0., 0., 0.],\n",
       "       [0., 0., 0., 0., 0., 0., 0., 0., 0., 0., 0., 0., 0., 0., 0., 0.],\n",
       "       [0., 0., 0., 0., 0., 0., 0., 0., 0., 0., 0., 0., 0., 0., 0., 0.],\n",
       "       [0., 0., 0., 0., 0., 0., 0., 0., 1., 0., 0., 0., 0., 0., 0., 0.],\n",
       "       [0., 0., 0., 0., 0., 0., 0., 0., 0., 0., 0., 0., 0., 0., 0., 0.],\n",
       "       [0., 0., 0., 0., 0., 0., 0., 0., 0., 0., 0., 0., 0., 0., 0., 0.],\n",
       "       [0., 0., 0., 0., 0., 0., 0., 0., 0., 0., 0., 0., 0., 0., 0., 0.],\n",
       "       [0., 0., 0., 0., 0., 0., 0., 0., 0., 0., 0., 0., 0., 0., 0., 0.],\n",
       "       [0., 0., 0., 0., 0., 0., 0., 0., 0., 0., 0., 0., 0., 0., 0., 0.],\n",
       "       [0., 0., 0., 0., 0., 0., 0., 0., 0., 0., 0., 0., 0., 0., 0., 0.],\n",
       "       [0., 0., 0., 0., 0., 0., 0., 0., 0., 0., 0., 0., 0., 0., 0., 0.]])"
      ]
     },
     "execution_count": 38,
     "metadata": {},
     "output_type": "execute_result"
    },
    {
     "name": "stdout",
     "output_type": "stream",
     "text": [
      "time: 588 ms\n"
     ]
    }
   ],
   "source": [
    "initial_state_piqs_1 = piqs.ground(N1)\n",
    "initial_state_piqs_2 = piqs.excited(N2)\n",
    "plot_state(tensor(initial_state_piqs_1, initial_state_piqs_2))\n",
    "np.real(tensor(initial_state_piqs_1, initial_state_piqs_2))"
   ]
  },
  {
   "cell_type": "code",
   "execution_count": 39,
   "metadata": {
    "scrolled": true
   },
   "outputs": [
    {
     "data": {
      "image/png": "[encoded data removed]",
      "text/plain": [
       "<Figure size 288x216 with 2 Axes>"
      ]
     },
     "metadata": {
      "needs_background": "light"
     },
     "output_type": "display_data"
    },
    {
     "data": {
      "text/plain": [
       "array([[0., 0., 0., 0., 0., 0., 0., 0., 0., 0., 0., 0., 0., 0., 0., 0.],\n",
       "       [0., 0., 0., 0., 0., 0., 0., 0., 0., 0., 0., 0., 0., 0., 0., 0.],\n",
       "       [0., 0., 0., 0., 0., 0., 0., 0., 0., 0., 0., 0., 0., 0., 0., 0.],\n",
       "       [0., 0., 0., 0., 0., 0., 0., 0., 0., 0., 0., 0., 0., 0., 0., 0.],\n",
       "       [0., 0., 0., 0., 0., 0., 0., 0., 0., 0., 0., 0., 0., 0., 0., 0.],\n",
       "       [0., 0., 0., 0., 0., 0., 0., 0., 0., 0., 0., 0., 0., 0., 0., 0.],\n",
       "       [0., 0., 0., 0., 0., 0., 0., 0., 0., 0., 0., 0., 0., 0., 0., 0.],\n",
       "       [0., 0., 0., 0., 0., 0., 0., 0., 0., 0., 0., 0., 0., 0., 0., 0.],\n",
       "       [0., 0., 0., 0., 0., 0., 0., 0., 0., 0., 0., 0., 0., 0., 0., 0.],\n",
       "       [0., 0., 0., 0., 0., 0., 0., 0., 0., 0., 0., 0., 0., 0., 0., 0.],\n",
       "       [0., 0., 0., 0., 0., 0., 0., 0., 0., 0., 0., 0., 0., 0., 0., 0.],\n",
       "       [0., 0., 0., 0., 0., 0., 0., 0., 0., 0., 0., 0., 0., 0., 0., 0.],\n",
       "       [0., 0., 0., 0., 0., 0., 0., 0., 0., 0., 0., 0., 1., 0., 0., 0.],\n",
       "       [0., 0., 0., 0., 0., 0., 0., 0., 0., 0., 0., 0., 0., 0., 0., 0.],\n",
       "       [0., 0., 0., 0., 0., 0., 0., 0., 0., 0., 0., 0., 0., 0., 0., 0.],\n",
       "       [0., 0., 0., 0., 0., 0., 0., 0., 0., 0., 0., 0., 0., 0., 0., 0.]])"
      ]
     },
     "execution_count": 39,
     "metadata": {},
     "output_type": "execute_result"
    },
    {
     "name": "stdout",
     "output_type": "stream",
     "text": [
      "time: 563 ms\n"
     ]
    }
   ],
   "source": [
    "initial_state_qutip_1 = Qobj(np.dot(np.dot(dicke_to_unc, initial_state_piqs_1), unc_to_dicke))\n",
    "initial_state_qutip_2 = Qobj(np.dot(np.dot(dicke_to_unc, initial_state_piqs_2), unc_to_dicke))\n",
    "plot_state(tensor(initial_state_qutip_1, initial_state_qutip_2))\n",
    "np.real(tensor(initial_state_qutip_1, initial_state_qutip_2))"
   ]
  },
  {
   "cell_type": "code",
   "execution_count": 40,
   "metadata": {
    "scrolled": true
   },
   "outputs": [
    {
     "data": {
      "text/plain": [
       "array([[ 3.21326436e-02,  2.30467764e-05, -2.94972914e-05, ...,\n",
       "         0.00000000e+00,  0.00000000e+00,  0.00000000e+00],\n",
       "       [ 2.30467764e-05,  2.43352432e-02, -1.59337515e-05, ...,\n",
       "         0.00000000e+00,  0.00000000e+00,  0.00000000e+00],\n",
       "       [-2.94972914e-05, -1.59337515e-05,  3.73299638e-02, ...,\n",
       "         0.00000000e+00,  0.00000000e+00,  0.00000000e+00],\n",
       "       ...,\n",
       "       [ 0.00000000e+00,  0.00000000e+00,  0.00000000e+00, ...,\n",
       "         3.26430758e-02,  0.00000000e+00,  0.00000000e+00],\n",
       "       [ 0.00000000e+00,  0.00000000e+00,  0.00000000e+00, ...,\n",
       "         0.00000000e+00,  4.27509409e-02, -1.44938251e-05],\n",
       "       [ 0.00000000e+00,  0.00000000e+00,  0.00000000e+00, ...,\n",
       "         0.00000000e+00, -1.44938251e-05,  2.01009172e-02]])"
      ]
     },
     "execution_count": 40,
     "metadata": {},
     "output_type": "execute_result"
    },
    {
     "name": "stdout",
     "output_type": "stream",
     "text": [
      "time: 915 ms\n"
     ]
    }
   ],
   "source": [
    "piqs_state = np.array(library.two_species_piqs_mesolve(N1,N2,initial_state_piqs_1,initial_state_piqs_2,2,g1=10,g2=20)[-1])\n",
    "np.real(piqs_state)"
   ]
  },
  {
   "cell_type": "code",
   "execution_count": 41,
   "metadata": {
    "scrolled": true
   },
   "outputs": [
    {
     "data": {
      "text/plain": [
       "array([[ 3.21326207e-02,  2.30468102e-05, -2.08580007e-05, ...,\n",
       "         3.01924559e-06,  1.62025579e-03, -9.18665244e-07],\n",
       "       [ 2.30468102e-05,  2.43352058e-02, -1.12668486e-05, ...,\n",
       "        -1.84569907e-06, -8.72863240e-07, -1.17833725e-03],\n",
       "       [-2.08580007e-05, -1.12668486e-05,  4.15334915e-02, ...,\n",
       "         7.97015170e-07, -1.15879174e-05,  1.82916221e-06],\n",
       "       ...,\n",
       "       [ 3.01924559e-06, -1.84569907e-06,  7.97015170e-07, ...,\n",
       "         2.23525067e-02, -1.46745941e-05, -1.74651630e-05],\n",
       "       [ 1.62025579e-03, -8.72863240e-07, -1.15879174e-05, ...,\n",
       "        -1.46745941e-05,  3.84892796e-02, -3.40781999e-05],\n",
       "       [-9.18665244e-07, -1.17833725e-03,  1.82916221e-06, ...,\n",
       "        -1.74651630e-05, -3.40781999e-05,  2.87691302e-02]])"
      ]
     },
     "execution_count": 41,
     "metadata": {},
     "output_type": "execute_result"
    },
    {
     "name": "stdout",
     "output_type": "stream",
     "text": [
      "time: 1.37 s\n"
     ]
    }
   ],
   "source": [
    "qutip_state = library.two_species_qutip_mesolve(N1,N2,initial_state_qutip_1,initial_state_qutip_2,2,g1=10,g2=20)[-1]\n",
    "np.real(qutip_state)"
   ]
  },
  {
   "cell_type": "code",
   "execution_count": 42,
   "metadata": {},
   "outputs": [
    {
     "name": "stdout",
     "output_type": "stream",
     "text": [
      "time: 29.7 ms\n"
     ]
    }
   ],
   "source": [
    "qutip_state_transformed = np.dot(np.dot(unc_dicke_two_phot, qutip_state), dicke_unc_two_phot)"
   ]
  },
  {
   "cell_type": "code",
   "execution_count": 43,
   "metadata": {
    "scrolled": true
   },
   "outputs": [
    {
     "data": {
      "image/png": "[encoded data removed]",
      "text/plain": [
       "<Figure size 288x216 with 2 Axes>"
      ]
     },
     "metadata": {
      "needs_background": "light"
     },
     "output_type": "display_data"
    },
    {
     "name": "stdout",
     "output_type": "stream",
     "text": [
      "0.04934741608107237\n"
     ]
    },
    {
     "data": {
      "text/plain": [
       "array([[ 3.21326436e-02-3.91655992e-20j,  2.30467764e-05+1.75166648e-05j,\n",
       "        -2.94972914e-05-3.24109148e-05j, ...,\n",
       "         0.00000000e+00+0.00000000e+00j,  0.00000000e+00+0.00000000e+00j,\n",
       "         0.00000000e+00+0.00000000e+00j],\n",
       "       [ 2.30467764e-05-1.75166648e-05j,  2.43352432e-02-1.21452915e-19j,\n",
       "        -1.59337515e-05-5.40043820e-05j, ...,\n",
       "         0.00000000e+00+0.00000000e+00j,  0.00000000e+00+0.00000000e+00j,\n",
       "         0.00000000e+00+0.00000000e+00j],\n",
       "       [-2.94972914e-05+3.24109148e-05j, -1.59337515e-05+5.40043820e-05j,\n",
       "         3.73299638e-02-6.33735739e-20j, ...,\n",
       "         0.00000000e+00+0.00000000e+00j,  0.00000000e+00+0.00000000e+00j,\n",
       "         0.00000000e+00+0.00000000e+00j],\n",
       "       ...,\n",
       "       [ 0.00000000e+00+0.00000000e+00j,  0.00000000e+00+0.00000000e+00j,\n",
       "         0.00000000e+00+0.00000000e+00j, ...,\n",
       "         3.26430758e-02+5.55737380e-21j,  0.00000000e+00+0.00000000e+00j,\n",
       "         0.00000000e+00+0.00000000e+00j],\n",
       "       [ 0.00000000e+00+0.00000000e+00j,  0.00000000e+00+0.00000000e+00j,\n",
       "         0.00000000e+00+0.00000000e+00j, ...,\n",
       "         0.00000000e+00+0.00000000e+00j,  4.27509409e-02+3.74224695e-21j,\n",
       "        -1.44938251e-05-4.31248626e-06j],\n",
       "       [ 0.00000000e+00+0.00000000e+00j,  0.00000000e+00+0.00000000e+00j,\n",
       "         0.00000000e+00+0.00000000e+00j, ...,\n",
       "         0.00000000e+00+0.00000000e+00j, -1.44938251e-05+4.31248626e-06j,\n",
       "         2.01009172e-02-2.71257862e-21j]])"
      ]
     },
     "execution_count": 43,
     "metadata": {},
     "output_type": "execute_result"
    },
    {
     "name": "stdout",
     "output_type": "stream",
     "text": [
      "time: 312 ms\n"
     ]
    }
   ],
   "source": [
    "plot_state(piqs_state)\n",
    "print(np.absolute(piqs_state).max())\n",
    "np.array(piqs_state)"
   ]
  },
  {
   "cell_type": "code",
   "execution_count": 44,
   "metadata": {
    "scrolled": true
   },
   "outputs": [
    {
     "data": {
      "image/png": "[encoded data removed]",
      "text/plain": [
       "<Figure size 288x216 with 2 Axes>"
      ]
     },
     "metadata": {
      "needs_background": "light"
     },
     "output_type": "display_data"
    },
    {
     "data": {
      "text/plain": [
       "array([[ 3.21326207e-02-3.42829205e-20j,  2.30468102e-05+1.75168620e-05j,\n",
       "        -2.94976675e-05-3.24110841e-05j, ...,\n",
       "         2.43754099e-19-1.92908386e-19j, -7.05900859e-19+1.18282527e-19j,\n",
       "        -1.47701335e-21+6.09046982e-21j],\n",
       "       [ 2.30468102e-05-1.75168620e-05j,  2.43352058e-02-2.36753192e-19j,\n",
       "        -1.59337301e-05-5.40041903e-05j, ...,\n",
       "         6.17120280e-21+7.60197139e-21j, -4.24005941e-21+9.46284433e-22j,\n",
       "         1.55054525e-20+3.73033877e-21j],\n",
       "       [-2.94976675e-05+3.24110841e-05j, -1.59337301e-05+5.40041903e-05j,\n",
       "         3.73299689e-02-1.04732031e-19j, ...,\n",
       "         1.47340882e-20-4.60675892e-21j,  4.02653691e-22+4.79165632e-21j,\n",
       "        -2.65887716e-22+4.00433434e-20j],\n",
       "       ...,\n",
       "       [ 1.58504401e-19+5.53858904e-19j,  9.96883055e-21+1.10944820e-20j,\n",
       "         2.50017556e-20+1.15651920e-20j, ...,\n",
       "         3.26431036e-02-2.04399358e-20j,  1.06551203e-20+1.77609514e-18j,\n",
       "        -3.52019579e-21+6.12178863e-21j],\n",
       "       [-7.03561965e-19-1.21605465e-20j,  8.89874062e-21+3.85796019e-21j,\n",
       "         8.97994119e-22+1.49736829e-20j, ...,\n",
       "         6.37840418e-20-1.52067101e-18j,  4.27510925e-02+3.80098253e-20j,\n",
       "        -1.44940979e-05-4.31266678e-06j],\n",
       "       [-4.66397551e-21-4.07392555e-21j,  5.26595634e-19+1.18926820e-19j,\n",
       "        -2.09009921e-22-4.59283618e-20j, ...,\n",
       "         5.12913058e-21-7.43073853e-21j, -1.44940979e-05+4.31266678e-06j,\n",
       "         2.01009302e-02+3.80916280e-20j]])"
      ]
     },
     "execution_count": 44,
     "metadata": {},
     "output_type": "execute_result"
    },
    {
     "name": "stdout",
     "output_type": "stream",
     "text": [
      "time: 300 ms\n"
     ]
    }
   ],
   "source": [
    "plot_state(qutip_state_transformed)\n",
    "qutip_state_transformed"
   ]
  },
  {
   "cell_type": "code",
   "execution_count": 45,
   "metadata": {},
   "outputs": [
    {
     "data": {
      "image/png": "[encoded data removed]",
      "text/plain": [
       "<Figure size 288x216 with 2 Axes>"
      ]
     },
     "metadata": {
      "needs_background": "light"
     },
     "output_type": "display_data"
    },
    {
     "name": "stdout",
     "output_type": "stream",
     "text": [
      "max value =  0.00015862603643780677\n"
     ]
    },
    {
     "data": {
      "text/plain": [
       "array([[7.12911292e-07, 6.91199545e-06, 9.41165830e-06, ...,\n",
       "        3.10853191e-19, 7.15742118e-19, 6.26700814e-21],\n",
       "       [6.91199545e-06, 1.53539722e-06, 3.42603529e-06, ...,\n",
       "        9.79151229e-21, 4.34437084e-21, 1.59478677e-20],\n",
       "       [9.41165830e-06, 3.42603529e-06, 1.38162261e-07, ...,\n",
       "        1.54374733e-20, 4.80854451e-21, 4.00442261e-20],\n",
       "       ...,\n",
       "       [5.76093162e-19, 1.49152644e-20, 2.75470769e-20, ...,\n",
       "        8.53005248e-07, 1.77612710e-18, 7.06173310e-21],\n",
       "       [7.03667050e-19, 9.69904332e-21, 1.50005858e-20, ...,\n",
       "        1.52200812e-18, 3.54618086e-06, 2.16351654e-05],\n",
       "       [6.19270030e-21, 5.39857898e-19, 4.59288373e-20, ...,\n",
       "        9.02905619e-21, 2.16351654e-05, 6.45443451e-07]])"
      ]
     },
     "execution_count": 45,
     "metadata": {},
     "output_type": "execute_result"
    },
    {
     "name": "stdout",
     "output_type": "stream",
     "text": [
      "time: 293 ms\n"
     ]
    }
   ],
   "source": [
    "rel_diff = np.absolute(np.divide(qutip_state_transformed-piqs_state, qutip_state_transformed))\n",
    "qutip_state_transformed = np.absolute(qutip_state_transformed)\n",
    "mask = (piqs_state == 0)\n",
    "rel_diff[mask] = qutip_state_transformed[mask]\n",
    "plot_state(rel_diff)\n",
    "print('max value = ', rel_diff.max())\n",
    "rel_diff"
   ]
  },
  {
   "cell_type": "code",
   "execution_count": null,
   "metadata": {},
   "outputs": [],
   "source": []
  }
 ],
 "metadata": {
  "kernelspec": {
   "display_name": "tiqi_semester",
   "language": "python",
   "name": "tiqi_semester"
  },
  "language_info": {
   "codemirror_mode": {
    "name": "ipython",
    "version": 3
   },
   "file_extension": ".py",
   "mimetype": "text/x-python",
   "name": "python",
   "nbconvert_exporter": "python",
   "pygments_lexer": "ipython3",
   "version": "3.7.9"
  }
 },
 "nbformat": 4,
 "nbformat_minor": 4
}
