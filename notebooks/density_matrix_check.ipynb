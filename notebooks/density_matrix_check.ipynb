{
 "cells": [
  {
   "cell_type": "markdown",
   "metadata": {},
   "source": [
    "# Bipartite two level systems: density matrix\n",
    "\n",
    "The *Permutational Invariant Quantum Solver (PIQS)* is an open-source Python solver to study the exact Lindbladian dynamics of open quantum systems consisting of identical qubits. It is integrated in QuTiP and can be imported as a model.\n",
    "\n",
    "This tutorial is meant to check whether the results obtained with the PIQS method are equivalent to the ones obtained with QuTiP standard approach. The PIQS method represents the density matrix of the states in the Dicke basis whereas the QuTiP standard approach is to exploit the uncupled basis. The Dicke basis is degenerate with respect to the uncoupled one (hence it contains fewer states) and it is precisely this degeneracy that is at the core of the PIQS method. As a matter of fact, this degeneracy captures the permutational ivariance of the system. The master equation which describes the physics involved is in fact invariant under permutations of TLSs. The Dicke basis, which consists of the eigenstates of the collecitve spin operator, captures this invariance and it represents the system without loss of information. Every possible states is represented in the Dicke basis as a block diagonal matrix.\n",
    "\n",
    "The equivalence between the two methods is proven for the simple case of one species TLSs both with and without a common bosonic coupling. The original step is thus to prove that this equivalence is valid for two species in a bosonic cavity as well.\n",
    "\n",
    "This is achieved in the following way:\n",
    "\n",
    "1. The initial density matrix is prepared in the Dicke basis and converted to the uncoupled basis.\n",
    "2. Each initial state is passed to the corresponding method and the master equation is solved in both cases\n",
    "3. The resulting density matrices are compared: To do so the density matrix in the unoupled basis is reconverted to the Dicke basis.\n",
    "4. It is useful to look at the difference between the density matrices elements obtained with the two methods. \n",
    "\n",
    "We expect to obeserve small discrepancies in the elements of the two matrices if the methods are equivalent. These are evaluated by taking the absolute relative difference between the values."
   ]
  },
  {
   "cell_type": "code",
   "execution_count": 1,
   "metadata": {},
   "outputs": [
    {
     "name": "stdout",
     "output_type": "stream",
     "text": [
      "time: 40 ms\n"
     ]
    }
   ],
   "source": [
    "%load_ext autotime\n",
    "%load_ext autoreload\n",
    "%autoreload 2"
   ]
  },
  {
   "cell_type": "code",
   "execution_count": 2,
   "metadata": {},
   "outputs": [
    {
     "name": "stdout",
     "output_type": "stream",
     "text": [
      "time: 4.68 s\n"
     ]
    }
   ],
   "source": [
    "import library\n",
    "\n",
    "import matplotlib.pyplot as plt\n",
    "import matplotlib as mpl\n",
    "import numpy as np\n",
    "\n",
    "from mpl_toolkits.axes_grid1 import make_axes_locatable\n",
    "from scipy import linalg\n",
    "\n",
    "from qutip import *\n",
    "from qutip import piqs"
   ]
  },
  {
   "cell_type": "code",
   "execution_count": 3,
   "metadata": {},
   "outputs": [
    {
     "name": "stdout",
     "output_type": "stream",
     "text": [
      "time: 107 ms\n"
     ]
    }
   ],
   "source": [
    "plt.rcParams[\"figure.figsize\"] = (12,8)"
   ]
  },
  {
   "cell_type": "code",
   "execution_count": 4,
   "metadata": {},
   "outputs": [
    {
     "name": "stdout",
     "output_type": "stream",
     "text": [
      "time: 64.1 ms\n"
     ]
    }
   ],
   "source": [
    "def plot_state (density):\n",
    "    density_real = np.absolute(density)\n",
    "    fig = plt.figure(figsize=(4, 3))\n",
    "    label_size = 16\n",
    "\n",
    "    plt.rc('xtick', labelsize=label_size) \n",
    "    plt.rc('ytick', labelsize=label_size)\n",
    "\n",
    "    ax1 = fig.add_subplot(111)\n",
    "    ax1.set_title('density matrix', fontsize=label_size)\n",
    "    ax1.set_xticks([])\n",
    "    ax1.set_yticks([])\n",
    "    im1 = ax1.imshow(density_real, interpolation='None', cmap='Blues', norm=mpl.colors.LogNorm())\n",
    "    divider = make_axes_locatable(ax1)\n",
    "    cax = divider.append_axes('right', size='5%', pad=0.10)\n",
    "    fig.colorbar(im1, cax=cax, orientation='vertical')\n",
    "\n",
    "    plt.show()\n",
    "    plt.close()"
   ]
  },
  {
   "cell_type": "markdown",
   "metadata": {},
   "source": [
    "<h1><center> One species: 2 TLSs </center></h1>\n",
    "\\begin{eqnarray}\n",
    "H_\\text{TLS}&=&\\hbar\\omega_0 J_z+\\hbar\\omega_x J_x \n",
    "\\end{eqnarray}\n",
    "\n",
    "\\begin{eqnarray}\n",
    "\\dot{\\rho} = \\mathcal{D}_\\text{TLS}(\\rho)\n",
    "&=&-\\frac{i}{\\hbar}\\lbrack H_\\text{TLS},\\rho \\rbrack\\\\\n",
    "&&+\\frac{\\gamma_\\Downarrow}{2}\\mathcal{L}_{J_{-}}[\\rho]\n",
    "+\\frac{\\gamma_\\Phi}{2}\\mathcal{L}_{J_{z}}[\\rho]\n",
    "+\\frac{\\gamma_\\Uparrow}{2}\\mathcal{L}_{J_{+}}[\\rho]\\\\\n",
    "&&+\\sum_{n=1}^{N}\\left(\n",
    "\\frac{\\gamma_\\text{E}}{2}\\mathcal{L}_{J_{-,n}}[\\rho]\n",
    "+\\frac{\\gamma_\\text{D}}{2}\\mathcal{L}_{J_{z,n}}[\\rho]\n",
    "+\\frac{\\gamma_\\text{P}}{2}\\mathcal{L}_{J_{+,n}}[\\rho]\\right)\n",
    "\\end{eqnarray}"
   ]
  },
  {
   "cell_type": "code",
   "execution_count": 5,
   "metadata": {},
   "outputs": [
    {
     "name": "stdout",
     "output_type": "stream",
     "text": [
      "time: 75 ms\n"
     ]
    }
   ],
   "source": [
    "N = 2"
   ]
  },
  {
   "cell_type": "code",
   "execution_count": 6,
   "metadata": {},
   "outputs": [
    {
     "name": "stdout",
     "output_type": "stream",
     "text": [
      "time: 103 ms\n"
     ]
    }
   ],
   "source": [
    "unc_to_dicke = [[1.,0,0,0],\n",
    "                [0,1/np.sqrt(2), 1/np.sqrt(2),0],\n",
    "                [0,0,0,1.],\n",
    "                [0,1/np.sqrt(2), -1/np.sqrt(2),0]]\n",
    "dicke_to_unc = linalg.inv(unc_to_dicke)"
   ]
  },
  {
   "cell_type": "code",
   "execution_count": 7,
   "metadata": {},
   "outputs": [
    {
     "data": {
      "text/plain": [
       "array([[ 1.        , -0.        , -0.        ,  0.        ],\n",
       "       [ 0.        ,  0.70710678, -0.        ,  0.70710678],\n",
       "       [ 0.        ,  0.70710678,  0.        , -0.70710678],\n",
       "       [ 0.        ,  0.        ,  1.        ,  0.        ]])"
      ]
     },
     "execution_count": 7,
     "metadata": {},
     "output_type": "execute_result"
    },
    {
     "name": "stdout",
     "output_type": "stream",
     "text": [
      "time: 44.7 ms\n"
     ]
    }
   ],
   "source": [
    "dicke_to_unc"
   ]
  },
  {
   "cell_type": "code",
   "execution_count": 8,
   "metadata": {},
   "outputs": [
    {
     "data": {
      "image/png": "[encoded data removed]",
      "text/plain": [
       "<Figure size 288x216 with 2 Axes>"
      ]
     },
     "metadata": {
      "needs_background": "light"
     },
     "output_type": "display_data"
    },
    {
     "data": {
      "text/plain": [
       "array([[1., 0., 0., 0.],\n",
       "       [0., 0., 0., 0.],\n",
       "       [0., 0., 0., 0.],\n",
       "       [0., 0., 0., 0.]])"
      ]
     },
     "execution_count": 8,
     "metadata": {},
     "output_type": "execute_result"
    },
    {
     "name": "stdout",
     "output_type": "stream",
     "text": [
      "time: 2.18 s\n"
     ]
    }
   ],
   "source": [
    "initial_state_piqs = piqs.excited(N)\n",
    "plot_state(initial_state_piqs)\n",
    "np.real(initial_state_piqs)"
   ]
  },
  {
   "cell_type": "code",
   "execution_count": 9,
   "metadata": {},
   "outputs": [
    {
     "data": {
      "image/png": "[encoded data removed]",
      "text/plain": [
       "<Figure size 288x216 with 2 Axes>"
      ]
     },
     "metadata": {
      "needs_background": "light"
     },
     "output_type": "display_data"
    },
    {
     "data": {
      "text/plain": [
       "array([[1., 0., 0., 0.],\n",
       "       [0., 0., 0., 0.],\n",
       "       [0., 0., 0., 0.],\n",
       "       [0., 0., 0., 0.]])"
      ]
     },
     "execution_count": 9,
     "metadata": {},
     "output_type": "execute_result"
    },
    {
     "name": "stdout",
     "output_type": "stream",
     "text": [
      "time: 1.62 s\n"
     ]
    }
   ],
   "source": [
    "initial_state_qutip = Qobj(np.dot(np.dot(dicke_to_unc, initial_state_piqs), unc_to_dicke))\n",
    "plot_state(initial_state_qutip)\n",
    "np.real(initial_state_qutip)"
   ]
  },
  {
   "cell_type": "markdown",
   "metadata": {},
   "source": [
    "#### Time evolution and transformation"
   ]
  },
  {
   "cell_type": "code",
   "execution_count": 10,
   "metadata": {},
   "outputs": [
    {
     "data": {
      "text/plain": [
       "array([[ 2.50261872e-01, -8.78834802e-06, -1.03745349e-07,\n",
       "         0.00000000e+00],\n",
       "       [-8.78834802e-06,  2.50122164e-01, -5.45323078e-06,\n",
       "         0.00000000e+00],\n",
       "       [-1.03745349e-07, -5.45323078e-06,  2.49920068e-01,\n",
       "         0.00000000e+00],\n",
       "       [ 0.00000000e+00,  0.00000000e+00,  0.00000000e+00,\n",
       "         2.49695896e-01]])"
      ]
     },
     "execution_count": 10,
     "metadata": {},
     "output_type": "execute_result"
    },
    {
     "name": "stdout",
     "output_type": "stream",
     "text": [
      "time: 876 ms\n"
     ]
    }
   ],
   "source": [
    "piqs_state = library.one_species_piqs_mesolve(2, initial_state_piqs)[-1]\n",
    "piqs_state = np.array(piqs_state)\n",
    "np.real(piqs_state)"
   ]
  },
  {
   "cell_type": "code",
   "execution_count": 11,
   "metadata": {},
   "outputs": [
    {
     "data": {
      "text/plain": [
       "array([[ 2.50261874e-01, -6.21436921e-06, -6.21436921e-06,\n",
       "        -1.03755806e-07],\n",
       "       [-6.21436921e-06,  2.49909030e-01,  2.13139228e-04,\n",
       "        -3.85575156e-06],\n",
       "       [-6.21436921e-06,  2.13139228e-04,  2.49909030e-01,\n",
       "        -3.85575156e-06],\n",
       "       [-1.03755806e-07, -3.85575156e-06, -3.85575156e-06,\n",
       "         2.49920065e-01]])"
      ]
     },
     "execution_count": 11,
     "metadata": {},
     "output_type": "execute_result"
    },
    {
     "name": "stdout",
     "output_type": "stream",
     "text": [
      "time: 892 ms\n"
     ]
    }
   ],
   "source": [
    "qutip_state = np.array(library.one_species_qutip_mesolve(2, initial_state_qutip)[-1])\n",
    "np.real(qutip_state)"
   ]
  },
  {
   "cell_type": "code",
   "execution_count": 12,
   "metadata": {},
   "outputs": [
    {
     "name": "stdout",
     "output_type": "stream",
     "text": [
      "time: 62.2 ms\n"
     ]
    }
   ],
   "source": [
    "qutip_state_transformed = np.dot(np.dot(unc_to_dicke, qutip_state), dicke_to_unc)"
   ]
  },
  {
   "cell_type": "code",
   "execution_count": 13,
   "metadata": {},
   "outputs": [
    {
     "data": {
      "image/png": "[encoded data removed]",
      "text/plain": [
       "<Figure size 288x216 with 2 Axes>"
      ]
     },
     "metadata": {
      "needs_background": "light"
     },
     "output_type": "display_data"
    },
    {
     "data": {
      "text/plain": [
       "array([[ 2.50261872e-01-3.40705013e-20j, -8.78834802e-06+8.16776296e-05j,\n",
       "        -1.03745349e-07-8.70240433e-08j,  0.00000000e+00+0.00000000e+00j],\n",
       "       [-8.78834802e-06-8.16776296e-05j,  2.50122164e-01-1.09495335e-21j,\n",
       "        -5.45323078e-06+8.35901216e-05j,  0.00000000e+00+0.00000000e+00j],\n",
       "       [-1.03745349e-07+8.70240433e-08j, -5.45323078e-06-8.35901216e-05j,\n",
       "         2.49920068e-01+3.32676454e-20j,  0.00000000e+00+0.00000000e+00j],\n",
       "       [ 0.00000000e+00+0.00000000e+00j,  0.00000000e+00+0.00000000e+00j,\n",
       "         0.00000000e+00+0.00000000e+00j,  2.49695896e-01+1.89780926e-21j]])"
      ]
     },
     "execution_count": 13,
     "metadata": {},
     "output_type": "execute_result"
    },
    {
     "name": "stdout",
     "output_type": "stream",
     "text": [
      "time: 635 ms\n"
     ]
    }
   ],
   "source": [
    "plot_state(piqs_state)\n",
    "piqs_state"
   ]
  },
  {
   "cell_type": "code",
   "execution_count": 14,
   "metadata": {},
   "outputs": [
    {
     "data": {
      "image/png": "[encoded data removed]",
      "text/plain": [
       "<Figure size 288x216 with 2 Axes>"
      ]
     },
     "metadata": {
      "needs_background": "light"
     },
     "output_type": "display_data"
    },
    {
     "data": {
      "text/plain": [
       "array([[ 2.50261874e-01+5.59280031e-21j, -8.78844522e-06+8.16775426e-05j,\n",
       "        -1.03755806e-07-8.70421300e-08j, -6.33177556e-20+5.03475674e-19j],\n",
       "       [-8.78844522e-06-8.16775426e-05j,  2.50122170e-01+3.98567234e-21j,\n",
       "        -5.45285615e-06+8.35904513e-05j,  4.20885445e-17+1.63277796e-20j],\n",
       "       [-1.03755806e-07+8.70421300e-08j, -5.45285615e-06-8.35904513e-05j,\n",
       "         2.49920065e-01-7.47153290e-21j,  9.39103030e-20+5.76240878e-20j],\n",
       "       [-1.12943429e-19-2.32600930e-19j,  1.67729317e-17-4.43921858e-21j,\n",
       "        -4.53585109e-20-3.86046636e-19j,  2.49695891e-01-2.10693975e-21j]])"
      ]
     },
     "execution_count": 14,
     "metadata": {},
     "output_type": "execute_result"
    },
    {
     "name": "stdout",
     "output_type": "stream",
     "text": [
      "time: 761 ms\n"
     ]
    }
   ],
   "source": [
    "plot_state(qutip_state_transformed)\n",
    "qutip_state_transformed"
   ]
  },
  {
   "cell_type": "code",
   "execution_count": 15,
   "metadata": {},
   "outputs": [
    {
     "data": {
      "image/png": "[encoded data removed]",
      "text/plain": [
       "<Figure size 288x216 with 2 Axes>"
      ]
     },
     "metadata": {
      "needs_background": "light"
     },
     "output_type": "display_data"
    },
    {
     "name": "stdout",
     "output_type": "stream",
     "text": [
      "max value =  0.00014498263395351768\n",
      "mean value =  1.869699130078565e-05\n"
     ]
    },
    {
     "data": {
      "text/plain": [
       "array([[ 7.67119259e-09, -9.26801305e-07,  1.44982634e-04,\n",
       "         5.07441516e-19],\n",
       "       [-9.26801305e-07,  2.24131990e-08,  3.63638788e-06,\n",
       "         4.20885477e-17],\n",
       "       [ 1.44982634e-04,  3.63638789e-06, -1.09885850e-08,\n",
       "         1.10180218e-19],\n",
       "       [ 2.58571868e-19,  1.67729323e-17,  3.88702200e-19,\n",
       "        -1.91415937e-08]])"
      ]
     },
     "execution_count": 15,
     "metadata": {},
     "output_type": "execute_result"
    },
    {
     "name": "stdout",
     "output_type": "stream",
     "text": [
      "time: 1.14 s\n"
     ]
    }
   ],
   "source": [
    "mask = (piqs_state == 0)\n",
    "qutip_state_transformed = np.absolute(qutip_state_transformed)\n",
    "piqs_state = np.absolute(piqs_state)\n",
    "rel_diff = np.divide(qutip_state_transformed-piqs_state, qutip_state_transformed)\n",
    "rel_diff[mask] = qutip_state_transformed[mask]\n",
    "plot_state(rel_diff)\n",
    "print('max value = ', np.absolute(rel_diff).max())\n",
    "print('mean value = ', np.absolute(rel_diff).mean())\n",
    "rel_diff"
   ]
  },
  {
   "cell_type": "markdown",
   "metadata": {},
   "source": [
    "<h1><center> One species: 2 TLSs in driven leaky cavity</center></h1>\n",
    "\\begin{eqnarray}\n",
    "H_\\text{TLS}&=&\\hbar\\omega_0 J_z+\\hbar\\omega_x J_x \n",
    "\\quad \\quad \\quad \n",
    "H_\\text{phot} = \\hbar \\omega_c a^\\dagger a\n",
    "\\quad \\quad \\quad\n",
    "H_\\text{int} = \\hbar g (a^\\dagger + a) J_x\n",
    "\\end{eqnarray}\n",
    "\n",
    "\\begin{eqnarray}\n",
    "\\dot{\\rho} = \\mathcal{D}_\\text{TLS}(\\rho)+\\mathcal{D}_\\text{phot}(\\rho) -\\frac{i}{\\hbar}\\lbrack H_\\text{int}, \\rho\\rbrack\n",
    "&=&-\\frac{i}{\\hbar}\\lbrack H_\\text{TLS}+H_\\text{phot}+H_\\text{int},\\rho \\rbrack\\\\\n",
    "&&+\\frac{\\gamma_\\Downarrow}{2}\\mathcal{L}_{J_{-}}[\\rho]\n",
    "+\\frac{\\gamma_\\Phi}{2}\\mathcal{L}_{J_{z}}[\\rho]\n",
    "+\\frac{\\gamma_\\Uparrow}{2}\\mathcal{L}_{J_{+}}[\\rho]\\\\\n",
    "&&+\\frac{w_p}{2}\\mathcal{L}_{a^\\dagger}[\\rho]\n",
    "+\\frac{\\kappa}{2}\\mathcal{L}_{a}[\\rho]\\\\\n",
    "&&+\\sum_{n=1}^{N}\\left(\n",
    "\\frac{\\gamma_\\text{E}}{2}\\mathcal{L}_{J_{-,n}}[\\rho]\n",
    "+\\frac{\\gamma_\\text{D}}{2}\\mathcal{L}_{J_{z,n}}[\\rho]\n",
    "+\\frac{\\gamma_\\text{P}}{2}\\mathcal{L}_{J_{+,n}}[\\rho]\\right)\n",
    "\\end{eqnarray}"
   ]
  },
  {
   "cell_type": "code",
   "execution_count": 16,
   "metadata": {},
   "outputs": [
    {
     "name": "stdout",
     "output_type": "stream",
     "text": [
      "time: 58.6 ms\n"
     ]
    }
   ],
   "source": [
    "N = 2"
   ]
  },
  {
   "cell_type": "code",
   "execution_count": 17,
   "metadata": {},
   "outputs": [
    {
     "name": "stdout",
     "output_type": "stream",
     "text": [
      "time: 75 ms\n"
     ]
    }
   ],
   "source": [
    "unc_to_dicke = [[1.,0,0,0],\n",
    "                [0,1/np.sqrt(2), 1/np.sqrt(2),0],\n",
    "                [0,0,0,1.],\n",
    "                [0,1/np.sqrt(2), -1/np.sqrt(2),0]]\n",
    "dicke_to_unc = linalg.inv(unc_to_dicke)\n",
    "\n",
    "id_phot = [[1.,0.],[0.,1.]]\n",
    "unc_dicke_phot = np.kron(unc_to_dicke, id_phot) \n",
    "\n",
    "dicke_unc_phot = linalg.inv(unc_dicke_phot)"
   ]
  },
  {
   "cell_type": "code",
   "execution_count": 18,
   "metadata": {},
   "outputs": [
    {
     "data": {
      "image/png": "[encoded data removed]",
      "text/plain": [
       "<Figure size 288x216 with 2 Axes>"
      ]
     },
     "metadata": {
      "needs_background": "light"
     },
     "output_type": "display_data"
    },
    {
     "data": {
      "text/plain": [
       "array([[1., 0., 0., 0.],\n",
       "       [0., 0., 0., 0.],\n",
       "       [0., 0., 0., 0.],\n",
       "       [0., 0., 0., 0.]])"
      ]
     },
     "execution_count": 18,
     "metadata": {},
     "output_type": "execute_result"
    },
    {
     "name": "stdout",
     "output_type": "stream",
     "text": [
      "time: 1.79 s\n"
     ]
    }
   ],
   "source": [
    "initial_state_piqs = piqs.excited(N)\n",
    "plot_state(initial_state_piqs)\n",
    "np.real(initial_state_piqs)"
   ]
  },
  {
   "cell_type": "code",
   "execution_count": 19,
   "metadata": {},
   "outputs": [
    {
     "data": {
      "image/png": "[encoded data removed]",
      "text/plain": [
       "<Figure size 288x216 with 2 Axes>"
      ]
     },
     "metadata": {
      "needs_background": "light"
     },
     "output_type": "display_data"
    },
    {
     "data": {
      "text/plain": [
       "array([[1., 0., 0., 0.],\n",
       "       [0., 0., 0., 0.],\n",
       "       [0., 0., 0., 0.],\n",
       "       [0., 0., 0., 0.]])"
      ]
     },
     "execution_count": 19,
     "metadata": {},
     "output_type": "execute_result"
    },
    {
     "name": "stdout",
     "output_type": "stream",
     "text": [
      "time: 1.62 s\n"
     ]
    }
   ],
   "source": [
    "initial_state_qutip = Qobj(np.dot(np.dot(dicke_to_unc, initial_state_piqs), unc_to_dicke))\n",
    "plot_state(initial_state_qutip)\n",
    "np.real(initial_state_qutip)"
   ]
  },
  {
   "cell_type": "markdown",
   "metadata": {},
   "source": [
    "#### Time evolution and transformation"
   ]
  },
  {
   "cell_type": "code",
   "execution_count": 20,
   "metadata": {},
   "outputs": [
    {
     "data": {
      "text/plain": [
       "array([[ 1.26232310e-01, -1.07762911e-04, -8.34536987e-04,\n",
       "        -8.20420742e-03, -1.06310861e-03,  1.21076555e-05,\n",
       "         0.00000000e+00,  0.00000000e+00],\n",
       "       [-1.07762911e-04,  1.00692893e-01, -9.03347659e-03,\n",
       "        -9.24977295e-04,  6.99104228e-05,  1.41600890e-03,\n",
       "         0.00000000e+00,  0.00000000e+00],\n",
       "       [-8.34536987e-04, -9.03347659e-03,  1.28906831e-01,\n",
       "         1.96932792e-04, -1.19724454e-03, -8.22538958e-03,\n",
       "         0.00000000e+00,  0.00000000e+00],\n",
       "       [-8.20420742e-03, -9.24977295e-04,  1.96932792e-04,\n",
       "         1.20670773e-01, -9.99842659e-03, -7.13711225e-04,\n",
       "         0.00000000e+00,  0.00000000e+00],\n",
       "       [-1.06310861e-03,  6.99104228e-05, -1.19724454e-03,\n",
       "        -9.99842659e-03,  1.51893626e-01,  4.45297753e-04,\n",
       "         0.00000000e+00,  0.00000000e+00],\n",
       "       [ 1.21076555e-05,  1.41600890e-03, -8.22538958e-03,\n",
       "        -7.13711225e-04,  4.45297753e-04,  1.21869277e-01,\n",
       "         0.00000000e+00,  0.00000000e+00],\n",
       "       [ 0.00000000e+00,  0.00000000e+00,  0.00000000e+00,\n",
       "         0.00000000e+00,  0.00000000e+00,  0.00000000e+00,\n",
       "         1.64017632e-01,  2.82085708e-05],\n",
       "       [ 0.00000000e+00,  0.00000000e+00,  0.00000000e+00,\n",
       "         0.00000000e+00,  0.00000000e+00,  0.00000000e+00,\n",
       "         2.82085708e-05,  8.57166581e-02]])"
      ]
     },
     "execution_count": 20,
     "metadata": {},
     "output_type": "execute_result"
    },
    {
     "name": "stdout",
     "output_type": "stream",
     "text": [
      "time: 1.83 s\n"
     ]
    }
   ],
   "source": [
    "piqs_state = np.array(library.one_species_piqs_mesolve(2,initial_state_piqs,2)[-1])\n",
    "np.real(piqs_state)"
   ]
  },
  {
   "cell_type": "code",
   "execution_count": 21,
   "metadata": {},
   "outputs": [
    {
     "data": {
      "text/plain": [
       "array([[ 1.26232310e-01, -1.07763013e-04, -5.90106709e-04,\n",
       "        -5.80125123e-03, -5.90106709e-04, -5.80125123e-03,\n",
       "        -1.06310903e-03,  1.21077221e-05],\n",
       "       [-1.07763013e-04,  1.00692893e-01, -6.38763287e-03,\n",
       "        -6.54057807e-04, -6.38763287e-03, -6.54057807e-04,\n",
       "         6.99103723e-05,  1.41600907e-03],\n",
       "       [-5.90106709e-04, -6.38763287e-03,  1.46462231e-01,\n",
       "         1.12570577e-04, -1.75553977e-02,  8.43620184e-05,\n",
       "        -8.46579712e-04, -5.81622919e-03],\n",
       "       [-5.80125123e-03, -6.54057807e-04,  1.12570577e-04,\n",
       "         1.03193716e-01,  8.43620184e-05,  1.74770592e-02,\n",
       "        -7.06995471e-03, -5.04670070e-04],\n",
       "       [-5.90106709e-04, -6.38763287e-03, -1.75553977e-02,\n",
       "         8.43620184e-05,  1.46462231e-01,  1.12570577e-04,\n",
       "        -8.46579712e-04, -5.81622919e-03],\n",
       "       [-5.80125123e-03, -6.54057807e-04,  8.43620184e-05,\n",
       "         1.74770592e-02,  1.12570577e-04,  1.03193716e-01,\n",
       "        -7.06995471e-03, -5.04670070e-04],\n",
       "       [-1.06310903e-03,  6.99103723e-05, -8.46579712e-04,\n",
       "        -7.06995471e-03, -8.46579712e-04, -7.06995471e-03,\n",
       "         1.51893625e-01,  4.45297694e-04],\n",
       "       [ 1.21077221e-05,  1.41600907e-03, -5.81622919e-03,\n",
       "        -5.04670070e-04, -5.81622919e-03, -5.04670070e-04,\n",
       "         4.45297694e-04,  1.21869278e-01]])"
      ]
     },
     "execution_count": 21,
     "metadata": {},
     "output_type": "execute_result"
    },
    {
     "name": "stdout",
     "output_type": "stream",
     "text": [
      "time: 1.79 s\n"
     ]
    }
   ],
   "source": [
    "qutip_state = library.one_species_qutip_mesolve(2,initial_state_qutip,2)[-1]\n",
    "np.real(qutip_state)"
   ]
  },
  {
   "cell_type": "code",
   "execution_count": 22,
   "metadata": {},
   "outputs": [
    {
     "name": "stdout",
     "output_type": "stream",
     "text": [
      "time: 93.8 ms\n"
     ]
    }
   ],
   "source": [
    "qutip_state_transformed = np.dot(np.dot(unc_dicke_phot, qutip_state), dicke_unc_phot)"
   ]
  },
  {
   "cell_type": "code",
   "execution_count": 23,
   "metadata": {
    "scrolled": true
   },
   "outputs": [
    {
     "data": {
      "image/png": "[encoded data removed]",
      "text/plain": [
       "<Figure size 288x216 with 2 Axes>"
      ]
     },
     "metadata": {
      "needs_background": "light"
     },
     "output_type": "display_data"
    },
    {
     "data": {
      "text/plain": [
       "array([[ 1.26232310e-01+5.00696528e-19j, -1.07762911e-04+9.36282349e-07j,\n",
       "        -8.34536987e-04+1.00495159e-04j, -8.20420742e-03+9.67689298e-03j,\n",
       "        -1.06310861e-03+4.20379733e-03j,  1.21076555e-05-1.26210515e-04j,\n",
       "         0.00000000e+00+0.00000000e+00j,  0.00000000e+00+0.00000000e+00j],\n",
       "       [-1.07762911e-04-9.36282349e-07j,  1.00692893e-01-2.41380496e-18j,\n",
       "        -9.03347659e-03-2.91328098e-03j, -9.24977295e-04-6.85699455e-04j,\n",
       "         6.99104228e-05+6.55010915e-05j,  1.41600890e-03-4.20647038e-03j,\n",
       "         0.00000000e+00+0.00000000e+00j,  0.00000000e+00+0.00000000e+00j],\n",
       "       [-8.34536987e-04-1.00495159e-04j, -9.03347659e-03+2.91328098e-03j,\n",
       "         1.28906831e-01-1.06851679e-18j,  1.96932792e-04-3.18610857e-05j,\n",
       "        -1.19724454e-03-8.41786807e-04j, -8.22538958e-03+1.05044061e-02j,\n",
       "         0.00000000e+00+0.00000000e+00j,  0.00000000e+00+0.00000000e+00j],\n",
       "       [-8.20420742e-03-9.67689298e-03j, -9.24977295e-04+6.85699455e-04j,\n",
       "         1.96932792e-04+3.18610857e-05j,  1.20670773e-01+2.64013118e-19j,\n",
       "        -9.99842659e-03-3.37901621e-03j, -7.13711225e-04+2.09047672e-04j,\n",
       "         0.00000000e+00+0.00000000e+00j,  0.00000000e+00+0.00000000e+00j],\n",
       "       [-1.06310861e-03-4.20379733e-03j,  6.99104228e-05-6.55010915e-05j,\n",
       "        -1.19724454e-03+8.41786807e-04j, -9.99842659e-03+3.37901621e-03j,\n",
       "         1.51893626e-01-4.93882111e-19j,  4.45297753e-04-4.52387178e-05j,\n",
       "         0.00000000e+00+0.00000000e+00j,  0.00000000e+00+0.00000000e+00j],\n",
       "       [ 1.21076555e-05+1.26210515e-04j,  1.41600890e-03+4.20647038e-03j,\n",
       "        -8.22538958e-03-1.05044061e-02j, -7.13711225e-04-2.09047672e-04j,\n",
       "         4.45297753e-04+4.52387178e-05j,  1.21869277e-01+3.36819164e-18j,\n",
       "         0.00000000e+00+0.00000000e+00j,  0.00000000e+00+0.00000000e+00j],\n",
       "       [ 0.00000000e+00+0.00000000e+00j,  0.00000000e+00+0.00000000e+00j,\n",
       "         0.00000000e+00+0.00000000e+00j,  0.00000000e+00+0.00000000e+00j,\n",
       "         0.00000000e+00+0.00000000e+00j,  0.00000000e+00+0.00000000e+00j,\n",
       "         1.64017632e-01+7.81396823e-20j,  2.82085708e-05+2.40859138e-05j],\n",
       "       [ 0.00000000e+00+0.00000000e+00j,  0.00000000e+00+0.00000000e+00j,\n",
       "         0.00000000e+00+0.00000000e+00j,  0.00000000e+00+0.00000000e+00j,\n",
       "         0.00000000e+00+0.00000000e+00j,  0.00000000e+00+0.00000000e+00j,\n",
       "         2.82085708e-05-2.40859138e-05j,  8.57166581e-02-2.34837111e-19j]])"
      ]
     },
     "execution_count": 23,
     "metadata": {},
     "output_type": "execute_result"
    },
    {
     "name": "stdout",
     "output_type": "stream",
     "text": [
      "time: 1.41 s\n"
     ]
    }
   ],
   "source": [
    "plot_state(piqs_state)\n",
    "np.array(piqs_state)"
   ]
  },
  {
   "cell_type": "code",
   "execution_count": 24,
   "metadata": {
    "scrolled": true
   },
   "outputs": [
    {
     "data": {
      "image/png": "[encoded data removed]",
      "text/plain": [
       "<Figure size 288x216 with 2 Axes>"
      ]
     },
     "metadata": {
      "needs_background": "light"
     },
     "output_type": "display_data"
    },
    {
     "data": {
      "text/plain": [
       "array([[ 1.26232310e-01+1.15871197e-18j, -1.07763013e-04+9.36255184e-07j,\n",
       "        -8.34536912e-04+1.00495158e-04j, -8.20420817e-03+9.67689280e-03j,\n",
       "        -1.06310903e-03+4.20379690e-03j,  1.21077221e-05-1.26210509e-04j,\n",
       "        -1.21689110e-20-3.92818559e-19j,  8.14706575e-19-1.01532147e-17j],\n",
       "       [-1.07763013e-04-9.36255184e-07j,  1.00692893e-01+1.12722399e-18j,\n",
       "        -9.03347704e-03-2.91328095e-03j, -9.24977421e-04-6.85699462e-04j,\n",
       "         6.99103723e-05+6.55010371e-05j,  1.41600907e-03-4.20647058e-03j,\n",
       "        -5.35843216e-18+6.85020936e-18j,  3.76824295e-19-2.00059563e-19j],\n",
       "       [-8.34536912e-04-1.00495158e-04j, -9.03347704e-03+2.91328095e-03j,\n",
       "         1.28906833e-01+5.79162976e-19j,  1.96932595e-04-3.18611595e-05j,\n",
       "        -1.19724451e-03-8.41786690e-04j, -8.22539021e-03+1.05044069e-02j,\n",
       "        -2.65194272e-17+5.86750307e-18j, -7.88897540e-19-8.82432577e-19j],\n",
       "       [-8.20420817e-03-9.67689280e-03j, -9.24977421e-04+6.85699462e-04j,\n",
       "         1.96932595e-04+3.18611595e-05j,  1.20670775e-01-2.21437649e-19j,\n",
       "        -9.99842583e-03-3.37901566e-03j, -7.13711258e-04+2.09047635e-04j,\n",
       "        -8.39255055e-19+1.52427552e-18j, -9.12263623e-18-2.13338183e-18j],\n",
       "       [-1.06310903e-03-4.20379690e-03j,  6.99103723e-05-6.55010371e-05j,\n",
       "        -1.19724451e-03+8.41786690e-04j, -9.99842583e-03+3.37901566e-03j,\n",
       "         1.51893625e-01-7.82071832e-19j,  4.45297694e-04-4.52385716e-05j,\n",
       "         1.62197255e-18-1.61058635e-18j,  7.54529369e-18+8.50719647e-19j],\n",
       "       [ 1.21077221e-05+1.26210509e-04j,  1.41600907e-03+4.20647058e-03j,\n",
       "        -8.22539021e-03-1.05044069e-02j, -7.13711258e-04-2.09047635e-04j,\n",
       "         4.45297694e-04+4.52385716e-05j,  1.21869278e-01-1.66984503e-18j,\n",
       "        -3.06330356e-18+8.63800014e-20j,  2.45648712e-19+1.19347997e-19j],\n",
       "       [-8.35029641e-19-3.94905287e-19j, -1.38302704e-17-6.13520816e-18j,\n",
       "        -2.62230224e-17-4.80676210e-18j, -1.08558771e-18-1.71125483e-18j,\n",
       "         1.24763179e-18+1.24169612e-18j, -8.52905131e-19+3.29676259e-18j,\n",
       "         1.64017628e-01+2.65439269e-20j,  2.82085582e-05+2.40858937e-05j],\n",
       "       [ 4.25340262e-18-3.93257811e-18j,  6.07015380e-19+4.32398239e-19j,\n",
       "         2.36912082e-19-8.48709500e-19j, -7.61740976e-18-1.79752939e-18j,\n",
       "        -7.48253111e-19+6.46704402e-18j,  4.53419081e-21+5.23188478e-20j,\n",
       "         2.82085582e-05-2.40858937e-05j,  8.57166569e-02-2.18288358e-19j]])"
      ]
     },
     "execution_count": 24,
     "metadata": {},
     "output_type": "execute_result"
    },
    {
     "name": "stdout",
     "output_type": "stream",
     "text": [
      "time: 820 ms\n"
     ]
    }
   ],
   "source": [
    "plot_state(qutip_state_transformed)\n",
    "qutip_state_transformed"
   ]
  },
  {
   "cell_type": "code",
   "execution_count": 25,
   "metadata": {
    "scrolled": false
   },
   "outputs": [
    {
     "data": {
      "image/png": "[encoded data removed]",
      "text/plain": [
       "<Figure size 288x216 with 2 Axes>"
      ]
     },
     "metadata": {
      "needs_background": "light"
     },
     "output_type": "display_data"
    },
    {
     "name": "stdout",
     "output_type": "stream",
     "text": [
      "max value =  9.440747374081767e-07\n",
      "mean value =  1.2756320462217705e-07\n"
     ]
    },
    {
     "data": {
      "text/plain": [
       "array([[ 4.96022548e-09,  9.44074736e-07, -8.93787313e-08,\n",
       "         2.77500082e-08, -7.22641492e-08,  7.41819259e-09,\n",
       "         3.93007001e-19,  1.01858487e-17],\n",
       "       [ 9.44074737e-07,  2.60181475e-09,  4.35567901e-08,\n",
       "         9.11753470e-08, -7.72993473e-07,  5.55338840e-08,\n",
       "         8.69702038e-18,  4.26638462e-19],\n",
       "       [-8.93787317e-08,  4.35567901e-08,  1.23791729e-08,\n",
       "        -9.13335530e-07, -5.97740535e-08,  7.84915971e-08,\n",
       "         2.71607734e-17,  1.18365814e-18],\n",
       "       [ 2.77500095e-08,  9.11753462e-08, -9.13335533e-07,\n",
       "         1.51199637e-08, -8.52482667e-08,  2.93166750e-08,\n",
       "         1.74004739e-18,  9.36876779e-18],\n",
       "       [-7.22641472e-08, -7.72993481e-07, -5.97740545e-08,\n",
       "        -8.52482665e-08, -3.05023279e-09, -1.62812498e-07,\n",
       "         2.28577850e-18,  7.59310086e-18],\n",
       "       [ 7.41819345e-09,  5.55338857e-08,  7.84915975e-08,\n",
       "         2.93166750e-08, -1.62812502e-07,  6.14839075e-09,\n",
       "         3.06452120e-18,  2.73106635e-19],\n",
       "       [ 9.23701622e-19,  1.51300085e-17,  2.66599300e-17,\n",
       "         2.02654725e-18,  1.76022565e-18,  3.40530333e-18,\n",
       "        -2.04284840e-08, -6.09299279e-07],\n",
       "       [ 5.79280627e-18,  7.45275727e-19,  8.81155577e-19,\n",
       "         7.82662401e-18,  6.51018749e-18,  5.25149571e-20,\n",
       "        -6.09299283e-07, -1.45103675e-08]])"
      ]
     },
     "execution_count": 25,
     "metadata": {},
     "output_type": "execute_result"
    },
    {
     "name": "stdout",
     "output_type": "stream",
     "text": [
      "time: 598 ms\n"
     ]
    }
   ],
   "source": [
    "mask = (piqs_state == 0)\n",
    "qutip_state_transformed = np.absolute(qutip_state_transformed)\n",
    "piqs_state = np.absolute(piqs_state)\n",
    "rel_diff = np.divide(qutip_state_transformed-piqs_state, qutip_state_transformed)\n",
    "rel_diff[mask] = qutip_state_transformed[mask]\n",
    "plot_state(rel_diff)\n",
    "print('max value = ', np.absolute(rel_diff).max())\n",
    "print('mean value = ', np.absolute(rel_diff).mean())\n",
    "rel_diff"
   ]
  },
  {
   "cell_type": "markdown",
   "metadata": {},
   "source": [
    "<h1><center> Two species: 2 TLSs each </center></h1>\n",
    "\\begin{eqnarray}\n",
    "H_\\text{TLS}^{(1)}&=&\\hbar\\omega_{0}^{(1)} J_{z}^{(1)}+\\hbar\\omega_{x}^{(1)} J_{x}^{(1)} \\quad \\quad\n",
    "H_\\text{TLS}^{(2)}&=&\\hbar\\omega_{0}^{(2)} J_{z}^{(2)}+\\hbar\\omega_{x}^{(2)} J_{x}^{(2)}\n",
    "\\end{eqnarray}\n",
    "\n",
    "\\begin{eqnarray}\n",
    "\\dot{\\rho} = \\mathcal{D}_\\text{TLS}(\\rho)&=& \n",
    "-\\frac{i}{\\hbar}\\lbrack H_\\text{TLS}^{(1)} \n",
    "+H_\\text{TLS}^{(2)},\\rho \\rbrack\\\\\n",
    "&&\n",
    "+\\frac{\\gamma_\\Downarrow}{2}\\mathcal{L}_{J_-}[\\rho]\n",
    "+\\frac{\\gamma_\\Phi}{2}\\mathcal{L}_{J_z}[\\rho]\n",
    "+\\frac{\\gamma_\\Uparrow}{2}\\mathcal{L}_{J_+}[\\rho]\\\\\n",
    "&&\n",
    "+\\sum_{n=1}^{N_1}\\frac{\\gamma_\\downarrow^{(1)}}{2}\\mathcal{L}_{J_{-,n}^{(1)}}[\\rho] \n",
    "+\\frac{\\gamma_\\phi^{(1)}}{2}\\mathcal{L}_{J_{z,n}^{(1)}}[\\rho] \n",
    "+\\frac{\\gamma_\\uparrow^{(1)}}{2}\\mathcal{L}_{J_{+,n}^{(1)}}[\\rho] \\\\\n",
    "&&\n",
    "+\\sum_{n=1}^{N_2}\\frac{\\gamma_\\downarrow^{(2)}}{2}\\mathcal{L}_{J_{-,n}^{(2)}}[\\rho]\n",
    "+\\frac{\\gamma_\\phi^{(2)}}{2}\\mathcal{L}_{J_{z,n}^{(2)}}[\\rho]\n",
    "+\\frac{\\gamma_\\uparrow^{(2)}}{2}\\mathcal{L}_{J_{+,n}^{(2)}}[\\rho]\n",
    "\\end{eqnarray}"
   ]
  },
  {
   "cell_type": "code",
   "execution_count": 26,
   "metadata": {},
   "outputs": [
    {
     "name": "stdout",
     "output_type": "stream",
     "text": [
      "time: 93.6 ms\n"
     ]
    }
   ],
   "source": [
    "N1 = 2\n",
    "N2 = 2"
   ]
  },
  {
   "cell_type": "code",
   "execution_count": 27,
   "metadata": {},
   "outputs": [
    {
     "name": "stdout",
     "output_type": "stream",
     "text": [
      "time: 67 ms\n"
     ]
    }
   ],
   "source": [
    "unc_to_dicke = [[1.,0,0,0],\n",
    "                [0,1/np.sqrt(2),1/np.sqrt(2),0],\n",
    "                [0,0,0,1.],\n",
    "                [0,1/np.sqrt(2),-1/np.sqrt(2),0]]\n",
    "dicke_to_unc = linalg.inv(unc_to_dicke)\n",
    "\n",
    "unc_dicke_two = np.kron(unc_to_dicke, unc_to_dicke)\n",
    "\n",
    "dicke_unc_two = linalg.inv(unc_dicke_two)"
   ]
  },
  {
   "cell_type": "code",
   "execution_count": 28,
   "metadata": {
    "scrolled": true
   },
   "outputs": [
    {
     "data": {
      "image/png": "[encoded data removed]",
      "text/plain": [
       "<Figure size 288x216 with 2 Axes>"
      ]
     },
     "metadata": {
      "needs_background": "light"
     },
     "output_type": "display_data"
    },
    {
     "data": {
      "text/plain": [
       "array([[0., 0., 0., 0., 0., 0., 0., 0., 0., 0., 0., 0., 0., 0., 0., 0.],\n",
       "       [0., 0., 0., 0., 0., 0., 0., 0., 0., 0., 0., 0., 0., 0., 0., 0.],\n",
       "       [0., 0., 0., 0., 0., 0., 0., 0., 0., 0., 0., 0., 0., 0., 0., 0.],\n",
       "       [0., 0., 0., 0., 0., 0., 0., 0., 0., 0., 0., 0., 0., 0., 0., 0.],\n",
       "       [0., 0., 0., 0., 0., 0., 0., 0., 0., 0., 0., 0., 0., 0., 0., 0.],\n",
       "       [0., 0., 0., 0., 0., 0., 0., 0., 0., 0., 0., 0., 0., 0., 0., 0.],\n",
       "       [0., 0., 0., 0., 0., 0., 0., 0., 0., 0., 0., 0., 0., 0., 0., 0.],\n",
       "       [0., 0., 0., 0., 0., 0., 0., 0., 0., 0., 0., 0., 0., 0., 0., 0.],\n",
       "       [0., 0., 0., 0., 0., 0., 0., 0., 1., 0., 0., 0., 0., 0., 0., 0.],\n",
       "       [0., 0., 0., 0., 0., 0., 0., 0., 0., 0., 0., 0., 0., 0., 0., 0.],\n",
       "       [0., 0., 0., 0., 0., 0., 0., 0., 0., 0., 0., 0., 0., 0., 0., 0.],\n",
       "       [0., 0., 0., 0., 0., 0., 0., 0., 0., 0., 0., 0., 0., 0., 0., 0.],\n",
       "       [0., 0., 0., 0., 0., 0., 0., 0., 0., 0., 0., 0., 0., 0., 0., 0.],\n",
       "       [0., 0., 0., 0., 0., 0., 0., 0., 0., 0., 0., 0., 0., 0., 0., 0.],\n",
       "       [0., 0., 0., 0., 0., 0., 0., 0., 0., 0., 0., 0., 0., 0., 0., 0.],\n",
       "       [0., 0., 0., 0., 0., 0., 0., 0., 0., 0., 0., 0., 0., 0., 0., 0.]])"
      ]
     },
     "execution_count": 28,
     "metadata": {},
     "output_type": "execute_result"
    },
    {
     "name": "stdout",
     "output_type": "stream",
     "text": [
      "time: 976 ms\n"
     ]
    }
   ],
   "source": [
    "initial_state_piqs_1 = piqs.ground(N1)\n",
    "initial_state_piqs_2 = piqs.excited(N2)\n",
    "plot_state(tensor(initial_state_piqs_1, initial_state_piqs_2))\n",
    "np.real(tensor(initial_state_piqs_1, initial_state_piqs_2))"
   ]
  },
  {
   "cell_type": "code",
   "execution_count": 29,
   "metadata": {
    "scrolled": true
   },
   "outputs": [
    {
     "data": {
      "image/png": "[encoded data removed]",
      "text/plain": [
       "<Figure size 288x216 with 2 Axes>"
      ]
     },
     "metadata": {
      "needs_background": "light"
     },
     "output_type": "display_data"
    },
    {
     "data": {
      "text/plain": [
       "array([[0., 0., 0., 0., 0., 0., 0., 0., 0., 0., 0., 0., 0., 0., 0., 0.],\n",
       "       [0., 0., 0., 0., 0., 0., 0., 0., 0., 0., 0., 0., 0., 0., 0., 0.],\n",
       "       [0., 0., 0., 0., 0., 0., 0., 0., 0., 0., 0., 0., 0., 0., 0., 0.],\n",
       "       [0., 0., 0., 0., 0., 0., 0., 0., 0., 0., 0., 0., 0., 0., 0., 0.],\n",
       "       [0., 0., 0., 0., 0., 0., 0., 0., 0., 0., 0., 0., 0., 0., 0., 0.],\n",
       "       [0., 0., 0., 0., 0., 0., 0., 0., 0., 0., 0., 0., 0., 0., 0., 0.],\n",
       "       [0., 0., 0., 0., 0., 0., 0., 0., 0., 0., 0., 0., 0., 0., 0., 0.],\n",
       "       [0., 0., 0., 0., 0., 0., 0., 0., 0., 0., 0., 0., 0., 0., 0., 0.],\n",
       "       [0., 0., 0., 0., 0., 0., 0., 0., 0., 0., 0., 0., 0., 0., 0., 0.],\n",
       "       [0., 0., 0., 0., 0., 0., 0., 0., 0., 0., 0., 0., 0., 0., 0., 0.],\n",
       "       [0., 0., 0., 0., 0., 0., 0., 0., 0., 0., 0., 0., 0., 0., 0., 0.],\n",
       "       [0., 0., 0., 0., 0., 0., 0., 0., 0., 0., 0., 0., 0., 0., 0., 0.],\n",
       "       [0., 0., 0., 0., 0., 0., 0., 0., 0., 0., 0., 0., 1., 0., 0., 0.],\n",
       "       [0., 0., 0., 0., 0., 0., 0., 0., 0., 0., 0., 0., 0., 0., 0., 0.],\n",
       "       [0., 0., 0., 0., 0., 0., 0., 0., 0., 0., 0., 0., 0., 0., 0., 0.],\n",
       "       [0., 0., 0., 0., 0., 0., 0., 0., 0., 0., 0., 0., 0., 0., 0., 0.]])"
      ]
     },
     "execution_count": 29,
     "metadata": {},
     "output_type": "execute_result"
    },
    {
     "name": "stdout",
     "output_type": "stream",
     "text": [
      "time: 1.3 s\n"
     ]
    }
   ],
   "source": [
    "initial_state_qutip_1 = Qobj(np.dot(np.dot(dicke_to_unc, initial_state_piqs_1), unc_to_dicke))\n",
    "initial_state_qutip_2 = Qobj(np.dot(np.dot(dicke_to_unc, initial_state_piqs_2), unc_to_dicke))\n",
    "plot_state(tensor(initial_state_qutip_1, initial_state_qutip_2))\n",
    "np.real(tensor(initial_state_qutip_1, initial_state_qutip_2))"
   ]
  },
  {
   "cell_type": "markdown",
   "metadata": {},
   "source": [
    "#### Time evolution and transformation"
   ]
  },
  {
   "cell_type": "code",
   "execution_count": 30,
   "metadata": {
    "scrolled": true
   },
   "outputs": [
    {
     "data": {
      "text/plain": [
       "array([[ 6.24912761e-02,  3.44210419e-06, -6.93919562e-10,\n",
       "         0.00000000e+00, -3.37165736e-06,  1.39425038e-09,\n",
       "         1.88738439e-13,  0.00000000e+00, -7.00485964e-10,\n",
       "        -1.92619709e-13, -1.20150171e-16,  0.00000000e+00,\n",
       "         0.00000000e+00,  0.00000000e+00,  0.00000000e+00,\n",
       "         0.00000000e+00],\n",
       "       [ 3.44210419e-06,  6.25047643e-02,  3.51325769e-06,\n",
       "         0.00000000e+00, -2.04784960e-05, -3.44287008e-06,\n",
       "         1.38783912e-09,  0.00000000e+00,  7.52443605e-10,\n",
       "        -6.97323039e-10, -1.88738439e-13,  0.00000000e+00,\n",
       "         0.00000000e+00,  0.00000000e+00,  0.00000000e+00,\n",
       "         0.00000000e+00],\n",
       "       [-6.93919562e-10,  3.51325769e-06,  6.25152225e-02,\n",
       "         0.00000000e+00, -7.65888349e-10, -2.04797461e-05,\n",
       "        -3.51325769e-06,  0.00000000e+00,  2.12198471e-09,\n",
       "         7.65888349e-10, -6.93919562e-10,  0.00000000e+00,\n",
       "         0.00000000e+00,  0.00000000e+00,  0.00000000e+00,\n",
       "         0.00000000e+00],\n",
       "       [ 0.00000000e+00,  0.00000000e+00,  0.00000000e+00,\n",
       "         6.24842846e-02,  0.00000000e+00,  0.00000000e+00,\n",
       "         0.00000000e+00, -3.44133830e-06,  0.00000000e+00,\n",
       "         0.00000000e+00,  0.00000000e+00, -6.96927336e-10,\n",
       "         0.00000000e+00,  0.00000000e+00,  0.00000000e+00,\n",
       "         0.00000000e+00],\n",
       "       [-3.37165736e-06, -2.04784960e-05, -7.65888349e-10,\n",
       "         0.00000000e+00,  6.25157148e-02,  3.37240981e-06,\n",
       "        -6.97323039e-10,  0.00000000e+00, -3.30187976e-06,\n",
       "         1.40097193e-09,  1.92619709e-13,  0.00000000e+00,\n",
       "         0.00000000e+00,  0.00000000e+00,  0.00000000e+00,\n",
       "         0.00000000e+00],\n",
       "       [ 1.39425038e-09, -3.44287008e-06, -2.04797461e-05,\n",
       "         0.00000000e+00,  3.37240981e-06,  6.25117567e-02,\n",
       "         3.44287008e-06,  0.00000000e+00, -2.04808873e-05,\n",
       "        -3.37240981e-06,  1.39425038e-09,  0.00000000e+00,\n",
       "         0.00000000e+00,  0.00000000e+00,  0.00000000e+00,\n",
       "         0.00000000e+00],\n",
       "       [ 1.88738439e-13,  1.38783912e-09, -3.51325769e-06,\n",
       "         0.00000000e+00, -6.97323039e-10,  3.44287008e-06,\n",
       "         6.25047643e-02,  0.00000000e+00, -7.52443606e-10,\n",
       "        -2.04784960e-05, -3.44210419e-06,  0.00000000e+00,\n",
       "         0.00000000e+00,  0.00000000e+00,  0.00000000e+00,\n",
       "         0.00000000e+00],\n",
       "       [ 0.00000000e+00,  0.00000000e+00,  0.00000000e+00,\n",
       "        -3.44133830e-06,  0.00000000e+00,  0.00000000e+00,\n",
       "         0.00000000e+00,  6.24912740e-02,  0.00000000e+00,\n",
       "         0.00000000e+00,  0.00000000e+00, -3.37090492e-06,\n",
       "         0.00000000e+00,  0.00000000e+00,  0.00000000e+00,\n",
       "         0.00000000e+00],\n",
       "       [-7.00485964e-10,  7.52443605e-10,  2.12198471e-09,\n",
       "         0.00000000e+00, -3.30187976e-06, -2.04808873e-05,\n",
       "        -7.52443606e-10,  0.00000000e+00,  6.25371254e-02,\n",
       "         3.30187976e-06, -7.00485964e-10,  0.00000000e+00,\n",
       "         0.00000000e+00,  0.00000000e+00,  0.00000000e+00,\n",
       "         0.00000000e+00],\n",
       "       [-1.92619709e-13, -6.97323039e-10,  7.65888349e-10,\n",
       "         0.00000000e+00,  1.40097193e-09, -3.37240981e-06,\n",
       "        -2.04784960e-05,  0.00000000e+00,  3.30187976e-06,\n",
       "         6.25157148e-02,  3.37165736e-06,  0.00000000e+00,\n",
       "         0.00000000e+00,  0.00000000e+00,  0.00000000e+00,\n",
       "         0.00000000e+00],\n",
       "       [-1.20150171e-16, -1.88738439e-13, -6.93919562e-10,\n",
       "         0.00000000e+00,  1.92619709e-13,  1.39425038e-09,\n",
       "        -3.44210419e-06,  0.00000000e+00, -7.00485964e-10,\n",
       "         3.37165736e-06,  6.24912761e-02,  0.00000000e+00,\n",
       "         0.00000000e+00,  0.00000000e+00,  0.00000000e+00,\n",
       "         0.00000000e+00],\n",
       "       [ 0.00000000e+00,  0.00000000e+00,  0.00000000e+00,\n",
       "        -6.96927336e-10,  0.00000000e+00,  0.00000000e+00,\n",
       "         0.00000000e+00, -3.37090492e-06,  0.00000000e+00,\n",
       "         0.00000000e+00,  0.00000000e+00,  6.24952339e-02,\n",
       "         0.00000000e+00,  0.00000000e+00,  0.00000000e+00,\n",
       "         0.00000000e+00],\n",
       "       [ 0.00000000e+00,  0.00000000e+00,  0.00000000e+00,\n",
       "         0.00000000e+00,  0.00000000e+00,  0.00000000e+00,\n",
       "         0.00000000e+00,  0.00000000e+00,  0.00000000e+00,\n",
       "         0.00000000e+00,  0.00000000e+00,  0.00000000e+00,\n",
       "         6.24952339e-02,  3.37090492e-06, -6.96927336e-10,\n",
       "         0.00000000e+00],\n",
       "       [ 0.00000000e+00,  0.00000000e+00,  0.00000000e+00,\n",
       "         0.00000000e+00,  0.00000000e+00,  0.00000000e+00,\n",
       "         0.00000000e+00,  0.00000000e+00,  0.00000000e+00,\n",
       "         0.00000000e+00,  0.00000000e+00,  0.00000000e+00,\n",
       "         3.37090492e-06,  6.24912740e-02,  3.44133830e-06,\n",
       "         0.00000000e+00],\n",
       "       [ 0.00000000e+00,  0.00000000e+00,  0.00000000e+00,\n",
       "         0.00000000e+00,  0.00000000e+00,  0.00000000e+00,\n",
       "         0.00000000e+00,  0.00000000e+00,  0.00000000e+00,\n",
       "         0.00000000e+00,  0.00000000e+00,  0.00000000e+00,\n",
       "        -6.96927336e-10,  3.44133830e-06,  6.24842846e-02,\n",
       "         0.00000000e+00],\n",
       "       [ 0.00000000e+00,  0.00000000e+00,  0.00000000e+00,\n",
       "         0.00000000e+00,  0.00000000e+00,  0.00000000e+00,\n",
       "         0.00000000e+00,  0.00000000e+00,  0.00000000e+00,\n",
       "         0.00000000e+00,  0.00000000e+00,  0.00000000e+00,\n",
       "         0.00000000e+00,  0.00000000e+00,  0.00000000e+00,\n",
       "         6.24707997e-02]])"
      ]
     },
     "execution_count": 30,
     "metadata": {},
     "output_type": "execute_result"
    },
    {
     "name": "stdout",
     "output_type": "stream",
     "text": [
      "time: 1.34 s\n"
     ]
    }
   ],
   "source": [
    "piqs_state = np.array(library.two_species_piqs_mesolve(N1,N2,initial_state_piqs_1,initial_state_piqs_2)[-1])\n",
    "np.real(piqs_state)"
   ]
  },
  {
   "cell_type": "code",
   "execution_count": 31,
   "metadata": {
    "scrolled": true
   },
   "outputs": [
    {
     "data": {
      "text/plain": [
       "array([[ 6.24912761e-02,  2.43393521e-06,  2.43393521e-06,\n",
       "        -6.93919562e-10, -2.38412178e-06,  6.97125187e-10,\n",
       "         6.97125187e-10,  1.33458228e-13, -2.38412178e-06,\n",
       "         6.97125187e-10,  6.97125187e-10,  1.33458228e-13,\n",
       "        -7.00485964e-10, -1.36202703e-13, -1.36202703e-13,\n",
       "        -1.20150149e-16],\n",
       "       [ 2.43393521e-06,  6.24945245e-02,  1.02398731e-05,\n",
       "         2.48424834e-06, -1.02392480e-05, -2.43393521e-06,\n",
       "        -5.41564844e-10,  6.93919562e-10, -1.02392480e-05,\n",
       "        -2.43393521e-06, -5.41564844e-10,  6.93919562e-10,\n",
       "         5.32057976e-10, -6.97125187e-10, -1.97851827e-13,\n",
       "        -1.33458228e-13],\n",
       "       [ 2.43393521e-06,  1.02398731e-05,  6.24945245e-02,\n",
       "         2.48424834e-06, -1.02392480e-05, -5.41564844e-10,\n",
       "        -2.43393521e-06,  6.93919562e-10, -1.02392480e-05,\n",
       "        -5.41564844e-10, -2.43393521e-06,  6.93919562e-10,\n",
       "         5.32057976e-10, -1.97851828e-13, -6.97125187e-10,\n",
       "        -1.33458228e-13],\n",
       "       [-6.93919562e-10,  2.48424834e-06,  2.48424834e-06,\n",
       "         6.25152225e-02, -5.41564844e-10, -1.02398731e-05,\n",
       "        -1.02398731e-05, -2.48424834e-06, -5.41564844e-10,\n",
       "        -1.02398731e-05, -1.02398731e-05, -2.48424834e-06,\n",
       "         2.12198475e-09,  5.41564844e-10,  5.41564844e-10,\n",
       "        -6.93919562e-10],\n",
       "       [-2.38412178e-06, -1.02392480e-05, -1.02392480e-05,\n",
       "        -5.41564844e-10,  6.25054744e-02,  2.38412178e-06,\n",
       "         2.38412178e-06, -6.97125187e-10,  1.02404436e-05,\n",
       "         5.32057976e-10,  5.32057976e-10, -1.97851828e-13,\n",
       "        -2.33478157e-06,  7.00485964e-10,  7.00485964e-10,\n",
       "         1.36202703e-13],\n",
       "       [ 6.97125187e-10, -2.43393521e-06, -5.41564844e-10,\n",
       "        -1.02398731e-05,  2.38412178e-06,  6.24912761e-02,\n",
       "         1.02392480e-05,  2.43393521e-06,  5.32057976e-10,\n",
       "         1.02392480e-05,  2.12198475e-09,  5.41564844e-10,\n",
       "        -1.02404436e-05, -2.38412178e-06, -5.32057976e-10,\n",
       "         6.97125187e-10],\n",
       "       [ 6.97125187e-10, -5.41564844e-10, -2.43393521e-06,\n",
       "        -1.02398731e-05,  2.38412178e-06,  1.02392480e-05,\n",
       "         6.24912761e-02,  2.43393521e-06,  5.32057976e-10,\n",
       "         2.12198475e-09,  1.02392480e-05,  5.41564844e-10,\n",
       "        -1.02404436e-05, -5.32057976e-10, -2.38412178e-06,\n",
       "         6.97125187e-10],\n",
       "       [ 1.33458228e-13,  6.93919562e-10,  6.93919562e-10,\n",
       "        -2.48424834e-06, -6.97125187e-10,  2.43393521e-06,\n",
       "         2.43393521e-06,  6.24945245e-02, -1.97851828e-13,\n",
       "         5.41564844e-10,  5.41564844e-10,  1.02398731e-05,\n",
       "        -5.32057976e-10, -1.02392480e-05, -1.02392480e-05,\n",
       "        -2.43393521e-06],\n",
       "       [-2.38412178e-06, -1.02392480e-05, -1.02392480e-05,\n",
       "        -5.41564844e-10,  1.02404436e-05,  5.32057976e-10,\n",
       "         5.32057976e-10, -1.97851828e-13,  6.25054744e-02,\n",
       "         2.38412178e-06,  2.38412178e-06, -6.97125187e-10,\n",
       "        -2.33478157e-06,  7.00485964e-10,  7.00485964e-10,\n",
       "         1.36202703e-13],\n",
       "       [ 6.97125187e-10, -2.43393521e-06, -5.41564844e-10,\n",
       "        -1.02398731e-05,  5.32057976e-10,  1.02392480e-05,\n",
       "         2.12198475e-09,  5.41564844e-10,  2.38412178e-06,\n",
       "         6.24912761e-02,  1.02392480e-05,  2.43393521e-06,\n",
       "        -1.02404436e-05, -2.38412178e-06, -5.32057976e-10,\n",
       "         6.97125187e-10],\n",
       "       [ 6.97125187e-10, -5.41564844e-10, -2.43393521e-06,\n",
       "        -1.02398731e-05,  5.32057976e-10,  2.12198475e-09,\n",
       "         1.02392480e-05,  5.41564844e-10,  2.38412178e-06,\n",
       "         1.02392480e-05,  6.24912761e-02,  2.43393521e-06,\n",
       "        -1.02404436e-05, -5.32057976e-10, -2.38412178e-06,\n",
       "         6.97125187e-10],\n",
       "       [ 1.33458228e-13,  6.93919562e-10,  6.93919562e-10,\n",
       "        -2.48424834e-06, -1.97851828e-13,  5.41564844e-10,\n",
       "         5.41564844e-10,  1.02398731e-05, -6.97125187e-10,\n",
       "         2.43393521e-06,  2.43393521e-06,  6.24945245e-02,\n",
       "        -5.32057976e-10, -1.02392480e-05, -1.02392480e-05,\n",
       "        -2.43393521e-06],\n",
       "       [-7.00485964e-10,  5.32057976e-10,  5.32057976e-10,\n",
       "         2.12198475e-09, -2.33478157e-06, -1.02404436e-05,\n",
       "        -1.02404436e-05, -5.32057976e-10, -2.33478157e-06,\n",
       "        -1.02404436e-05, -1.02404436e-05, -5.32057976e-10,\n",
       "         6.25371254e-02,  2.33478157e-06,  2.33478157e-06,\n",
       "        -7.00485964e-10],\n",
       "       [-1.36202703e-13, -6.97125187e-10, -1.97851828e-13,\n",
       "         5.41564844e-10,  7.00485964e-10, -2.38412178e-06,\n",
       "        -5.32057976e-10, -1.02392480e-05,  7.00485964e-10,\n",
       "        -2.38412178e-06, -5.32057976e-10, -1.02392480e-05,\n",
       "         2.33478157e-06,  6.25054744e-02,  1.02404436e-05,\n",
       "         2.38412178e-06],\n",
       "       [-1.36202703e-13, -1.97851828e-13, -6.97125187e-10,\n",
       "         5.41564844e-10,  7.00485964e-10, -5.32057976e-10,\n",
       "        -2.38412178e-06, -1.02392480e-05,  7.00485964e-10,\n",
       "        -5.32057976e-10, -2.38412178e-06, -1.02392480e-05,\n",
       "         2.33478157e-06,  1.02404436e-05,  6.25054744e-02,\n",
       "         2.38412178e-06],\n",
       "       [-1.20150149e-16, -1.33458228e-13, -1.33458228e-13,\n",
       "        -6.93919562e-10,  1.36202703e-13,  6.97125187e-10,\n",
       "         6.97125187e-10, -2.43393521e-06,  1.36202703e-13,\n",
       "         6.97125187e-10,  6.97125187e-10, -2.43393521e-06,\n",
       "        -7.00485964e-10,  2.38412178e-06,  2.38412178e-06,\n",
       "         6.24912761e-02]])"
      ]
     },
     "execution_count": 31,
     "metadata": {},
     "output_type": "execute_result"
    },
    {
     "name": "stdout",
     "output_type": "stream",
     "text": [
      "time: 2.74 s\n"
     ]
    }
   ],
   "source": [
    "qutip_state = library.two_species_qutip_mesolve(N1,N2,initial_state_qutip_1,initial_state_qutip_2)[-1]\n",
    "np.real(qutip_state)"
   ]
  },
  {
   "cell_type": "code",
   "execution_count": 32,
   "metadata": {},
   "outputs": [
    {
     "name": "stdout",
     "output_type": "stream",
     "text": [
      "time: 43.6 ms\n"
     ]
    }
   ],
   "source": [
    "qutip_state_transformed = np.dot(np.dot(unc_dicke_two, qutip_state), dicke_unc_two)"
   ]
  },
  {
   "cell_type": "code",
   "execution_count": 33,
   "metadata": {},
   "outputs": [
    {
     "data": {
      "image/png": "[encoded data removed]",
      "text/plain": [
       "<Figure size 288x216 with 2 Axes>"
      ]
     },
     "metadata": {
      "needs_background": "light"
     },
     "output_type": "display_data"
    },
    {
     "data": {
      "text/plain": [
       "array([[ 6.24912761e-02+7.24438309e-22j,  3.44210419e-06-3.59614560e-06j,\n",
       "        -6.93919562e-10-3.90105576e-09j,  0.00000000e+00+0.00000000e+00j,\n",
       "        -3.37165736e-06+3.69711118e-06j,  1.39425038e-09+7.80303819e-09j,\n",
       "         1.88738439e-13+2.19249101e-13j,  0.00000000e+00+0.00000000e+00j,\n",
       "        -7.00485964e-10-3.90263957e-09j, -1.92619709e-13-2.17515049e-13j,\n",
       "        -1.20150171e-16-2.43243812e-17j,  0.00000000e+00+0.00000000e+00j,\n",
       "         0.00000000e+00+0.00000000e+00j,  0.00000000e+00+0.00000000e+00j,\n",
       "         0.00000000e+00+0.00000000e+00j,  0.00000000e+00+0.00000000e+00j],\n",
       "       [ 3.44210419e-06+3.59614560e-06j,  6.25047643e-02+9.08644417e-22j,\n",
       "         3.51325769e-06-3.49606540e-06j,  0.00000000e+00+0.00000000e+00j,\n",
       "        -2.04784960e-05+1.35311377e-20j, -3.44287008e-06+3.59713789e-06j,\n",
       "         1.38783912e-09+7.80211153e-09j,  0.00000000e+00+0.00000000e+00j,\n",
       "         7.52443605e-10-1.01207677e-09j, -6.97323039e-10-3.90264728e-09j,\n",
       "        -1.88738439e-13-2.19249101e-13j,  0.00000000e+00+0.00000000e+00j,\n",
       "         0.00000000e+00+0.00000000e+00j,  0.00000000e+00+0.00000000e+00j,\n",
       "         0.00000000e+00+0.00000000e+00j,  0.00000000e+00+0.00000000e+00j],\n",
       "       [-6.93919562e-10+3.90105576e-09j,  3.51325769e-06+3.49606540e-06j,\n",
       "         6.25152225e-02+1.06889234e-21j,  0.00000000e+00+0.00000000e+00j,\n",
       "        -7.65888349e-10-9.92285050e-10j, -2.04797461e-05-7.77580582e-22j,\n",
       "        -3.51325769e-06+3.49606540e-06j,  0.00000000e+00+0.00000000e+00j,\n",
       "         2.12198471e-09+4.03926607e-22j,  7.65888349e-10-9.92285050e-10j,\n",
       "        -6.93919562e-10-3.90105576e-09j,  0.00000000e+00+0.00000000e+00j,\n",
       "         0.00000000e+00+0.00000000e+00j,  0.00000000e+00+0.00000000e+00j,\n",
       "         0.00000000e+00+0.00000000e+00j,  0.00000000e+00+0.00000000e+00j],\n",
       "       [ 0.00000000e+00+0.00000000e+00j,  0.00000000e+00+0.00000000e+00j,\n",
       "         0.00000000e+00+0.00000000e+00j,  6.24842846e-02+6.58157077e-22j,\n",
       "         0.00000000e+00+0.00000000e+00j,  0.00000000e+00+0.00000000e+00j,\n",
       "         0.00000000e+00+0.00000000e+00j, -3.44133830e-06+3.59515331e-06j,\n",
       "         0.00000000e+00+0.00000000e+00j,  0.00000000e+00+0.00000000e+00j,\n",
       "         0.00000000e+00+0.00000000e+00j, -6.96927336e-10-3.90039092e-09j,\n",
       "         0.00000000e+00+0.00000000e+00j,  0.00000000e+00+0.00000000e+00j,\n",
       "         0.00000000e+00+0.00000000e+00j,  0.00000000e+00+0.00000000e+00j],\n",
       "       [-3.37165736e-06-3.69711118e-06j, -2.04784960e-05-1.31998221e-20j,\n",
       "        -7.65888349e-10+9.92285050e-10j,  0.00000000e+00+0.00000000e+00j,\n",
       "         6.25157148e-02+1.74881105e-22j,  3.37240981e-06-3.69812325e-06j,\n",
       "        -6.97323039e-10-3.90264728e-09j,  0.00000000e+00+0.00000000e+00j,\n",
       "        -3.30187976e-06+3.79901684e-06j,  1.40097193e-09+7.80527914e-09j,\n",
       "         1.92619709e-13+2.17515049e-13j,  0.00000000e+00+0.00000000e+00j,\n",
       "         0.00000000e+00+0.00000000e+00j,  0.00000000e+00+0.00000000e+00j,\n",
       "         0.00000000e+00+0.00000000e+00j,  0.00000000e+00+0.00000000e+00j],\n",
       "       [ 1.39425038e-09-7.80303819e-09j, -3.44287008e-06-3.59713789e-06j,\n",
       "        -2.04797461e-05+1.14924565e-21j,  0.00000000e+00+0.00000000e+00j,\n",
       "         3.37240981e-06+3.69812325e-06j,  6.25117567e-02+7.38229261e-23j,\n",
       "         3.44287008e-06-3.59713789e-06j,  0.00000000e+00+0.00000000e+00j,\n",
       "        -2.04808873e-05+6.01212515e-22j, -3.37240981e-06+3.69812325e-06j,\n",
       "         1.39425038e-09+7.80303819e-09j,  0.00000000e+00+0.00000000e+00j,\n",
       "         0.00000000e+00+0.00000000e+00j,  0.00000000e+00+0.00000000e+00j,\n",
       "         0.00000000e+00+0.00000000e+00j,  0.00000000e+00+0.00000000e+00j],\n",
       "       [ 1.88738439e-13-2.19249101e-13j,  1.38783912e-09-7.80211153e-09j,\n",
       "        -3.51325769e-06-3.49606540e-06j,  0.00000000e+00+0.00000000e+00j,\n",
       "        -6.97323039e-10+3.90264728e-09j,  3.44287008e-06+3.59713789e-06j,\n",
       "         6.25047643e-02-6.20192012e-23j,  0.00000000e+00+0.00000000e+00j,\n",
       "        -7.52443606e-10-1.01207677e-09j, -2.04784960e-05-1.27027704e-20j,\n",
       "        -3.44210419e-06+3.59614560e-06j,  0.00000000e+00+0.00000000e+00j,\n",
       "         0.00000000e+00+0.00000000e+00j,  0.00000000e+00+0.00000000e+00j,\n",
       "         0.00000000e+00+0.00000000e+00j,  0.00000000e+00+0.00000000e+00j],\n",
       "       [ 0.00000000e+00+0.00000000e+00j,  0.00000000e+00+0.00000000e+00j,\n",
       "         0.00000000e+00+0.00000000e+00j, -3.44133830e-06-3.59515331e-06j,\n",
       "         0.00000000e+00+0.00000000e+00j,  0.00000000e+00+0.00000000e+00j,\n",
       "         0.00000000e+00+0.00000000e+00j,  6.24912740e-02-2.90972853e-23j,\n",
       "         0.00000000e+00+0.00000000e+00j,  0.00000000e+00+0.00000000e+00j,\n",
       "         0.00000000e+00+0.00000000e+00j, -3.37090492e-06+3.69609910e-06j,\n",
       "         0.00000000e+00+0.00000000e+00j,  0.00000000e+00+0.00000000e+00j,\n",
       "         0.00000000e+00+0.00000000e+00j,  0.00000000e+00+0.00000000e+00j],\n",
       "       [-7.00485964e-10+3.90263957e-09j,  7.52443605e-10+1.01207677e-09j,\n",
       "         2.12198471e-09-3.70792457e-22j,  0.00000000e+00+0.00000000e+00j,\n",
       "        -3.30187976e-06-3.79901684e-06j, -2.04808873e-05-4.20732318e-22j,\n",
       "        -7.52443606e-10+1.01207677e-09j,  0.00000000e+00+0.00000000e+00j,\n",
       "         6.25371254e-02-6.24550642e-22j,  3.30187976e-06-3.79901684e-06j,\n",
       "        -7.00485964e-10-3.90263957e-09j,  0.00000000e+00+0.00000000e+00j,\n",
       "         0.00000000e+00+0.00000000e+00j,  0.00000000e+00+0.00000000e+00j,\n",
       "         0.00000000e+00+0.00000000e+00j,  0.00000000e+00+0.00000000e+00j],\n",
       "       [-1.92619709e-13+2.17515049e-13j, -6.97323039e-10+3.90264728e-09j,\n",
       "         7.65888349e-10+9.92285050e-10j,  0.00000000e+00+0.00000000e+00j,\n",
       "         1.40097193e-09-7.80527914e-09j, -3.37240981e-06-3.69812325e-06j,\n",
       "        -2.04784960e-05+1.29795146e-20j,  0.00000000e+00+0.00000000e+00j,\n",
       "         3.30187976e-06+3.79901684e-06j,  6.25157148e-02-8.47286222e-22j,\n",
       "         3.37165736e-06-3.69711118e-06j,  0.00000000e+00+0.00000000e+00j,\n",
       "         0.00000000e+00+0.00000000e+00j,  0.00000000e+00+0.00000000e+00j,\n",
       "         0.00000000e+00+0.00000000e+00j,  0.00000000e+00+0.00000000e+00j],\n",
       "       [-1.20150171e-16+2.43243813e-17j, -1.88738439e-13+2.19249101e-13j,\n",
       "        -6.93919562e-10+3.90105576e-09j,  0.00000000e+00+0.00000000e+00j,\n",
       "         1.92619709e-13-2.17515049e-13j,  1.39425038e-09-7.80303819e-09j,\n",
       "        -3.44210419e-06-3.59614560e-06j,  0.00000000e+00+0.00000000e+00j,\n",
       "        -7.00485964e-10+3.90263957e-09j,  3.37165736e-06+3.69711118e-06j,\n",
       "         6.24912761e-02-1.43761599e-21j,  0.00000000e+00+0.00000000e+00j,\n",
       "         0.00000000e+00+0.00000000e+00j,  0.00000000e+00+0.00000000e+00j,\n",
       "         0.00000000e+00+0.00000000e+00j,  0.00000000e+00+0.00000000e+00j],\n",
       "       [ 0.00000000e+00+0.00000000e+00j,  0.00000000e+00+0.00000000e+00j,\n",
       "         0.00000000e+00+0.00000000e+00j, -6.96927336e-10+3.90039092e-09j,\n",
       "         0.00000000e+00+0.00000000e+00j,  0.00000000e+00+0.00000000e+00j,\n",
       "         0.00000000e+00+0.00000000e+00j, -3.37090492e-06-3.69609910e-06j,\n",
       "         0.00000000e+00+0.00000000e+00j,  0.00000000e+00+0.00000000e+00j,\n",
       "         0.00000000e+00+0.00000000e+00j,  6.24952339e-02-5.24687530e-22j,\n",
       "         0.00000000e+00+0.00000000e+00j,  0.00000000e+00+0.00000000e+00j,\n",
       "         0.00000000e+00+0.00000000e+00j,  0.00000000e+00+0.00000000e+00j],\n",
       "       [ 0.00000000e+00+0.00000000e+00j,  0.00000000e+00+0.00000000e+00j,\n",
       "         0.00000000e+00+0.00000000e+00j,  0.00000000e+00+0.00000000e+00j,\n",
       "         0.00000000e+00+0.00000000e+00j,  0.00000000e+00+0.00000000e+00j,\n",
       "         0.00000000e+00+0.00000000e+00j,  0.00000000e+00+0.00000000e+00j,\n",
       "         0.00000000e+00+0.00000000e+00j,  0.00000000e+00+0.00000000e+00j,\n",
       "         0.00000000e+00+0.00000000e+00j,  0.00000000e+00+0.00000000e+00j,\n",
       "         6.24952339e-02-6.49516109e-23j,  3.37090492e-06-3.69609910e-06j,\n",
       "        -6.96927336e-10-3.90039092e-09j,  0.00000000e+00+0.00000000e+00j],\n",
       "       [ 0.00000000e+00+0.00000000e+00j,  0.00000000e+00+0.00000000e+00j,\n",
       "         0.00000000e+00+0.00000000e+00j,  0.00000000e+00+0.00000000e+00j,\n",
       "         0.00000000e+00+0.00000000e+00j,  0.00000000e+00+0.00000000e+00j,\n",
       "         0.00000000e+00+0.00000000e+00j,  0.00000000e+00+0.00000000e+00j,\n",
       "         0.00000000e+00+0.00000000e+00j,  0.00000000e+00+0.00000000e+00j,\n",
       "         0.00000000e+00+0.00000000e+00j,  0.00000000e+00+0.00000000e+00j,\n",
       "         3.37090492e-06+3.69609910e-06j,  6.24912740e-02-2.22655939e-22j,\n",
       "         3.44133830e-06-3.59515331e-06j,  0.00000000e+00+0.00000000e+00j],\n",
       "       [ 0.00000000e+00+0.00000000e+00j,  0.00000000e+00+0.00000000e+00j,\n",
       "         0.00000000e+00+0.00000000e+00j,  0.00000000e+00+0.00000000e+00j,\n",
       "         0.00000000e+00+0.00000000e+00j,  0.00000000e+00+0.00000000e+00j,\n",
       "         0.00000000e+00+0.00000000e+00j,  0.00000000e+00+0.00000000e+00j,\n",
       "         0.00000000e+00+0.00000000e+00j,  0.00000000e+00+0.00000000e+00j,\n",
       "         0.00000000e+00+0.00000000e+00j,  0.00000000e+00+0.00000000e+00j,\n",
       "        -6.96927336e-10+3.90039092e-09j,  3.44133830e-06+3.59515331e-06j,\n",
       "         6.24842846e-02+1.77145579e-22j,  0.00000000e+00+0.00000000e+00j],\n",
       "       [ 0.00000000e+00+0.00000000e+00j,  0.00000000e+00+0.00000000e+00j,\n",
       "         0.00000000e+00+0.00000000e+00j,  0.00000000e+00+0.00000000e+00j,\n",
       "         0.00000000e+00+0.00000000e+00j,  0.00000000e+00+0.00000000e+00j,\n",
       "         0.00000000e+00+0.00000000e+00j,  0.00000000e+00+0.00000000e+00j,\n",
       "         0.00000000e+00+0.00000000e+00j,  0.00000000e+00+0.00000000e+00j,\n",
       "         0.00000000e+00+0.00000000e+00j,  0.00000000e+00+0.00000000e+00j,\n",
       "         0.00000000e+00+0.00000000e+00j,  0.00000000e+00+0.00000000e+00j,\n",
       "         0.00000000e+00+0.00000000e+00j,  6.24707997e-02+2.68826691e-23j]])"
      ]
     },
     "execution_count": 33,
     "metadata": {},
     "output_type": "execute_result"
    },
    {
     "name": "stdout",
     "output_type": "stream",
     "text": [
      "time: 491 ms\n"
     ]
    }
   ],
   "source": [
    "plot_state(piqs_state)\n",
    "np.array(piqs_state)"
   ]
  },
  {
   "cell_type": "code",
   "execution_count": 34,
   "metadata": {},
   "outputs": [
    {
     "data": {
      "image/png": "[encoded data removed]",
      "text/plain": [
       "<Figure size 288x216 with 2 Axes>"
      ]
     },
     "metadata": {
      "needs_background": "light"
     },
     "output_type": "display_data"
    },
    {
     "data": {
      "text/plain": [
       "array([[ 6.24912761e-02-4.61256186e-22j,  3.44210419e-06-3.59614560e-06j,\n",
       "        -6.93919562e-10-3.90105576e-09j,  2.63333120e-19-1.15690859e-19j,\n",
       "        -3.37165736e-06+3.69711118e-06j,  1.39425037e-09+7.80303819e-09j,\n",
       "         1.88738437e-13+2.19249099e-13j, -3.97054434e-21-1.52079112e-21j,\n",
       "        -7.00485964e-10-3.90263957e-09j, -1.92619710e-13-2.17515050e-13j,\n",
       "        -1.20150149e-16-2.43244820e-17j, -2.93651150e-23-4.27870538e-24j,\n",
       "        -3.97606273e-19-3.58664269e-19j,  4.25307852e-21-6.66833607e-21j,\n",
       "         1.46124400e-22+7.32661221e-24j, -7.81042044e-21+4.71370829e-21j],\n",
       "       [ 3.44210419e-06+3.59614560e-06j,  6.25047643e-02+3.59137254e-22j,\n",
       "         3.51325769e-06-3.49606540e-06j,  1.17812116e-17+4.85760001e-22j,\n",
       "        -2.04784960e-05+1.73536952e-22j, -3.44287007e-06+3.59713789e-06j,\n",
       "         1.38783912e-09+7.80211153e-09j, -2.99844311e-20-4.31866033e-20j,\n",
       "         7.52443605e-10-1.01207677e-09j, -6.97323039e-10-3.90264728e-09j,\n",
       "        -1.88738437e-13-2.19249099e-13j,  5.36268674e-22-6.23919256e-22j,\n",
       "        -3.05328443e-18+7.06165846e-23j, -3.89761675e-19-3.63259178e-19j,\n",
       "         2.20519127e-21-3.17804588e-21j, -5.42953472e-20-2.01817677e-19j],\n",
       "       [-6.93919562e-10+3.90105576e-09j,  3.51325769e-06+3.49606540e-06j,\n",
       "         6.25152225e-02+8.05405379e-22j, -2.60460548e-19-1.33461708e-19j,\n",
       "        -7.65888347e-10-9.92285053e-10j, -2.04797461e-05+4.57027479e-22j,\n",
       "        -3.51325769e-06+3.49606540e-06j,  4.84792667e-19+2.10044968e-22j,\n",
       "         2.12198475e-09+2.83021312e-23j,  7.65888347e-10-9.92285053e-10j,\n",
       "        -6.93919562e-10-3.90105576e-09j, -5.95156697e-20-6.48061831e-20j,\n",
       "        -9.99794253e-20+1.32603518e-19j, -1.56418003e-18+2.51905476e-23j,\n",
       "        -3.03616887e-19-1.84687324e-19j, -1.94592450e-18+1.06040411e-22j],\n",
       "       [ 2.62587115e-19+1.10525073e-19j,  9.83351601e-18-2.48105623e-23j,\n",
       "        -2.59957933e-19+1.25219335e-19j,  6.24842846e-02+6.99999966e-23j,\n",
       "        -3.56591715e-19-8.80790834e-23j, -3.01962743e-20-4.39276470e-20j,\n",
       "         3.93128659e-21+1.51806907e-21j, -3.44133830e-06+3.59515332e-06j,\n",
       "         5.88519627e-20+6.40626348e-20j,  6.57303229e-22-6.74049880e-22j,\n",
       "         3.02085738e-23+4.21538938e-25j, -6.96927336e-10-3.90039092e-09j,\n",
       "         1.92233382e-18-1.20361369e-22j, -5.36599874e-20-2.01076633e-19j,\n",
       "         8.09362498e-21-5.10496427e-21j, -1.95579457e-19-1.04384624e-19j],\n",
       "       [-3.37165736e-06-3.69711118e-06j, -2.04784960e-05-2.96899256e-22j,\n",
       "        -7.65888347e-10+9.92285053e-10j, -4.41599454e-19+3.88041278e-22j,\n",
       "         6.25157148e-02-7.74128698e-22j,  3.37240981e-06-3.69812325e-06j,\n",
       "        -6.97323039e-10-3.90264728e-09j,  3.01568281e-19-9.01096009e-20j,\n",
       "        -3.30187976e-06+3.79901684e-06j,  1.40097193e-09+7.80527914e-09j,\n",
       "         1.92619710e-13+2.17515050e-13j, -2.76788421e-21-3.01973813e-21j,\n",
       "         8.30156968e-18-7.21362161e-22j,  1.04844879e-19+1.33612976e-19j,\n",
       "        -1.01562727e-21+1.74796573e-21j, -5.08465287e-20-1.98940392e-19j],\n",
       "       [ 1.39425037e-09-7.80303819e-09j, -3.44287007e-06-3.59713789e-06j,\n",
       "        -2.04797461e-05-3.59759340e-22j, -3.68649447e-20+5.29390185e-20j,\n",
       "         3.37240981e-06+3.69812325e-06j,  6.25117567e-02+4.65091862e-24j,\n",
       "         3.44287007e-06-3.59713789e-06j,  3.46879432e-18+4.82534041e-22j,\n",
       "        -2.04808873e-05+1.67058464e-22j, -3.37240981e-06+3.69812325e-06j,\n",
       "         1.39425037e-09+7.80303819e-09j,  3.67850374e-20-2.78562967e-20j,\n",
       "         1.10255513e-19-1.41884838e-19j,  1.04076882e-17-1.82164963e-22j,\n",
       "        -9.62755369e-21+6.17151604e-20j,  1.04089935e-17-1.03839074e-22j],\n",
       "       [ 1.88738437e-13-2.19249099e-13j,  1.38783912e-09-7.80211153e-09j,\n",
       "        -3.51325769e-06-3.49606540e-06j,  4.07259913e-21-1.23369312e-21j,\n",
       "        -6.97323039e-10+3.90264728e-09j,  3.44287007e-06+3.59713789e-06j,\n",
       "         6.25047643e-02+7.03599620e-22j, -3.00040781e-19-8.85028660e-20j,\n",
       "        -7.52443605e-10-1.01207677e-09j, -2.04784960e-05+6.32860201e-22j,\n",
       "        -3.44210419e-06+3.59614560e-06j,  9.77074211e-19+4.51312156e-22j,\n",
       "        -9.95793595e-22-1.88672780e-21j, -8.34380980e-21-6.35153941e-20j,\n",
       "         1.96813372e-18-2.96499145e-22j,  5.75775999e-20-2.08805698e-19j],\n",
       "       [-4.14094385e-21+1.13487224e-21j, -3.52856456e-20+5.39019176e-20j,\n",
       "         4.86754123e-19-2.57645263e-22j, -3.44133830e-06-3.59515332e-06j,\n",
       "         2.95305714e-19+9.04570822e-20j,  3.46993134e-18-8.78056119e-23j,\n",
       "        -2.96158322e-19+9.66346715e-20j,  6.24912740e-02+3.47098447e-23j,\n",
       "        -9.35414258e-19-3.93798038e-22j,  3.65913276e-20-2.48478999e-20j,\n",
       "         3.02792033e-21+2.99772211e-21j, -3.37090492e-06+3.69609910e-06j,\n",
       "        -5.48511762e-20+2.00252085e-19j,  1.04078565e-17+2.12177410e-23j,\n",
       "         5.56378591e-20+2.10533573e-19j,  3.46993134e-18-2.94655749e-22j],\n",
       "       [-7.00485964e-10+3.90263957e-09j,  7.52443605e-10+1.01207677e-09j,\n",
       "         2.12198475e-09-3.82416525e-23j,  5.88415275e-20-6.47687481e-20j,\n",
       "        -3.30187976e-06-3.79901684e-06j, -2.04808873e-05-4.32821182e-22j,\n",
       "        -7.52443605e-10+1.01207677e-09j, -1.07205383e-18+5.39881855e-22j,\n",
       "         6.25371254e-02-9.85655470e-22j,  3.30187976e-06-3.79901684e-06j,\n",
       "        -7.00485964e-10-3.90263957e-09j,  2.90159030e-19-1.79420002e-19j,\n",
       "         4.12438238e-19-3.75328899e-19j,  3.01233905e-18+2.80497510e-22j,\n",
       "         9.64291316e-20+1.30122377e-19j, -1.90187885e-18-2.72328042e-22j],\n",
       "       [-1.92619710e-13+2.17515050e-13j, -6.97323039e-10+3.90264728e-09j,\n",
       "         7.65888347e-10+9.92285053e-10j,  5.13777620e-22+4.63184381e-22j,\n",
       "         1.40097193e-09-7.80527914e-09j, -3.37240981e-06-3.69812325e-06j,\n",
       "        -2.04784960e-05-6.62575310e-22j,  2.68687442e-20+4.12863850e-20j,\n",
       "         3.30187976e-06+3.79901684e-06j,  6.25157148e-02-2.50163197e-22j,\n",
       "         3.37165736e-06-3.69711118e-06j,  9.14339867e-18+2.26557750e-22j,\n",
       "        -5.18107197e-21-7.78785670e-21j,  3.93845769e-19-3.49407562e-19j,\n",
       "         1.56876162e-18+2.73083212e-22j,  4.97877375e-20-1.81893854e-19j],\n",
       "       [-1.20150149e-16+2.43244820e-17j, -1.88738437e-13+2.19249099e-13j,\n",
       "        -6.93919562e-10+3.90105576e-09j,  2.55896513e-23-2.63929664e-24j,\n",
       "         1.92619710e-13-2.17515050e-13j,  1.39425037e-09-7.80303819e-09j,\n",
       "        -3.44210419e-06-3.59614560e-06j,  3.24919145e-21-2.71189207e-21j,\n",
       "        -7.00485964e-10+3.90263957e-09j,  3.37165736e-06+3.69711118e-06j,\n",
       "         6.24912761e-02+6.68960178e-22j, -2.88957717e-19-1.84985404e-19j,\n",
       "        -1.64837149e-22+6.61270190e-24j, -2.66116913e-21-3.77978224e-21j,\n",
       "         3.01193683e-19-1.68957880e-19j, -7.65222215e-21-5.03217282e-21j],\n",
       "       [-2.91704897e-23+3.00085365e-24j,  4.32879651e-22+4.41809016e-22j,\n",
       "        -5.89344679e-20+6.51427523e-20j, -6.96927336e-10+3.90039092e-09j,\n",
       "        -2.95349587e-21+2.79085667e-21j,  2.70804189e-20+4.48861627e-20j,\n",
       "         9.72784601e-19-5.12101315e-22j, -3.37090492e-06-3.69609910e-06j,\n",
       "         2.88065037e-19+1.67963613e-19j,  5.76874817e-18-3.03208547e-22j,\n",
       "        -2.84243522e-19+1.94269432e-19j,  6.24952339e-02-6.36796207e-23j,\n",
       "         7.47388024e-21+4.87553295e-21j,  5.06348540e-20-1.82952533e-19j,\n",
       "         1.99037009e-18+1.49299030e-22j,  1.94898822e-19-8.40746035e-20j],\n",
       "       [-3.97695538e-19+3.73154540e-19j, -3.05026133e-18+1.94002989e-23j,\n",
       "        -9.69654148e-20-1.30513112e-19j,  1.96608793e-18+3.82119882e-22j,\n",
       "         1.04287211e-17+2.58062675e-23j,  1.03468534e-19+1.30436490e-19j,\n",
       "        -9.78712249e-22+1.63378887e-21j, -5.07407331e-20-1.99999071e-19j,\n",
       "         3.99464716e-19+3.59918116e-19j, -4.26489534e-21+6.75448684e-21j,\n",
       "        -1.51753041e-22-5.61059025e-24j,  7.68554198e-21-4.67397979e-21j,\n",
       "         6.24952339e-02-5.18944195e-22j,  3.37090492e-06-3.69609910e-06j,\n",
       "        -6.96927336e-10-3.90039092e-09j,  1.78642708e-19-2.23305644e-19j],\n",
       "       [ 4.73434223e-21+7.12614141e-21j, -3.92238440e-19+3.79124092e-19j,\n",
       "        -1.61896978e-18-8.46572417e-23j, -5.49509978e-20+1.98642637e-19j,\n",
       "         1.13294071e-19-1.47270013e-19j, -1.73423909e-18+4.13211672e-22j,\n",
       "        -9.07875876e-21+5.80428001e-20j,  1.04078565e-17-2.39348355e-22j,\n",
       "         3.01684147e-18-5.87881902e-24j,  3.89766485e-19+3.66492040e-19j,\n",
       "        -2.26598389e-21+2.94643691e-21j,  5.29360509e-20+1.94783954e-19j,\n",
       "         3.37090492e-06+3.69609910e-06j,  6.24912740e-02-3.77887496e-23j,\n",
       "         3.44133830e-06-3.59515332e-06j,  6.93937829e-18+2.85146360e-22j],\n",
       "       [ 1.57127298e-22-2.99458693e-24j,  2.83595090e-21+3.53331828e-21j,\n",
       "        -2.98474693e-19+1.66135228e-19j,  8.01271808e-21+5.27838445e-21j,\n",
       "        -1.10672123e-21-1.98977281e-21j, -7.60257094e-21-6.20329762e-20j,\n",
       "        -1.41665384e-18+3.47756059e-22j,  5.81069104e-20-2.09652842e-19j,\n",
       "         1.00986388e-19-1.33435158e-19j,  1.57928262e-18+2.87432972e-22j,\n",
       "         3.08147107e-19+1.86957804e-19j,  1.90173940e-18-7.96590239e-23j,\n",
       "        -6.96927336e-10+3.90039092e-09j,  3.44133830e-06+3.59515332e-06j,\n",
       "         6.24842846e-02+4.70274659e-22j, -1.78173831e-19-2.16828247e-19j],\n",
       "       [-7.83089286e-21-5.10699354e-21j, -5.61528926e-20+2.01001888e-19j,\n",
       "        -2.02920112e-18-2.65158531e-22j, -1.94591345e-19+1.20044837e-19j,\n",
       "        -5.44558640e-20+1.99093020e-19j,  8.67199644e-18-1.11239134e-22j,\n",
       "         5.59152384e-20+2.12769227e-19j,  1.73634442e-18+1.52126410e-22j,\n",
       "        -2.01649556e-18+8.64439284e-23j,  5.17291830e-20+1.91683845e-19j,\n",
       "        -7.96396554e-21+5.05405398e-21j,  1.91806927e-19+1.06744966e-19j,\n",
       "         1.72318821e-19+2.21963834e-19j,  5.20579137e-18-1.32924666e-22j,\n",
       "        -1.71600324e-19+2.29140371e-19j,  6.24707997e-02-2.51217331e-23j]])"
      ]
     },
     "execution_count": 34,
     "metadata": {},
     "output_type": "execute_result"
    },
    {
     "name": "stdout",
     "output_type": "stream",
     "text": [
      "time: 908 ms\n"
     ]
    }
   ],
   "source": [
    "plot_state(qutip_state_transformed)\n",
    "qutip_state_transformed"
   ]
  },
  {
   "cell_type": "code",
   "execution_count": 35,
   "metadata": {
    "scrolled": true
   },
   "outputs": [
    {
     "data": {
      "image/png": "[encoded data removed]",
      "text/plain": [
       "<Figure size 288x216 with 2 Axes>"
      ]
     },
     "metadata": {
      "needs_background": "light"
     },
     "output_type": "display_data"
    },
    {
     "name": "stdout",
     "output_type": "stream",
     "text": [
      "max value =  1.5862200773462303e-08\n",
      "mean value =  5.021211317154808e-10\n"
     ]
    },
    {
     "data": {
      "text/plain": [
       "array([[ 1.23251960e-14,  4.65365772e-11, -7.84435874e-11,\n",
       "         2.87625984e-19,  5.02912519e-11, -5.28775913e-11,\n",
       "        -9.74083837e-09,  4.25182643e-21, -6.15266995e-11,\n",
       "         5.04499926e-09, -1.31786931e-08,  2.96751967e-23,\n",
       "         5.35472508e-19,  7.90919610e-21,  1.46307961e-22,\n",
       "         9.12259356e-21],\n",
       "       [ 4.65357264e-11, -4.44055360e-15,  4.40552067e-11,\n",
       "         1.17812116e-17, -8.50170839e-11,  4.68051043e-11,\n",
       "        -6.56689529e-11,  5.25751730e-20, -1.12289702e-09,\n",
       "        -6.91010630e-11, -9.57422220e-09,  8.22714610e-22,\n",
       "         3.05328444e-18,  5.32795828e-19,  3.86818357e-21,\n",
       "         2.08993683e-19],\n",
       "       [-7.84465101e-11,  4.40560612e-11, -1.15435079e-14,\n",
       "         2.92663159e-19,  1.08707336e-09, -7.92697008e-11,\n",
       "         4.40100896e-11,  4.84792713e-19,  1.58622008e-08,\n",
       "         1.03446031e-09, -6.18851209e-11,  8.79883874e-20,\n",
       "         1.66071004e-19,  1.56418003e-18,  3.55376732e-19,\n",
       "         1.94592450e-18],\n",
       "       [ 2.84899605e-19,  9.83351601e-18,  2.88544639e-19,\n",
       "         2.37647483e-14,  3.56591726e-19,  5.33052826e-20,\n",
       "         4.21420787e-21,  4.68185073e-11,  8.69918083e-20,\n",
       "         9.41483284e-22,  3.02115148e-23, -6.44587253e-11,\n",
       "         1.92233382e-18,  2.08113446e-19,  9.56908698e-21,\n",
       "         2.21692295e-19],\n",
       "       [ 5.02898977e-11, -8.50142713e-11,  1.08860220e-09,\n",
       "         4.41599625e-19, -2.70826322e-14,  4.99807807e-11,\n",
       "        -8.56438136e-11,  3.14743020e-19,  5.26264849e-11,\n",
       "        -6.10754539e-11,  4.79104648e-09,  4.09634000e-21,\n",
       "         8.30156971e-18,  1.69837794e-19,  2.02160405e-21,\n",
       "         2.05335455e-19],\n",
       "       [-5.29823635e-11,  4.68037434e-11, -7.92634142e-11,\n",
       "         6.45101839e-20,  4.99767189e-11, -1.22101564e-14,\n",
       "         4.68420189e-11,  3.46879436e-18, -8.01174085e-11,\n",
       "         5.01996079e-11, -5.34050002e-11,  4.61423043e-20,\n",
       "         1.79687466e-19,  1.04076882e-17,  6.24615947e-20,\n",
       "         1.04089935e-17],\n",
       "       [-9.73546308e-09, -6.57925407e-11,  4.40148747e-11,\n",
       "         4.25535690e-21, -8.56438136e-11,  4.68404879e-11,\n",
       "        -3.99649824e-15,  3.12821399e-19, -1.06779586e-09,\n",
       "        -8.50172493e-11,  4.67171125e-11,  9.77074315e-19,\n",
       "         2.13338854e-21,  6.40610993e-20,  1.96813374e-18,\n",
       "         2.16598707e-19],\n",
       "       [ 4.29364075e-21,  6.44243239e-20,  4.86754192e-19,\n",
       "         4.68234430e-11,  3.08849394e-19,  3.46993134e-18,\n",
       "         3.11525298e-19,  1.13258561e-14,  9.35414341e-19,\n",
       "         4.42305708e-20,  4.26082613e-21,  5.00884860e-11,\n",
       "         2.07628392e-19,  1.04078565e-17,  2.17761238e-19,\n",
       "         3.46993136e-18],\n",
       "       [-6.15175202e-11, -1.12214897e-09,  1.58584970e-08,\n",
       "         8.75060917e-20,  5.26222778e-11, -8.01276651e-11,\n",
       "        -1.06688908e-09,  1.07205396e-18, -5.65877607e-14,\n",
       "         5.24157945e-11, -7.74963705e-11,  3.41150699e-19,\n",
       "         5.57653192e-19,  3.01233906e-18,  1.61958051e-19,\n",
       "         1.90187887e-18],\n",
       "       [ 5.05579531e-09, -6.91137906e-11,  1.03494287e-09,\n",
       "         6.91742159e-22, -6.11943674e-11,  5.01980848e-11,\n",
       "        -8.50258526e-11,  4.92594661e-20,  5.24179822e-11,\n",
       "        -2.79705874e-14,  5.03611656e-11,  9.14339867e-18,\n",
       "         9.35383444e-21,  5.26497990e-19,  1.56876164e-18,\n",
       "         1.88584710e-19],\n",
       "       [-1.29195361e-08, -9.55754258e-09, -6.19414869e-11,\n",
       "         2.57253987e-23,  4.77797546e-09, -5.35629933e-11,\n",
       "         4.67213664e-11,  4.23221026e-21, -7.74899033e-11,\n",
       "         5.03645512e-11,  1.27693472e-14,  3.43097890e-19,\n",
       "         1.64969736e-22,  4.62261559e-21,  3.45346782e-19,\n",
       "         9.15856250e-21],\n",
       "       [ 2.93244368e-23,  6.18530515e-22,  8.78456014e-20,\n",
       "        -6.45524629e-11,  4.06349834e-21,  5.24224827e-20,\n",
       "         9.72784736e-19,  5.00859461e-11,  3.33456505e-19,\n",
       "         5.76874817e-18,  3.44289111e-19,  1.66546154e-15,\n",
       "         8.92354791e-21,  1.89830234e-19,  1.99037009e-18,\n",
       "         2.12259486e-19],\n",
       "       [ 5.45349476e-19,  3.05026133e-18,  1.62591403e-19,\n",
       "         1.96608796e-18,  1.04287211e-17,  1.66491488e-19,\n",
       "         1.90450617e-21,  2.06335287e-19,  5.37692393e-19,\n",
       "         7.98826794e-21,  1.51856722e-22,  8.99520109e-21,\n",
       "         2.10958462e-15,  4.99863831e-11, -7.46494064e-11,\n",
       "         2.85969628e-19],\n",
       "       [ 8.55545953e-21,  5.45514501e-19,  1.61896979e-18,\n",
       "         2.06103152e-19,  1.85806359e-19,  1.73423913e-18,\n",
       "         5.87485362e-20,  1.04078565e-17,  3.01684147e-18,\n",
       "         5.35008718e-19,  3.71701136e-21,  2.01848989e-19,\n",
       "         4.99912936e-11,  1.15479317e-14,  4.68115291e-11,\n",
       "         6.93937830e-18],\n",
       "       [ 1.57155832e-22,  4.53066834e-21,  3.41596335e-19,\n",
       "         9.59505046e-21,  2.27684600e-21,  6.24971138e-20,\n",
       "         1.41665388e-18,  2.17556262e-19,  1.67341542e-19,\n",
       "         1.57928265e-18,  3.60427330e-19,  1.90173940e-18,\n",
       "        -7.46769640e-11,  4.68147629e-11,  2.44310496e-14,\n",
       "         2.80642838e-19],\n",
       "       [ 9.34902487e-21,  2.08698123e-19,  2.02920114e-18,\n",
       "         2.28640667e-19,  2.06406084e-19,  8.67199644e-18,\n",
       "         2.19993768e-19,  1.73634442e-18,  2.01649556e-18,\n",
       "         1.98541192e-19,  9.43229605e-21,  2.19509419e-19,\n",
       "         2.81001281e-19,  5.20579137e-18,  2.86272564e-19,\n",
       "         4.39853819e-14]])"
      ]
     },
     "execution_count": 35,
     "metadata": {},
     "output_type": "execute_result"
    },
    {
     "name": "stdout",
     "output_type": "stream",
     "text": [
      "time: 852 ms\n"
     ]
    }
   ],
   "source": [
    "mask = (piqs_state == 0)\n",
    "qutip_state_transformed = np.absolute(qutip_state_transformed)\n",
    "piqs_state = np.absolute(piqs_state)\n",
    "rel_diff = np.divide(qutip_state_transformed-piqs_state, qutip_state_transformed)\n",
    "rel_diff[mask] = qutip_state_transformed[mask]\n",
    "plot_state(rel_diff)\n",
    "print('max value = ', np.absolute(rel_diff).max())\n",
    "print('mean value = ', np.absolute(rel_diff).mean())\n",
    "rel_diff"
   ]
  },
  {
   "cell_type": "markdown",
   "metadata": {},
   "source": [
    "<h1><center> Two species: 2 TLSs each in driven leaky cavity </center></h1>\n",
    "\n",
    "\\begin{eqnarray}\n",
    "H_\\text{TLS}^{(1)}&=&\\hbar\\omega_{0}^{(1)} J_{z}^{(1)}+\\hbar\\omega_{x}^{(1)} J_{x}^{(1)} \\quad \\quad\n",
    "H_\\text{TLS}^{(2)}&=&\\hbar\\omega_{0}^{(2)} J_{z}^{(2)}+\\hbar\\omega_{x}^{(2)} J_{x}^{(2)} \\quad \\quad\n",
    "H_\\text{phot} = \\hbar \\omega_c a^\\dagger a \\quad \\quad\n",
    "H_\\text{int} = \\hbar g (a^\\dagger + a) (J_x^{(1)}+J_x^{(2)})\n",
    "\\end{eqnarray}\n",
    "\n",
    "\\begin{eqnarray}\n",
    "\\dot{\\rho} = \\mathcal{D}_\\text{TLS}^{(1)}(\\rho)+\\mathcal{D}_\\text{TLS}^{(2)}(\\rho)+\\mathcal{D}_\\text{phot}(\\rho) -\\frac{i}{\\hbar}\\lbrack H_\\text{int}, \\rho\\rbrack\n",
    "&=&-\\frac{i}{\\hbar}\\lbrack H_\\text{TLS}^{(1)}+H_\\text{TLS}^{(2)}+H_\\text{phot}+H_\\text{int},\\rho \\rbrack\\\\\n",
    "&&\n",
    "+\\frac{\\gamma_\\Downarrow}{2}\\mathcal{L}_{J_-}[\\rho]\n",
    "+\\frac{\\gamma_\\Phi}{2}\\mathcal{L}_{J_z}[\\rho]\n",
    "+\\frac{\\gamma_\\Uparrow}{2}\\mathcal{L}_{J_+}[\\rho]\\\\\n",
    "&&+\\frac{w_p}{2}\\mathcal{L}_{a^\\dagger}[\\rho]\n",
    "+\\frac{\\kappa}{2}\\mathcal{L}_{a}[\\rho]\\\\\n",
    "&&\n",
    "+\\sum_{n=1}^{N_1}\\frac{\\gamma_\\downarrow^{(1)}}{2}\\mathcal{L}_{J_{-,n}^{(1)}}[\\rho] \n",
    "+\\frac{\\gamma_\\phi^{(1)}}{2}\\mathcal{L}_{J_{z,n}^{(1)}}[\\rho] \n",
    "+\\frac{\\gamma_\\uparrow^{(1)}}{2}\\mathcal{L}_{J_{+,n}^{(1)}}[\\rho] \\\\\n",
    "&&\n",
    "+\\sum_{n=1}^{N_2}\\frac{\\gamma_\\downarrow^{(2)}}{2}\\mathcal{L}_{J_{-,n}^{(2)}}[\\rho]\n",
    "+\\frac{\\gamma_\\phi^{(2)}}{2}\\mathcal{L}_{J_{z,n}^{(2)}}[\\rho]\n",
    "+\\frac{\\gamma_\\uparrow^{(2)}}{2}\\mathcal{L}_{J_{+,n}^{(2)}}[\\rho]\n",
    "\\end{eqnarray}"
   ]
  },
  {
   "cell_type": "code",
   "execution_count": 36,
   "metadata": {},
   "outputs": [
    {
     "name": "stdout",
     "output_type": "stream",
     "text": [
      "time: 95.8 ms\n"
     ]
    }
   ],
   "source": [
    "N1 = 2\n",
    "N2 = 2"
   ]
  },
  {
   "cell_type": "code",
   "execution_count": 37,
   "metadata": {},
   "outputs": [
    {
     "name": "stdout",
     "output_type": "stream",
     "text": [
      "time: 58.9 ms\n"
     ]
    }
   ],
   "source": [
    "unc_to_dicke = [[1.,0,0,0],\n",
    "                [0,1/np.sqrt(2), 1/np.sqrt(2),0],\n",
    "                [0,0,0,1.],\n",
    "                [0,1/np.sqrt(2), -1/np.sqrt(2),0]]\n",
    "dicke_to_unc = linalg.inv(unc_to_dicke)\n",
    "\n",
    "unc_dicke_two = np.kron(unc_to_dicke, unc_to_dicke)\n",
    "\n",
    "id_phot = [[1.,0.],[0.,1.]]\n",
    "unc_dicke_two_phot = np.kron(unc_dicke_two, id_phot)\n",
    "\n",
    "dicke_unc_two_phot = linalg.inv(unc_dicke_two_phot)"
   ]
  },
  {
   "cell_type": "code",
   "execution_count": 38,
   "metadata": {
    "scrolled": true
   },
   "outputs": [
    {
     "data": {
      "image/png": "[encoded data removed]",
      "text/plain": [
       "<Figure size 288x216 with 2 Axes>"
      ]
     },
     "metadata": {
      "needs_background": "light"
     },
     "output_type": "display_data"
    },
    {
     "data": {
      "text/plain": [
       "array([[0., 0., 0., 0., 0., 0., 0., 0., 0., 0., 0., 0., 0., 0., 0., 0.],\n",
       "       [0., 0., 0., 0., 0., 0., 0., 0., 0., 0., 0., 0., 0., 0., 0., 0.],\n",
       "       [0., 0., 0., 0., 0., 0., 0., 0., 0., 0., 0., 0., 0., 0., 0., 0.],\n",
       "       [0., 0., 0., 0., 0., 0., 0., 0., 0., 0., 0., 0., 0., 0., 0., 0.],\n",
       "       [0., 0., 0., 0., 0., 0., 0., 0., 0., 0., 0., 0., 0., 0., 0., 0.],\n",
       "       [0., 0., 0., 0., 0., 0., 0., 0., 0., 0., 0., 0., 0., 0., 0., 0.],\n",
       "       [0., 0., 0., 0., 0., 0., 0., 0., 0., 0., 0., 0., 0., 0., 0., 0.],\n",
       "       [0., 0., 0., 0., 0., 0., 0., 0., 0., 0., 0., 0., 0., 0., 0., 0.],\n",
       "       [0., 0., 0., 0., 0., 0., 0., 0., 1., 0., 0., 0., 0., 0., 0., 0.],\n",
       "       [0., 0., 0., 0., 0., 0., 0., 0., 0., 0., 0., 0., 0., 0., 0., 0.],\n",
       "       [0., 0., 0., 0., 0., 0., 0., 0., 0., 0., 0., 0., 0., 0., 0., 0.],\n",
       "       [0., 0., 0., 0., 0., 0., 0., 0., 0., 0., 0., 0., 0., 0., 0., 0.],\n",
       "       [0., 0., 0., 0., 0., 0., 0., 0., 0., 0., 0., 0., 0., 0., 0., 0.],\n",
       "       [0., 0., 0., 0., 0., 0., 0., 0., 0., 0., 0., 0., 0., 0., 0., 0.],\n",
       "       [0., 0., 0., 0., 0., 0., 0., 0., 0., 0., 0., 0., 0., 0., 0., 0.],\n",
       "       [0., 0., 0., 0., 0., 0., 0., 0., 0., 0., 0., 0., 0., 0., 0., 0.]])"
      ]
     },
     "execution_count": 38,
     "metadata": {},
     "output_type": "execute_result"
    },
    {
     "name": "stdout",
     "output_type": "stream",
     "text": [
      "time: 1.55 s\n"
     ]
    }
   ],
   "source": [
    "initial_state_piqs_1 = piqs.ground(N1)\n",
    "initial_state_piqs_2 = piqs.excited(N2)\n",
    "plot_state(tensor(initial_state_piqs_1, initial_state_piqs_2))\n",
    "np.real(tensor(initial_state_piqs_1, initial_state_piqs_2))"
   ]
  },
  {
   "cell_type": "code",
   "execution_count": 39,
   "metadata": {
    "scrolled": true
   },
   "outputs": [
    {
     "data": {
      "image/png": "[encoded data removed]",
      "text/plain": [
       "<Figure size 288x216 with 2 Axes>"
      ]
     },
     "metadata": {
      "needs_background": "light"
     },
     "output_type": "display_data"
    },
    {
     "data": {
      "text/plain": [
       "array([[0., 0., 0., 0., 0., 0., 0., 0., 0., 0., 0., 0., 0., 0., 0., 0.],\n",
       "       [0., 0., 0., 0., 0., 0., 0., 0., 0., 0., 0., 0., 0., 0., 0., 0.],\n",
       "       [0., 0., 0., 0., 0., 0., 0., 0., 0., 0., 0., 0., 0., 0., 0., 0.],\n",
       "       [0., 0., 0., 0., 0., 0., 0., 0., 0., 0., 0., 0., 0., 0., 0., 0.],\n",
       "       [0., 0., 0., 0., 0., 0., 0., 0., 0., 0., 0., 0., 0., 0., 0., 0.],\n",
       "       [0., 0., 0., 0., 0., 0., 0., 0., 0., 0., 0., 0., 0., 0., 0., 0.],\n",
       "       [0., 0., 0., 0., 0., 0., 0., 0., 0., 0., 0., 0., 0., 0., 0., 0.],\n",
       "       [0., 0., 0., 0., 0., 0., 0., 0., 0., 0., 0., 0., 0., 0., 0., 0.],\n",
       "       [0., 0., 0., 0., 0., 0., 0., 0., 0., 0., 0., 0., 0., 0., 0., 0.],\n",
       "       [0., 0., 0., 0., 0., 0., 0., 0., 0., 0., 0., 0., 0., 0., 0., 0.],\n",
       "       [0., 0., 0., 0., 0., 0., 0., 0., 0., 0., 0., 0., 0., 0., 0., 0.],\n",
       "       [0., 0., 0., 0., 0., 0., 0., 0., 0., 0., 0., 0., 0., 0., 0., 0.],\n",
       "       [0., 0., 0., 0., 0., 0., 0., 0., 0., 0., 0., 0., 1., 0., 0., 0.],\n",
       "       [0., 0., 0., 0., 0., 0., 0., 0., 0., 0., 0., 0., 0., 0., 0., 0.],\n",
       "       [0., 0., 0., 0., 0., 0., 0., 0., 0., 0., 0., 0., 0., 0., 0., 0.],\n",
       "       [0., 0., 0., 0., 0., 0., 0., 0., 0., 0., 0., 0., 0., 0., 0., 0.]])"
      ]
     },
     "execution_count": 39,
     "metadata": {},
     "output_type": "execute_result"
    },
    {
     "name": "stdout",
     "output_type": "stream",
     "text": [
      "time: 1.48 s\n"
     ]
    }
   ],
   "source": [
    "initial_state_qutip_1 = Qobj(np.dot(np.dot(dicke_to_unc, initial_state_piqs_1), unc_to_dicke))\n",
    "initial_state_qutip_2 = Qobj(np.dot(np.dot(dicke_to_unc, initial_state_piqs_2), unc_to_dicke))\n",
    "plot_state(tensor(initial_state_qutip_1, initial_state_qutip_2))\n",
    "np.real(tensor(initial_state_qutip_1, initial_state_qutip_2))"
   ]
  },
  {
   "cell_type": "code",
   "execution_count": 40,
   "metadata": {
    "scrolled": true
   },
   "outputs": [
    {
     "data": {
      "text/plain": [
       "array([[ 3.21324295e-02,  2.30470894e-05, -2.95007828e-05, ...,\n",
       "         0.00000000e+00,  0.00000000e+00,  0.00000000e+00],\n",
       "       [ 2.30470894e-05,  2.43348953e-02, -1.59335524e-05, ...,\n",
       "         0.00000000e+00,  0.00000000e+00,  0.00000000e+00],\n",
       "       [-2.95007828e-05, -1.59335524e-05,  3.73300099e-02, ...,\n",
       "         0.00000000e+00,  0.00000000e+00,  0.00000000e+00],\n",
       "       ...,\n",
       "       [ 0.00000000e+00,  0.00000000e+00,  0.00000000e+00, ...,\n",
       "         3.26433350e-02,  0.00000000e+00,  0.00000000e+00],\n",
       "       [ 0.00000000e+00,  0.00000000e+00,  0.00000000e+00, ...,\n",
       "         0.00000000e+00,  4.27523550e-02, -1.44963582e-05],\n",
       "       [ 0.00000000e+00,  0.00000000e+00,  0.00000000e+00, ...,\n",
       "         0.00000000e+00, -1.44963582e-05,  2.01010391e-02]])"
      ]
     },
     "execution_count": 40,
     "metadata": {},
     "output_type": "execute_result"
    },
    {
     "name": "stdout",
     "output_type": "stream",
     "text": [
      "time: 6.02 s\n"
     ]
    }
   ],
   "source": [
    "piqs_state = np.array(library.two_species_piqs_mesolve(N1,N2,initial_state_piqs_1,initial_state_piqs_2,2,g1=10,g2=20)[-1])\n",
    "np.real(piqs_state)"
   ]
  },
  {
   "cell_type": "code",
   "execution_count": 41,
   "metadata": {
    "scrolled": true
   },
   "outputs": [
    {
     "data": {
      "text/plain": [
       "array([[ 3.21324295e-02,  2.30470894e-05, -2.08602036e-05, ...,\n",
       "         3.01935637e-06,  1.62025875e-03, -9.18790335e-07],\n",
       "       [ 2.30470894e-05,  2.43348953e-02, -1.12667230e-05, ...,\n",
       "        -1.84601381e-06, -8.73129946e-07, -1.17832921e-03],\n",
       "       [-2.08602036e-05, -1.12667230e-05,  4.15339977e-02, ...,\n",
       "         7.97254136e-07, -1.15898369e-05,  1.82909899e-06],\n",
       "       ...,\n",
       "       [ 3.01935637e-06, -1.84601381e-06,  7.97254136e-07, ...,\n",
       "         2.23521698e-02, -1.46745659e-05, -1.74663786e-05],\n",
       "       [ 1.62025875e-03, -8.73129946e-07, -1.15898369e-05, ...,\n",
       "        -1.46745659e-05,  3.84891384e-02, -3.40798714e-05],\n",
       "       [-9.18790335e-07, -1.17832921e-03,  1.82909899e-06, ...,\n",
       "        -1.74663786e-05, -3.40798714e-05,  2.87687549e-02]])"
      ]
     },
     "execution_count": 41,
     "metadata": {},
     "output_type": "execute_result"
    },
    {
     "name": "stdout",
     "output_type": "stream",
     "text": [
      "time: 5.7 s\n"
     ]
    }
   ],
   "source": [
    "qutip_state = library.two_species_qutip_mesolve(N1,N2,initial_state_qutip_1,initial_state_qutip_2,2,g1=10,g2=20)[-1]\n",
    "np.real(qutip_state)"
   ]
  },
  {
   "cell_type": "code",
   "execution_count": 42,
   "metadata": {},
   "outputs": [
    {
     "name": "stdout",
     "output_type": "stream",
     "text": [
      "time: 69.6 ms\n"
     ]
    }
   ],
   "source": [
    "qutip_state_transformed = np.dot(np.dot(unc_dicke_two_phot, qutip_state), dicke_unc_two_phot)"
   ]
  },
  {
   "cell_type": "code",
   "execution_count": 43,
   "metadata": {
    "scrolled": true
   },
   "outputs": [
    {
     "data": {
      "image/png": "[encoded data removed]",
      "text/plain": [
       "<Figure size 288x216 with 2 Axes>"
      ]
     },
     "metadata": {
      "needs_background": "light"
     },
     "output_type": "display_data"
    },
    {
     "data": {
      "text/plain": [
       "array([[ 3.21324295e-02+2.06602185e-20j,  2.30470894e-05+1.75184941e-05j,\n",
       "        -2.95007828e-05-3.24124858e-05j, ...,\n",
       "         0.00000000e+00+0.00000000e+00j,  0.00000000e+00+0.00000000e+00j,\n",
       "         0.00000000e+00+0.00000000e+00j],\n",
       "       [ 2.30470894e-05-1.75184941e-05j,  2.43348953e-02+1.77439023e-19j,\n",
       "        -1.59335524e-05-5.40026065e-05j, ...,\n",
       "         0.00000000e+00+0.00000000e+00j,  0.00000000e+00+0.00000000e+00j,\n",
       "         0.00000000e+00+0.00000000e+00j],\n",
       "       [-2.95007828e-05+3.24124858e-05j, -1.59335524e-05+5.40026065e-05j,\n",
       "         3.73300099e-02-6.27870243e-20j, ...,\n",
       "         0.00000000e+00+0.00000000e+00j,  0.00000000e+00+0.00000000e+00j,\n",
       "         0.00000000e+00+0.00000000e+00j],\n",
       "       ...,\n",
       "       [ 0.00000000e+00+0.00000000e+00j,  0.00000000e+00+0.00000000e+00j,\n",
       "         0.00000000e+00+0.00000000e+00j, ...,\n",
       "         3.26433350e-02+2.38113476e-21j,  0.00000000e+00+0.00000000e+00j,\n",
       "         0.00000000e+00+0.00000000e+00j],\n",
       "       [ 0.00000000e+00+0.00000000e+00j,  0.00000000e+00+0.00000000e+00j,\n",
       "         0.00000000e+00+0.00000000e+00j, ...,\n",
       "         0.00000000e+00+0.00000000e+00j,  4.27523550e-02+1.30729973e-21j,\n",
       "        -1.44963582e-05-4.31416552e-06j],\n",
       "       [ 0.00000000e+00+0.00000000e+00j,  0.00000000e+00+0.00000000e+00j,\n",
       "         0.00000000e+00+0.00000000e+00j, ...,\n",
       "         0.00000000e+00+0.00000000e+00j, -1.44963582e-05+4.31416552e-06j,\n",
       "         2.01010391e-02-6.87405568e-21j]])"
      ]
     },
     "execution_count": 43,
     "metadata": {},
     "output_type": "execute_result"
    },
    {
     "name": "stdout",
     "output_type": "stream",
     "text": [
      "time: 454 ms\n"
     ]
    }
   ],
   "source": [
    "plot_state(piqs_state)\n",
    "np.array(piqs_state)"
   ]
  },
  {
   "cell_type": "code",
   "execution_count": 44,
   "metadata": {
    "scrolled": true
   },
   "outputs": [
    {
     "data": {
      "image/png": "[encoded data removed]",
      "text/plain": [
       "<Figure size 288x216 with 2 Axes>"
      ]
     },
     "metadata": {
      "needs_background": "light"
     },
     "output_type": "display_data"
    },
    {
     "data": {
      "text/plain": [
       "array([[ 3.21324295e-02+9.26093853e-20j,  2.30470894e-05+1.75184941e-05j,\n",
       "        -2.95007828e-05-3.24124858e-05j, ...,\n",
       "         1.93638202e-18+3.85978495e-18j, -1.62747431e-18+4.94365299e-19j,\n",
       "        -3.37701904e-20+9.05515364e-21j],\n",
       "       [ 2.30470894e-05-1.75184941e-05j,  2.43348953e-02+1.04940730e-19j,\n",
       "        -1.59335524e-05-5.40026065e-05j, ...,\n",
       "         6.44681223e-21-9.06119372e-20j,  3.55704635e-20-1.38305542e-21j,\n",
       "         1.55032283e-20+8.50455369e-20j],\n",
       "       [-2.95007828e-05+3.24124858e-05j, -1.59335524e-05+5.40026065e-05j,\n",
       "         3.73300099e-02-7.93839836e-20j, ...,\n",
       "         1.37625810e-19-4.46136906e-20j,  3.79105601e-21+5.56139088e-20j,\n",
       "         1.96393746e-20+5.02075749e-20j],\n",
       "       ...,\n",
       "       [ 2.01716305e-18-4.20197029e-18j, -1.42168179e-20+7.53297947e-20j,\n",
       "         1.11272967e-19+5.39725552e-20j, ...,\n",
       "         3.26433350e-02+3.34328316e-20j, -4.69434773e-20-4.32254132e-18j,\n",
       "        -6.90799990e-21+4.00026310e-20j],\n",
       "       [-1.19145134e-18-2.62882156e-19j,  2.49923922e-20-5.56528060e-21j,\n",
       "         3.32406316e-20-9.64293912e-20j, ...,\n",
       "         1.02116734e-19+4.27709549e-18j,  4.27523550e-02-1.34167296e-20j,\n",
       "        -1.44963582e-05-4.31416552e-06j],\n",
       "       [-2.35104126e-20-1.80499007e-20j,  9.29169889e-20+2.27347072e-19j,\n",
       "         5.66905624e-20-1.16603769e-19j, ...,\n",
       "         5.12880291e-21-1.94100689e-20j, -1.44963582e-05+4.31416552e-06j,\n",
       "         2.01010391e-02-3.91471636e-21j]])"
      ]
     },
     "execution_count": 44,
     "metadata": {},
     "output_type": "execute_result"
    },
    {
     "name": "stdout",
     "output_type": "stream",
     "text": [
      "time: 424 ms\n"
     ]
    }
   ],
   "source": [
    "plot_state(qutip_state_transformed)\n",
    "qutip_state_transformed"
   ]
  },
  {
   "cell_type": "code",
   "execution_count": 45,
   "metadata": {},
   "outputs": [
    {
     "data": {
      "image/png": "[encoded data removed]",
      "text/plain": [
       "<Figure size 288x216 with 2 Axes>"
      ]
     },
     "metadata": {
      "needs_background": "light"
     },
     "output_type": "display_data"
    },
    {
     "name": "stdout",
     "output_type": "stream",
     "text": [
      "max value =  1.1303235703681767e-11\n",
      "mean value =  4.279441771475324e-13\n"
     ]
    },
    {
     "data": {
      "text/plain": [
       "array([[-7.38537903e-14,  4.68379929e-13,  8.78193377e-13, ...,\n",
       "         4.31827688e-18,  1.70090261e-18,  3.49631459e-20],\n",
       "       [ 4.67911783e-13, -1.50269686e-13, -8.40892483e-13, ...,\n",
       "         9.08409849e-20,  3.55973415e-20,  8.64470556e-20],\n",
       "       [ 8.78347988e-13, -8.39688973e-13,  1.63574203e-14, ...,\n",
       "         1.44676346e-19,  5.57429723e-20,  5.39120173e-20],\n",
       "       ...,\n",
       "       [ 4.66106222e-18,  7.66596105e-20,  1.23671783e-19, ...,\n",
       "         1.47096324e-13,  4.32279621e-18,  4.05947158e-20],\n",
       "       [ 1.22010791e-18,  2.56045311e-20,  1.01997878e-19, ...,\n",
       "         4.27831435e-18,  3.47331345e-13,  2.03560811e-12],\n",
       "       [ 2.96401487e-20,  2.45601828e-19,  1.29654382e-19, ...,\n",
       "         2.00762395e-20,  2.03504808e-12,  6.86949504e-14]])"
      ]
     },
     "execution_count": 45,
     "metadata": {},
     "output_type": "execute_result"
    },
    {
     "name": "stdout",
     "output_type": "stream",
     "text": [
      "time: 397 ms\n"
     ]
    }
   ],
   "source": [
    "mask = (piqs_state == 0)\n",
    "qutip_state_transformed = np.absolute(qutip_state_transformed)\n",
    "piqs_state = np.absolute(piqs_state)\n",
    "rel_diff = np.divide(qutip_state_transformed-piqs_state, qutip_state_transformed)\n",
    "rel_diff[mask] = qutip_state_transformed[mask]\n",
    "plot_state(rel_diff)\n",
    "print('max value = ', np.absolute(rel_diff).max())\n",
    "print('mean value = ', np.absolute(rel_diff).mean())\n",
    "rel_diff"
   ]
  },
  {
   "cell_type": "code",
   "execution_count": null,
   "metadata": {},
   "outputs": [],
   "source": []
  }
 ],
 "metadata": {
  "kernelspec": {
   "display_name": "tiqi_semester",
   "language": "python",
   "name": "tiqi_semester"
  },
  "language_info": {
   "codemirror_mode": {
    "name": "ipython",
    "version": 3
   },
   "file_extension": ".py",
   "mimetype": "text/x-python",
   "name": "python",
   "nbconvert_exporter": "python",
   "pygments_lexer": "ipython3",
   "version": "3.7.9"
  }
 },
 "nbformat": 4,
 "nbformat_minor": 4
}
