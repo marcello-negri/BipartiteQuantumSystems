{
 "cells": [
  {
   "cell_type": "markdown",
   "metadata": {},
   "source": [
    "# Bipartite two level systems: eigenvalues\n",
    "\n",
    "The *Permutational Invariant Quantum Solver (PIQS)* is an open-source Python solver to study the exact Lindbladian dynamics of open quantum systems consisting of identical qubits. It is integrated in QuTiP and can be imported as a model.\n",
    "\n",
    "This tutorial is meant to check whether the eigenvalues of the final density matrices obtained with QuTiP and PIQS are equivalent. The density matrices obtained with PIQS live in a lower dimensional space compared to QuTiP so the straightforward comparison between the two sets of eigenvales is not sufficient. However, one can multiply the eigenvalues obtained with QuTiP by their multiplicity. This way the same number of eigenvalues is obtained with both QuTiP and PIQS hence the values can be compared."
   ]
  },
  {
   "cell_type": "code",
   "execution_count": 1,
   "metadata": {},
   "outputs": [
    {
     "name": "stdout",
     "output_type": "stream",
     "text": [
      "time: 34 ms\n"
     ]
    }
   ],
   "source": [
    "%load_ext autotime\n",
    "%load_ext autoreload\n",
    "%autoreload 2"
   ]
  },
  {
   "cell_type": "code",
   "execution_count": 2,
   "metadata": {},
   "outputs": [
    {
     "name": "stdout",
     "output_type": "stream",
     "text": [
      "time: 1.9 s\n"
     ]
    }
   ],
   "source": [
    "import library\n",
    "\n",
    "import matplotlib.pyplot as plt\n",
    "import matplotlib as mpl\n",
    "import scipy.linalg as la\n",
    "import numpy as np\n",
    "import pandas as pd\n",
    "import math\n",
    "\n",
    "from mpl_toolkits.axes_grid1 import make_axes_locatable\n",
    "from matplotlib import cm\n",
    "from scipy import linalg\n",
    "from collections import Counter\n",
    "from mpmath import mp\n",
    "\n",
    "from qutip import *\n",
    "from qutip import piqs"
   ]
  },
  {
   "cell_type": "code",
   "execution_count": 3,
   "metadata": {},
   "outputs": [
    {
     "name": "stdout",
     "output_type": "stream",
     "text": [
      "time: 29.4 ms\n"
     ]
    }
   ],
   "source": [
    "plt.rcParams[\"figure.figsize\"] = (12,8)"
   ]
  },
  {
   "cell_type": "code",
   "execution_count": 4,
   "metadata": {},
   "outputs": [
    {
     "name": "stdout",
     "output_type": "stream",
     "text": [
      "time: 27.8 ms\n"
     ]
    }
   ],
   "source": [
    "def plot_state (density):\n",
    "    density_real = np.absolute(density)\n",
    "    fig = plt.figure(figsize=(4, 3))\n",
    "    label_size = 16\n",
    "\n",
    "    plt.rc('xtick', labelsize=label_size) \n",
    "    plt.rc('ytick', labelsize=label_size)\n",
    "\n",
    "    ax1 = fig.add_subplot(111)\n",
    "    ax1.set_title('density matrix', fontsize=label_size)\n",
    "    ax1.set_xticks([])\n",
    "    ax1.set_yticks([])\n",
    "    im1 = ax1.imshow(density_real, interpolation='None', cmap='Blues', norm=mpl.colors.LogNorm())\n",
    "    divider = make_axes_locatable(ax1)\n",
    "    cax = divider.append_axes('right', size='5%', pad=0.10)\n",
    "    fig.colorbar(im1, cax=cax, orientation='vertical')\n",
    "\n",
    "    plt.show()\n",
    "    plt.close()"
   ]
  },
  {
   "cell_type": "code",
   "execution_count": 5,
   "metadata": {},
   "outputs": [
    {
     "name": "stdout",
     "output_type": "stream",
     "text": [
      "time: 32.7 ms\n"
     ]
    }
   ],
   "source": [
    "def compare_eig(rho_1, rho_2, decimals=6, fast=False, verbose=False):\n",
    "\n",
    "    if fast: eig_1 = np.real(la.eigvals(rho_1))\n",
    "    else: eig_1, _ = mp.eighe(mp.matrix(np.array(rho_1)))\n",
    "        \n",
    "    print('1st matrix\\nSUM = ', np.array(eig_1).sum())\n",
    "    if verbose: print('eigenvalues\\n', eig_1)\n",
    "    eig_rounded_1 = np.array([rounding(i,decimals) for i in eig_1])\n",
    "    if verbose: print('rounded eigenvalues\\n', eig_rounded_1)\n",
    "    dict_1 = dict(zip(eig_rounded_1, eig_1))\n",
    "    if verbose: print('dict_1\\n', dict_1)\n",
    "    eig_dict_1 = Counter(eig_rounded_1)\n",
    "    if verbose: print(eig_dict_1)\n",
    "    eig_1 = [eig_dict_1[k]*dict_1[k] for k in eig_dict_1]\n",
    "    if verbose:\n",
    "        for i in eig_dict_1: print(i, eig_dict_1[i],'\\t\\t ==> ', dict_1[i]*eig_dict_1[i])\n",
    "    eig_1= np.array([rounding(i,decimals) for i in eig_1])\n",
    "    if verbose: print('merged and rounded\\n', eig_1)\n",
    "    eig_1 = np.sort(eig_1)\n",
    "    print('eigenvalues_1\\n', eig_1)\n",
    "    print('sum = ', eig_1.sum())\n",
    "\n",
    "    if fast: eig_2 = np.real(la.eigvals(rho_2))\n",
    "    else: eig_2, _ = mp.eighe(mp.matrix(np.array(rho_2)))\n",
    "        \n",
    "    print('\\n2nd matrix\\nSUM = ', np.array(eig_2).sum())\n",
    "        \n",
    "    if verbose: print('eigenvalues\\n', eig_2)\n",
    "    eig_rounded_2 = np.array([rounding(i,decimals) for i in eig_2])\n",
    "    if verbose: print('rounded eigenvalues\\n', eig_rounded_2)\n",
    "    dict_2 = dict(zip(eig_rounded_2, eig_2))\n",
    "    if verbose: print('dict_2\\n', dict_2)\n",
    "    eig_dict_2 = Counter(eig_rounded_2)\n",
    "    if verbose: print(eig_dict_2)\n",
    "    eig_2 = [eig_dict_2[k]*dict_2[k] for k in eig_dict_2]\n",
    "    if verbose:\n",
    "        for i in eig_dict_2: print(i, eig_dict_2[i],'\\t\\t ==> ', dict_2[i]*eig_dict_2[i])\n",
    "    eig_2 = np.array([rounding(i,decimals) for i in eig_2])\n",
    "    if verbose: print('merged and rounded\\n', eig_2)\n",
    "    eig_2 = np.sort(eig_2)\n",
    "    print('eigenvalues_2\\n', eig_2)\n",
    "    print('sum = ', eig_2.sum())\n",
    "\n",
    "    common_eig = [i for i in eig_1 if i in eig_2]\n",
    "    print('\\ncommon eigenvalues\\n', common_eig)\n",
    "\n",
    "    eig1_not_eig2 = [i for i in eig_1 if i not in eig_2]\n",
    "    print('eigenvalues of rho_1 not found in rho_2\\n',eig1_not_eig2)\n",
    "    eig2_not_eig1 = [i for i in eig_2 if i not in eig_1]\n",
    "    print('eigenvalues of rho_2 not found in rho_1\\n',eig2_not_eig1)\n",
    "\n",
    "    total_eig = len(eig_2)+len(eig_1)\n",
    "    not_matched = len(eig1_not_eig2)+len(eig2_not_eig1)\n",
    "\n",
    "    print('\\n\\n{0} not matched eigenvalues out of {1} ({2:0.2f}%)\\n\\n'.format(not_matched, total_eig, 100*not_matched/total_eig))\n"
   ]
  },
  {
   "cell_type": "code",
   "execution_count": 6,
   "metadata": {},
   "outputs": [
    {
     "name": "stdout",
     "output_type": "stream",
     "text": [
      "time: 37 ms\n"
     ]
    }
   ],
   "source": [
    "def rounding(number:float, decimals:int=2):\n",
    "    \"\"\" Returns a value rounded down to a specific number of decimal places.\n",
    "    \"\"\"\n",
    "    \n",
    "    if not isinstance(decimals, int):\n",
    "        raise TypeError(\"decimal places must be an integer\")\n",
    "    elif decimals < 0:\n",
    "        raise ValueError(\"decimal places has to be 0 or more\")\n",
    "    elif decimals == 0:\n",
    "        return math.floor(number)\n",
    "\n",
    "    factor = 10 ** decimals\n",
    "    return math.floor(number * factor) / factor"
   ]
  },
  {
   "cell_type": "markdown",
   "metadata": {},
   "source": [
    "### Eigenvalues comparison: one species case"
   ]
  },
  {
   "cell_type": "code",
   "execution_count": 7,
   "metadata": {},
   "outputs": [
    {
     "name": "stdout",
     "output_type": "stream",
     "text": [
      "time: 17.9 s\n"
     ]
    }
   ],
   "source": [
    "N = 6\n",
    "\n",
    "initial_qutip = piqs.ground(N, 'uncoupled')\n",
    "final_qutip = np.array(library.one_species_qutip_mesolve(N, initial_qutip)[-1])\n",
    "\n",
    "initial_piqs = piqs.ground(N,'dicke')\n",
    "final_piqs = np.array(library.one_species_piqs_mesolve(N, initial_piqs)[-1])"
   ]
  },
  {
   "cell_type": "code",
   "execution_count": 8,
   "metadata": {},
   "outputs": [
    {
     "name": "stdout",
     "output_type": "stream",
     "text": [
      "1st matrix\n",
      "SUM =  1.0000000000000002\n",
      "eigenvalues_1\n",
      " [0.0156739 0.0156946 0.0157113 0.0157242 0.0157348 0.0157452 0.0157565\n",
      " 0.0778402 0.0780769 0.0781623 0.0782305 0.0782874 0.0783417 0.14022\n",
      " 0.1403465 0.1404533]\n",
      "sum =  0.9999993\n",
      "\n",
      "2nd matrix\n",
      "SUM =  0.9999999999999998\n",
      "eigenvalues_2\n",
      " [0.0156739 0.0156946 0.0157113 0.0157242 0.0157348 0.0157452 0.0157565\n",
      " 0.0778402 0.0780769 0.0781623 0.0782305 0.0782874 0.0783417 0.14022\n",
      " 0.1403465 0.1404533]\n",
      "sum =  0.9999993\n",
      "\n",
      "common eigenvalues\n",
      " [0.0156739, 0.0156946, 0.0157113, 0.0157242, 0.0157348, 0.0157452, 0.0157565, 0.0778402, 0.0780769, 0.0781623, 0.0782305, 0.0782874, 0.0783417, 0.14022, 0.1403465, 0.1404533]\n",
      "eigenvalues of rho_1 not found in rho_2\n",
      " []\n",
      "eigenvalues of rho_2 not found in rho_1\n",
      " []\n",
      "\n",
      "\n",
      "0 not matched eigenvalues out of 32 (0.00%)\n",
      "\n",
      "\n",
      "time: 43 ms\n"
     ]
    }
   ],
   "source": [
    "decimal_precision = 7\n",
    "compare_eig(final_qutip, final_piqs, decimal_precision, fast=True, verbose=False)"
   ]
  },
  {
   "cell_type": "code",
   "execution_count": 9,
   "metadata": {},
   "outputs": [
    {
     "data": {
      "text/html": [
       "<div>\n",
       "<style scoped>\n",
       "    .dataframe tbody tr th:only-of-type {\n",
       "        vertical-align: middle;\n",
       "    }\n",
       "\n",
       "    .dataframe tbody tr th {\n",
       "        vertical-align: top;\n",
       "    }\n",
       "\n",
       "    .dataframe thead th {\n",
       "        text-align: right;\n",
       "    }\n",
       "</style>\n",
       "<table border=\"1\" class=\"dataframe\">\n",
       "  <thead>\n",
       "    <tr style=\"text-align: right;\">\n",
       "      <th></th>\n",
       "      <th>N</th>\n",
       "      <th>common unique eigenvales</th>\n",
       "      <th>dim uncoupled space</th>\n",
       "      <th>Counter uncoupled</th>\n",
       "      <th>dim dicke space</th>\n",
       "      <th>Counter dicke</th>\n",
       "    </tr>\n",
       "  </thead>\n",
       "  <tbody>\n",
       "    <tr>\n",
       "      <th>0</th>\n",
       "      <td>1</td>\n",
       "      <td>2</td>\n",
       "      <td>2</td>\n",
       "      <td>1,1</td>\n",
       "      <td>2</td>\n",
       "      <td>1,1</td>\n",
       "    </tr>\n",
       "    <tr>\n",
       "      <th>1</th>\n",
       "      <td>2</td>\n",
       "      <td>4</td>\n",
       "      <td>4</td>\n",
       "      <td>1,1,1,1</td>\n",
       "      <td>4</td>\n",
       "      <td>1,1,1,1</td>\n",
       "    </tr>\n",
       "    <tr>\n",
       "      <th>2</th>\n",
       "      <td>3</td>\n",
       "      <td>4</td>\n",
       "      <td>8</td>\n",
       "      <td>2,2,1,1,1,1</td>\n",
       "      <td>6</td>\n",
       "      <td>1,1,1,1,1,1</td>\n",
       "    </tr>\n",
       "    <tr>\n",
       "      <th>3</th>\n",
       "      <td>4</td>\n",
       "      <td>5</td>\n",
       "      <td>16</td>\n",
       "      <td>3,3,3,2,1,1,1,1,1</td>\n",
       "      <td>9</td>\n",
       "      <td>1,1,1,1,1,1,1,1,1</td>\n",
       "    </tr>\n",
       "    <tr>\n",
       "      <th>4</th>\n",
       "      <td>5</td>\n",
       "      <td>6</td>\n",
       "      <td>32</td>\n",
       "      <td>5,5,4,4,4,4,1,1,1,1,1,1</td>\n",
       "      <td>12</td>\n",
       "      <td>1,1,1,1,1,1,1,1,1,1,1</td>\n",
       "    </tr>\n",
       "    <tr>\n",
       "      <th>5</th>\n",
       "      <td>6</td>\n",
       "      <td>7</td>\n",
       "      <td>64</td>\n",
       "      <td>9,9,9,5,5,5,5,5,5,1,1,1,1,1,1,1</td>\n",
       "      <td>16</td>\n",
       "      <td>1,1,1,1,1,1,1,1,1,1,1,1,1,1,1,1</td>\n",
       "    </tr>\n",
       "    <tr>\n",
       "      <th>6</th>\n",
       "      <td>7</td>\n",
       "      <td>8</td>\n",
       "      <td>128</td>\n",
       "      <td>14,14,14,14,14,14,6,6,6,6,6,6,1,1,1,1,1,1,1,1</td>\n",
       "      <td>20</td>\n",
       "      <td>1,1,1,1,1,1,1,1,1,1,1,1,1,1,1,1,1,1,1,1</td>\n",
       "    </tr>\n",
       "    <tr>\n",
       "      <th>7</th>\n",
       "      <td>8</td>\n",
       "      <td>9</td>\n",
       "      <td>256</td>\n",
       "      <td>28,28,28,20,20,20,20,20,14,7,7,7,7,7,1,1,1,1,1...</td>\n",
       "      <td>25</td>\n",
       "      <td>1,1,1,1,1,1,1,1,1,1,1,1,1,1,1,1,1,1,1,1,1,1,1,1,1</td>\n",
       "    </tr>\n",
       "    <tr>\n",
       "      <th>8</th>\n",
       "      <td>9</td>\n",
       "      <td>10</td>\n",
       "      <td>512</td>\n",
       "      <td>48,48,48,48,42,42,27,27,27,27,27,27,8,8,8,8,8,...</td>\n",
       "      <td>30</td>\n",
       "      <td>1,1,1,1,1,1,1,1,1,1,1,1,1,1,1,1,1,1,1,1,1,1,1,...</td>\n",
       "    </tr>\n",
       "  </tbody>\n",
       "</table>\n",
       "</div>"
      ],
      "text/plain": [
       "   N  common unique eigenvales  dim uncoupled space  \\\n",
       "0  1                         2                    2   \n",
       "1  2                         4                    4   \n",
       "2  3                         4                    8   \n",
       "3  4                         5                   16   \n",
       "4  5                         6                   32   \n",
       "5  6                         7                   64   \n",
       "6  7                         8                  128   \n",
       "7  8                         9                  256   \n",
       "8  9                        10                  512   \n",
       "\n",
       "                                   Counter uncoupled  dim dicke space  \\\n",
       "0                                                1,1                2   \n",
       "1                                            1,1,1,1                4   \n",
       "2                                        2,2,1,1,1,1                6   \n",
       "3                                  3,3,3,2,1,1,1,1,1                9   \n",
       "4                            5,5,4,4,4,4,1,1,1,1,1,1               12   \n",
       "5                    9,9,9,5,5,5,5,5,5,1,1,1,1,1,1,1               16   \n",
       "6      14,14,14,14,14,14,6,6,6,6,6,6,1,1,1,1,1,1,1,1               20   \n",
       "7  28,28,28,20,20,20,20,20,14,7,7,7,7,7,1,1,1,1,1...               25   \n",
       "8  48,48,48,48,42,42,27,27,27,27,27,27,8,8,8,8,8,...               30   \n",
       "\n",
       "                                       Counter dicke  \n",
       "0                                                1,1  \n",
       "1                                            1,1,1,1  \n",
       "2                                        1,1,1,1,1,1  \n",
       "3                                  1,1,1,1,1,1,1,1,1  \n",
       "4                              1,1,1,1,1,1,1,1,1,1,1  \n",
       "5                    1,1,1,1,1,1,1,1,1,1,1,1,1,1,1,1  \n",
       "6            1,1,1,1,1,1,1,1,1,1,1,1,1,1,1,1,1,1,1,1  \n",
       "7  1,1,1,1,1,1,1,1,1,1,1,1,1,1,1,1,1,1,1,1,1,1,1,1,1  \n",
       "8  1,1,1,1,1,1,1,1,1,1,1,1,1,1,1,1,1,1,1,1,1,1,1,...  "
      ]
     },
     "execution_count": 9,
     "metadata": {},
     "output_type": "execute_result"
    },
    {
     "name": "stdout",
     "output_type": "stream",
     "text": [
      "time: 58.1 ms\n"
     ]
    }
   ],
   "source": [
    "eigenstates = [[1,2,2,'1,1',2,'1,1'],\n",
    "               [2,4,4,'1,1,1,1',4,'1,1,1,1'],\n",
    "               [3,4,8,'2,2,1,1,1,1',6,'1,1,1,1,1,1'],\n",
    "               [4,5,16,'3,3,3,2,1,1,1,1,1',9,'1,1,1,1,1,1,1,1,1'],\n",
    "               [5,6,32,'5,5,4,4,4,4,1,1,1,1,1,1',12,'1,1,1,1,1,1,1,1,1,1,1'],\n",
    "               [6,7,64,'9,9,9,5,5,5,5,5,5,1,1,1,1,1,1,1',16,'1,1,1,1,1,1,1,1,1,1,1,1,1,1,1,1'],\n",
    "               [7,8,128,'14,14,14,14,14,14,6,6,6,6,6,6,1,1,1,1,1,1,1,1',20,'1,1,1,1,1,1,1,1,1,1,1,1,1,1,1,1,1,1,1,1'],\n",
    "               [8,9,256,'28,28,28,20,20,20,20,20,14,7,7,7,7,7,1,1,1,1,1,1,1,1,1',25,\n",
    "                '1,1,1,1,1,1,1,1,1,1,1,1,1,1,1,1,1,1,1,1,1,1,1,1,1'],\n",
    "               [9,10,512,'48,48,48,48,42,42,27,27,27,27,27,27,8,8,8,8,8,8,8,8,1,1,1,1,1,1,1,1,1,1',30,\n",
    "                '1,1,1,1,1,1,1,1,1,1,1,1,1,1,1,1,1,1,1,1,1,1,1,1,1,1,1,1,1,1']]\n",
    "columns=['N','common unique eigenvales','dim uncoupled space','Counter uncoupled','dim dicke space', 'Counter dicke']\n",
    "pd.DataFrame(eigenstates, columns=columns)"
   ]
  },
  {
   "cell_type": "markdown",
   "metadata": {},
   "source": [
    "### Eigenavalues comparison: two species with bosonic coupling"
   ]
  },
  {
   "cell_type": "code",
   "execution_count": 10,
   "metadata": {
    "scrolled": true
   },
   "outputs": [
    {
     "data": {
      "image/png": "[encoded data removed]",
      "text/plain": [
       "<Figure size 288x216 with 2 Axes>"
      ]
     },
     "metadata": {
      "needs_background": "light"
     },
     "output_type": "display_data"
    },
    {
     "name": "stdout",
     "output_type": "stream",
     "text": [
      "[[0. 0. 0. ... 0. 0. 0.]\n",
      " [0. 0. 0. ... 0. 0. 0.]\n",
      " [0. 0. 0. ... 0. 0. 0.]\n",
      " ...\n",
      " [0. 0. 0. ... 0. 0. 0.]\n",
      " [0. 0. 0. ... 0. 0. 0.]\n",
      " [0. 0. 0. ... 0. 0. 0.]]\n",
      "time: 963 ms\n"
     ]
    }
   ],
   "source": [
    "N1 = 3\n",
    "N2 = 3\n",
    "nphot= 2\n",
    "\n",
    "initial_state_piqs_1 = piqs.ground(N1, 'dicke')\n",
    "initial_state_piqs_2 = piqs.excited(N2, 'dicke')\n",
    "plot_state(tensor(initial_state_piqs_1, initial_state_piqs_2))\n",
    "print(np.real(tensor(initial_state_piqs_1, initial_state_piqs_2)))"
   ]
  },
  {
   "cell_type": "code",
   "execution_count": 11,
   "metadata": {
    "scrolled": true
   },
   "outputs": [
    {
     "data": {
      "image/png": "[encoded data removed]",
      "text/plain": [
       "<Figure size 288x216 with 2 Axes>"
      ]
     },
     "metadata": {
      "needs_background": "light"
     },
     "output_type": "display_data"
    },
    {
     "name": "stdout",
     "output_type": "stream",
     "text": [
      "[[0. 0. 0. ... 0. 0. 0.]\n",
      " [0. 0. 0. ... 0. 0. 0.]\n",
      " [0. 0. 0. ... 0. 0. 0.]\n",
      " ...\n",
      " [0. 0. 0. ... 0. 0. 0.]\n",
      " [0. 0. 0. ... 0. 0. 0.]\n",
      " [0. 0. 0. ... 0. 0. 0.]]\n",
      "time: 826 ms\n"
     ]
    }
   ],
   "source": [
    "initial_state_qutip_1 = piqs.ground(N1, 'uncoupled')\n",
    "initial_state_qutip_2 = piqs.excited(N2, 'uncoupled')\n",
    "plot_state(tensor(initial_state_qutip_1, initial_state_qutip_2))\n",
    "print(np.real(tensor(initial_state_qutip_1, initial_state_qutip_2)))"
   ]
  },
  {
   "cell_type": "code",
   "execution_count": 12,
   "metadata": {
    "scrolled": true
   },
   "outputs": [
    {
     "name": "stdout",
     "output_type": "stream",
     "text": [
      "[[ 1.56217285e-02  1.05387306e-06 -3.00529686e-10 ...  0.00000000e+00\n",
      "   0.00000000e+00  0.00000000e+00]\n",
      " [ 1.05387306e-06  1.56276599e-02  1.24219636e-06 ...  0.00000000e+00\n",
      "   0.00000000e+00  0.00000000e+00]\n",
      " [-3.00529686e-10  1.24219636e-06  1.56328349e-02 ...  0.00000000e+00\n",
      "   0.00000000e+00  0.00000000e+00]\n",
      " ...\n",
      " [ 0.00000000e+00  0.00000000e+00  0.00000000e+00 ...  3.12399616e-02\n",
      "   0.00000000e+00  0.00000000e+00]\n",
      " [ 0.00000000e+00  0.00000000e+00  0.00000000e+00 ...  0.00000000e+00\n",
      "   6.24806356e-02  2.38294604e-06]\n",
      " [ 0.00000000e+00  0.00000000e+00  0.00000000e+00 ...  0.00000000e+00\n",
      "   2.38294604e-06  6.24664409e-02]]\n",
      "time: 2.61 s\n"
     ]
    }
   ],
   "source": [
    "piqs_state = library.two_species_piqs_mesolve(N1,N2,initial_state_piqs_1,initial_state_piqs_2)[-1]\n",
    "print(np.real(piqs_state))"
   ]
  },
  {
   "cell_type": "code",
   "execution_count": 13,
   "metadata": {
    "scrolled": true
   },
   "outputs": [
    {
     "name": "stdout",
     "output_type": "stream",
     "text": [
      "[[1.56217288e-02 6.08452606e-07 6.08452606e-07 ... 1.25997134e-21\n",
      "  1.25997748e-21 3.47883531e-25]\n",
      " [6.08452606e-07 1.56225407e-02 2.55985457e-06 ... 3.00365688e-17\n",
      "  1.06009247e-20 1.25885676e-21]\n",
      " [6.08452606e-07 2.55985457e-06 1.56225407e-02 ... 1.06009234e-20\n",
      "  3.00365688e-17 1.25885087e-21]\n",
      " ...\n",
      " [1.25997222e-21 3.00365689e-17 1.06009145e-20 ... 1.56252779e-02\n",
      "  2.55999721e-06 5.96000904e-07]\n",
      " [1.25997810e-21 1.06009148e-20 3.00365689e-17 ... 2.55999721e-06\n",
      "  1.56252779e-02 5.96000904e-07]\n",
      " [3.47885303e-25 1.25885747e-21 1.25885175e-21 ... 5.96000904e-07\n",
      "  5.96000904e-07 1.56217288e-02]]\n",
      "time: 17.3 s\n"
     ]
    }
   ],
   "source": [
    "qutip_state = library.two_species_qutip_mesolve(N1,N2,initial_state_qutip_1,initial_state_qutip_2)[-1]\n",
    "print(np.real(qutip_state))"
   ]
  },
  {
   "cell_type": "code",
   "execution_count": 14,
   "metadata": {
    "scrolled": false
   },
   "outputs": [
    {
     "name": "stdout",
     "output_type": "stream",
     "text": [
      "1st matrix\n",
      "SUM =  1.0\n",
      "eigenvalues_1\n",
      " [0.01562051 0.01562059 0.01562075 0.01562103 0.01562104 0.01563431\n",
      " 0.01563506 0.01563547 0.01563657 0.01563659 0.01564393 0.01564627\n",
      " 0.01564753 0.01565408 0.03124303 0.06246227 0.06246561 0.06246644\n",
      " 0.06247633 0.06247894 0.06248337 0.06248865 0.06248886 0.06249425\n",
      " 0.06251294 0.06252631 0.06253913]\n",
      "sum =  0.99999986\n",
      "\n",
      "2nd matrix\n",
      "SUM =  1.0000000000000004\n",
      "eigenvalues_2\n",
      " [0.01562051 0.01562059 0.01562075 0.01562103 0.01562104 0.01563431\n",
      " 0.01563506 0.01563547 0.01563657 0.01563659 0.01564393 0.01564627\n",
      " 0.01564753 0.01565408 0.03124303 0.06246227 0.06246561 0.06246644\n",
      " 0.06247633 0.06247894 0.06248337 0.06248865 0.06248886 0.06249425\n",
      " 0.06251294 0.06252631 0.06253913]\n",
      "sum =  0.99999986\n",
      "\n",
      "common eigenvalues\n",
      " [0.01562051, 0.01562059, 0.01562075, 0.01562103, 0.01562104, 0.01563431, 0.01563506, 0.01563547, 0.01563657, 0.01563659, 0.01564393, 0.01564627, 0.01564753, 0.01565408, 0.03124303, 0.06246227, 0.06246561, 0.06246644, 0.06247633, 0.06247894, 0.06248337, 0.06248865, 0.06248886, 0.06249425, 0.06251294, 0.06252631, 0.06253913]\n",
      "eigenvalues of rho_1 not found in rho_2\n",
      " []\n",
      "eigenvalues of rho_2 not found in rho_1\n",
      " []\n",
      "\n",
      "\n",
      "0 not matched eigenvalues out of 54 (0.00%)\n",
      "\n",
      "\n",
      "time: 45.3 ms\n"
     ]
    }
   ],
   "source": [
    "decimal_precision = 8\n",
    "compare_eig(piqs_state, qutip_state, decimal_precision, fast=True, verbose=False)"
   ]
  },
  {
   "cell_type": "code",
   "execution_count": null,
   "metadata": {},
   "outputs": [],
   "source": []
  }
 ],
 "metadata": {
  "kernelspec": {
   "display_name": "tiqi_semester",
   "language": "python",
   "name": "tiqi_semester"
  },
  "language_info": {
   "codemirror_mode": {
    "name": "ipython",
    "version": 3
   },
   "file_extension": ".py",
   "mimetype": "text/x-python",
   "name": "python",
   "nbconvert_exporter": "python",
   "pygments_lexer": "ipython3",
   "version": "3.7.9"
  }
 },
 "nbformat": 4,
 "nbformat_minor": 4
}
